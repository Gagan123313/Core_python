{
 "cells": [
  {
   "cell_type": "markdown",
   "id": "5d498d99-d676-465f-8366-fb1d3cb728cc",
   "metadata": {},
   "source": [
    "# list (mutable)"
   ]
  },
  {
   "cell_type": "code",
   "execution_count": 5,
   "id": "7c93bd42-b116-4bcf-b60a-cf97d2ce5432",
   "metadata": {},
   "outputs": [
    {
     "data": {
      "text/plain": [
       "list"
      ]
     },
     "execution_count": 5,
     "metadata": {},
     "output_type": "execute_result"
    }
   ],
   "source": [
    "l = []\n",
    "type(l)"
   ]
  },
  {
   "cell_type": "code",
   "execution_count": 59,
   "id": "e1397dd6-02b3-4625-a708-b257fff3a553",
   "metadata": {},
   "outputs": [
    {
     "data": {
      "text/plain": [
       "[3, 4, 5, 6, 7, 4]"
      ]
     },
     "execution_count": 59,
     "metadata": {},
     "output_type": "execute_result"
    }
   ],
   "source": [
    "l2 = [ 3,4,5,6,7]\n",
    "l2.append(4)\n",
    "l2"
   ]
  },
  {
   "cell_type": "code",
   "execution_count": 67,
   "id": "4b566b51-37f7-4bfe-9d8b-5e28072f56a6",
   "metadata": {},
   "outputs": [
    {
     "data": {
      "text/plain": [
       "[3, 4]"
      ]
     },
     "execution_count": 67,
     "metadata": {},
     "output_type": "execute_result"
    }
   ],
   "source": [
    "l2.pop(2)  # pop taking a index which element you want to remove \n",
    "l2"
   ]
  },
  {
   "cell_type": "code",
   "execution_count": 17,
   "id": "3b466553-f3ba-40f6-b794-22e2b90d3f5a",
   "metadata": {},
   "outputs": [
    {
     "data": {
      "text/plain": [
       "[3, 4, 6, 7, 4]"
      ]
     },
     "execution_count": 17,
     "metadata": {},
     "output_type": "execute_result"
    }
   ],
   "source": [
    "l2"
   ]
  },
  {
   "cell_type": "code",
   "execution_count": 19,
   "id": "dc18440d-6510-4667-864e-d57d3563ea65",
   "metadata": {},
   "outputs": [
    {
     "data": {
      "text/plain": [
       "5"
      ]
     },
     "execution_count": 19,
     "metadata": {},
     "output_type": "execute_result"
    }
   ],
   "source": [
    "len(l2) # it return total no element in the list "
   ]
  },
  {
   "cell_type": "code",
   "execution_count": 37,
   "id": "d4aadabd-29fa-49ad-bdbe-594b0a426a00",
   "metadata": {},
   "outputs": [
    {
     "data": {
      "text/plain": [
       "[3, 4, 5, 5.5, 6.6, 'first', 'second']"
      ]
     },
     "execution_count": 37,
     "metadata": {},
     "output_type": "execute_result"
    }
   ],
   "source": [
    "l3 = [ 3,4,5,5.5,6.6,'first','second',True ]\n",
    "l3.remove(True)\n",
    "l3"
   ]
  },
  {
   "cell_type": "code",
   "execution_count": 51,
   "id": "0ddd153b-7691-425d-b4bb-c5e00b6f1253",
   "metadata": {},
   "outputs": [
    {
     "data": {
      "text/plain": [
       "[3, 4, 5, 6.6, 'second']"
      ]
     },
     "execution_count": 51,
     "metadata": {},
     "output_type": "execute_result"
    }
   ],
   "source": [
    "l3.remove(5.5)\n",
    "l3"
   ]
  },
  {
   "cell_type": "code",
   "execution_count": 53,
   "id": "f0aab5c5-8d41-481c-8c25-dc304788b703",
   "metadata": {},
   "outputs": [
    {
     "data": {
      "text/plain": [
       "[3, 4, 5, 6.6]"
      ]
     },
     "execution_count": 53,
     "metadata": {},
     "output_type": "execute_result"
    }
   ],
   "source": [
    "l3.remove('second')\n",
    "l3"
   ]
  },
  {
   "cell_type": "code",
   "execution_count": 77,
   "id": "f3bc7705-c366-4286-8f6b-9e71f80bfe3b",
   "metadata": {},
   "outputs": [
    {
     "data": {
      "text/plain": [
       "1"
      ]
     },
     "execution_count": 77,
     "metadata": {},
     "output_type": "execute_result"
    }
   ],
   "source": [
    "l3.count(4) # which time element repeted it count that particular element "
   ]
  },
  {
   "cell_type": "code",
   "execution_count": 83,
   "id": "f684c6e8-ab12-4637-bd1d-a79c65abf2a5",
   "metadata": {},
   "outputs": [
    {
     "data": {
      "text/plain": [
       "[3, 4, 5, 6.6]"
      ]
     },
     "execution_count": 83,
     "metadata": {},
     "output_type": "execute_result"
    }
   ],
   "source": [
    "l3.sort()\n",
    "l3"
   ]
  },
  {
   "cell_type": "code",
   "execution_count": 119,
   "id": "d98c68af-2b84-4a9f-88cc-09079bbbfa41",
   "metadata": {},
   "outputs": [
    {
     "data": {
      "text/plain": [
       "[3, 3.3, 4, 4.4, 5, 7, 9]"
      ]
     },
     "execution_count": 119,
     "metadata": {},
     "output_type": "execute_result"
    }
   ],
   "source": [
    "l4 = [3,4,5,3.3,4.4,7,9]\n",
    "l4.sort()\n",
    "l4"
   ]
  },
  {
   "cell_type": "code",
   "execution_count": 121,
   "id": "b1b7c1f6-9e81-4716-8dda-534fd5faea76",
   "metadata": {},
   "outputs": [
    {
     "data": {
      "text/plain": [
       "1876260254400"
      ]
     },
     "execution_count": 121,
     "metadata": {},
     "output_type": "execute_result"
    }
   ],
   "source": [
    "id(l4)"
   ]
  },
  {
   "cell_type": "code",
   "execution_count": 125,
   "id": "7ff5b238-d59c-4ec2-bba6-f0e8a3b78f96",
   "metadata": {},
   "outputs": [
    {
     "data": {
      "text/plain": [
       "[3, 3.3, 4, 4.4, 5, 7, 9, 99, 99]"
      ]
     },
     "execution_count": 125,
     "metadata": {},
     "output_type": "execute_result"
    }
   ],
   "source": [
    "l4.insert(77,99) # first argument is index and second argument will be made member of the list \n",
    "l4"
   ]
  },
  {
   "cell_type": "code",
   "execution_count": 137,
   "id": "971a5105-b924-4bcd-8f69-55fd165e206a",
   "metadata": {},
   "outputs": [
    {
     "data": {
      "text/plain": [
       "[3, 3.3, 4, 4.4, 5, 7, 9, 99, 99, 33, 44, 55, 66, 33, 44, 55, 66]"
      ]
     },
     "execution_count": 137,
     "metadata": {},
     "output_type": "execute_result"
    }
   ],
   "source": [
    "l4.extend([33,44,55,66]) # add multiple argument which is in the another list,tuple,str and other \n",
    "l4"
   ]
  },
  {
   "cell_type": "markdown",
   "id": "0bd40d5e-2f32-472f-86a3-f00e1fa7aa68",
   "metadata": {},
   "source": [
    "slicinf of the list"
   ]
  },
  {
   "cell_type": "code",
   "execution_count": 143,
   "id": "e2b84b0a-9ca0-40e2-b7f2-2c43dec82450",
   "metadata": {},
   "outputs": [
    {
     "data": {
      "text/plain": [
       "[4, 5, 6, 4, 5, '4.4']"
      ]
     },
     "execution_count": 143,
     "metadata": {},
     "output_type": "execute_result"
    }
   ],
   "source": [
    "l5 = [4,5,6,4,5,\"4.4\"]\n",
    "l5[3:4]\n",
    "l5\n"
   ]
  },
  {
   "cell_type": "code",
   "execution_count": 145,
   "id": "c80ee3e2-8f27-46e9-a6dd-5511fb523a7e",
   "metadata": {},
   "outputs": [
    {
     "data": {
      "text/plain": [
       "[4, 5, 6, 4, 5, '4.4']"
      ]
     },
     "execution_count": 145,
     "metadata": {},
     "output_type": "execute_result"
    }
   ],
   "source": [
    "l5[3:3] # if i pass same index for slicing it give output\n",
    "l5"
   ]
  },
  {
   "cell_type": "code",
   "execution_count": 147,
   "id": "ea28692f-95da-4e5f-b5a1-52ba4c660d89",
   "metadata": {},
   "outputs": [
    {
     "data": {
      "text/plain": [
       "[4, 5, 6, 4, 5, '4.4']"
      ]
     },
     "execution_count": 147,
     "metadata": {},
     "output_type": "execute_result"
    }
   ],
   "source": [
    "l5[::5]\n",
    "l5"
   ]
  },
  {
   "cell_type": "markdown",
   "id": "fe81f932-5a3f-4c88-a640-a92aa536a385",
   "metadata": {},
   "source": [
    "indexing"
   ]
  },
  {
   "cell_type": "code",
   "execution_count": 149,
   "id": "2df73ef3-2a11-4b81-9d73-94dfd50443b4",
   "metadata": {},
   "outputs": [
    {
     "data": {
      "text/plain": [
       "[4, 5, 6, 4, 5, '4.4']"
      ]
     },
     "execution_count": 149,
     "metadata": {},
     "output_type": "execute_result"
    }
   ],
   "source": [
    "l5"
   ]
  },
  {
   "cell_type": "code",
   "execution_count": 151,
   "id": "9223b25c-1061-4715-aea4-b36befed6dc3",
   "metadata": {},
   "outputs": [
    {
     "data": {
      "text/plain": [
       "5"
      ]
     },
     "execution_count": 151,
     "metadata": {},
     "output_type": "execute_result"
    }
   ],
   "source": [
    "l5[4]"
   ]
  },
  {
   "cell_type": "code",
   "execution_count": null,
   "id": "1ac5593c-09bb-48fc-8325-f09a24ee665a",
   "metadata": {},
   "outputs": [],
   "source": [
    "mathmatical operations"
   ]
  },
  {
   "cell_type": "code",
   "execution_count": 153,
   "id": "9a412e46-c149-4ed4-9a8c-91a885a22a57",
   "metadata": {},
   "outputs": [
    {
     "data": {
      "text/plain": [
       "[0, 1, 4, 9, 16]"
      ]
     },
     "execution_count": 153,
     "metadata": {},
     "output_type": "execute_result"
    }
   ],
   "source": [
    "squre = [ x**2 for x in range(5) ]\n",
    "squre"
   ]
  },
  {
   "cell_type": "code",
   "execution_count": 155,
   "id": "85423df0-f1d2-4512-8fd6-346fe8d8ea69",
   "metadata": {},
   "outputs": [
    {
     "data": {
      "text/plain": [
       "[4,\n",
       " 5,\n",
       " 6,\n",
       " 4,\n",
       " 5,\n",
       " '4.4',\n",
       " 3,\n",
       " 3.3,\n",
       " 4,\n",
       " 4.4,\n",
       " 5,\n",
       " 7,\n",
       " 9,\n",
       " 99,\n",
       " 99,\n",
       " 33,\n",
       " 44,\n",
       " 55,\n",
       " 66,\n",
       " 33,\n",
       " 44,\n",
       " 55,\n",
       " 66]"
      ]
     },
     "execution_count": 155,
     "metadata": {},
     "output_type": "execute_result"
    }
   ],
   "source": [
    "l5 + l4"
   ]
  },
  {
   "cell_type": "code",
   "execution_count": null,
   "id": "98b626f5-1fa3-447d-a08e-35595e52fd6b",
   "metadata": {},
   "outputs": [],
   "source": []
  },
  {
   "cell_type": "code",
   "execution_count": null,
   "id": "e703c9dd-fd88-4dda-a9b6-a8afa94fc4db",
   "metadata": {},
   "outputs": [],
   "source": []
  },
  {
   "cell_type": "code",
   "execution_count": null,
   "id": "463da193-eb45-4889-904c-4b24052ee8bd",
   "metadata": {},
   "outputs": [],
   "source": []
  },
  {
   "cell_type": "code",
   "execution_count": null,
   "id": "13f8ff7b-19c2-436c-af75-6caabafe88c5",
   "metadata": {},
   "outputs": [],
   "source": []
  },
  {
   "cell_type": "code",
   "execution_count": null,
   "id": "d8809464-da43-4063-9389-be645a37b7c0",
   "metadata": {},
   "outputs": [],
   "source": []
  },
  {
   "cell_type": "code",
   "execution_count": null,
   "id": "882cae75-8d56-4107-8a2e-07db3609fe3f",
   "metadata": {},
   "outputs": [],
   "source": []
  },
  {
   "cell_type": "code",
   "execution_count": null,
   "id": "fb535596-5780-4315-afb8-72caea06c99b",
   "metadata": {},
   "outputs": [],
   "source": []
  }
 ],
 "metadata": {
  "kernelspec": {
   "display_name": "Python [conda env:base] *",
   "language": "python",
   "name": "conda-base-py"
  },
  "language_info": {
   "codemirror_mode": {
    "name": "ipython",
    "version": 3
   },
   "file_extension": ".py",
   "mimetype": "text/x-python",
   "name": "python",
   "nbconvert_exporter": "python",
   "pygments_lexer": "ipython3",
   "version": "3.12.7"
  }
 },
 "nbformat": 4,
 "nbformat_minor": 5
}
