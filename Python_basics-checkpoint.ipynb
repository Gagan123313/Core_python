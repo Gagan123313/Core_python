{
 "cells": [
  {
   "cell_type": "markdown",
   "id": "5d498d99-d676-465f-8366-fb1d3cb728cc",
   "metadata": {},
   "source": [
    "# list (mutable)"
   ]
  },
  {
   "cell_type": "code",
   "execution_count": 5,
   "id": "7c93bd42-b116-4bcf-b60a-cf97d2ce5432",
   "metadata": {},
   "outputs": [
    {
     "data": {
      "text/plain": [
       "list"
      ]
     },
     "execution_count": 5,
     "metadata": {},
     "output_type": "execute_result"
    }
   ],
   "source": [
    "l = []\n",
    "type(l)"
   ]
  },
  {
   "cell_type": "code",
   "execution_count": 59,
   "id": "e1397dd6-02b3-4625-a708-b257fff3a553",
   "metadata": {},
   "outputs": [
    {
     "data": {
      "text/plain": [
       "[3, 4, 5, 6, 7, 4]"
      ]
     },
     "execution_count": 59,
     "metadata": {},
     "output_type": "execute_result"
    }
   ],
   "source": [
    "l2 = [ 3,4,5,6,7]\n",
    "l2.append(4)\n",
    "l2"
   ]
  },
  {
   "cell_type": "code",
   "execution_count": 67,
   "id": "4b566b51-37f7-4bfe-9d8b-5e28072f56a6",
   "metadata": {},
   "outputs": [
    {
     "data": {
      "text/plain": [
       "[3, 4]"
      ]
     },
     "execution_count": 67,
     "metadata": {},
     "output_type": "execute_result"
    }
   ],
   "source": [
    "l2.pop(2)  # pop taking a index which element you want to remove \n",
    "l2"
   ]
  },
  {
   "cell_type": "code",
   "execution_count": 17,
   "id": "3b466553-f3ba-40f6-b794-22e2b90d3f5a",
   "metadata": {},
   "outputs": [
    {
     "data": {
      "text/plain": [
       "[3, 4, 6, 7, 4]"
      ]
     },
     "execution_count": 17,
     "metadata": {},
     "output_type": "execute_result"
    }
   ],
   "source": [
    "l2"
   ]
  },
  {
   "cell_type": "code",
   "execution_count": 19,
   "id": "dc18440d-6510-4667-864e-d57d3563ea65",
   "metadata": {},
   "outputs": [
    {
     "data": {
      "text/plain": [
       "5"
      ]
     },
     "execution_count": 19,
     "metadata": {},
     "output_type": "execute_result"
    }
   ],
   "source": [
    "len(l2) # it return total no element in the list "
   ]
  },
  {
   "cell_type": "code",
   "execution_count": 10,
   "id": "d4aadabd-29fa-49ad-bdbe-594b0a426a00",
   "metadata": {},
   "outputs": [],
   "source": [
    "l3 = [ 3,4,5,5.5,6.6,'first','second',True ]"
   ]
  },
  {
   "cell_type": "code",
   "execution_count": 12,
   "id": "ab2a6287-b21d-4d48-aeb5-625150f406de",
   "metadata": {},
   "outputs": [
    {
     "data": {
      "text/plain": [
       "[3, 4, 5, 5.5, 6.6, 'first', 'second']"
      ]
     },
     "execution_count": 12,
     "metadata": {},
     "output_type": "execute_result"
    }
   ],
   "source": [
    "l3.remove(True)\n",
    "l3"
   ]
  },
  {
   "cell_type": "code",
   "execution_count": 51,
   "id": "0ddd153b-7691-425d-b4bb-c5e00b6f1253",
   "metadata": {},
   "outputs": [
    {
     "data": {
      "text/plain": [
       "[3, 4, 5, 6.6, 'second']"
      ]
     },
     "execution_count": 51,
     "metadata": {},
     "output_type": "execute_result"
    }
   ],
   "source": [
    "l3.remove(5.5)\n",
    "l3"
   ]
  },
  {
   "cell_type": "code",
   "execution_count": 77,
   "id": "f3bc7705-c366-4286-8f6b-9e71f80bfe3b",
   "metadata": {},
   "outputs": [
    {
     "data": {
      "text/plain": [
       "1"
      ]
     },
     "execution_count": 77,
     "metadata": {},
     "output_type": "execute_result"
    }
   ],
   "source": [
    "l3.count(4) # which time element repeted it count that particular element "
   ]
  },
  {
   "cell_type": "code",
   "execution_count": 83,
   "id": "f684c6e8-ab12-4637-bd1d-a79c65abf2a5",
   "metadata": {},
   "outputs": [
    {
     "data": {
      "text/plain": [
       "[3, 4, 5, 6.6]"
      ]
     },
     "execution_count": 83,
     "metadata": {},
     "output_type": "execute_result"
    }
   ],
   "source": [
    "l3.sort()\n",
    "l3"
   ]
  },
  {
   "cell_type": "code",
   "execution_count": 119,
   "id": "d98c68af-2b84-4a9f-88cc-09079bbbfa41",
   "metadata": {},
   "outputs": [
    {
     "data": {
      "text/plain": [
       "[3, 3.3, 4, 4.4, 5, 7, 9]"
      ]
     },
     "execution_count": 119,
     "metadata": {},
     "output_type": "execute_result"
    }
   ],
   "source": [
    "l4 = [3,4,5,3.3,4.4,7,9]\n",
    "l4.sort()\n",
    "l4"
   ]
  },
  {
   "cell_type": "code",
   "execution_count": 121,
   "id": "b1b7c1f6-9e81-4716-8dda-534fd5faea76",
   "metadata": {},
   "outputs": [
    {
     "data": {
      "text/plain": [
       "1876260254400"
      ]
     },
     "execution_count": 121,
     "metadata": {},
     "output_type": "execute_result"
    }
   ],
   "source": [
    "id(l4)"
   ]
  },
  {
   "cell_type": "code",
   "execution_count": 125,
   "id": "7ff5b238-d59c-4ec2-bba6-f0e8a3b78f96",
   "metadata": {},
   "outputs": [
    {
     "data": {
      "text/plain": [
       "[3, 3.3, 4, 4.4, 5, 7, 9, 99, 99]"
      ]
     },
     "execution_count": 125,
     "metadata": {},
     "output_type": "execute_result"
    }
   ],
   "source": [
    "l4.insert(77,99) # first argument is index and second argument will be made member of the list \n",
    "l4"
   ]
  },
  {
   "cell_type": "code",
   "execution_count": 137,
   "id": "971a5105-b924-4bcd-8f69-55fd165e206a",
   "metadata": {},
   "outputs": [
    {
     "data": {
      "text/plain": [
       "[3, 3.3, 4, 4.4, 5, 7, 9, 99, 99, 33, 44, 55, 66, 33, 44, 55, 66]"
      ]
     },
     "execution_count": 137,
     "metadata": {},
     "output_type": "execute_result"
    }
   ],
   "source": [
    "l4.extend([33,44,55,66]) # add multiple argument which is in the another list,tuple,str and other \n",
    "l4"
   ]
  },
  {
   "cell_type": "markdown",
   "id": "0bd40d5e-2f32-472f-86a3-f00e1fa7aa68",
   "metadata": {},
   "source": [
    "slicinf of the list"
   ]
  },
  {
   "cell_type": "code",
   "execution_count": 143,
   "id": "e2b84b0a-9ca0-40e2-b7f2-2c43dec82450",
   "metadata": {},
   "outputs": [
    {
     "data": {
      "text/plain": [
       "[4, 5, 6, 4, 5, '4.4']"
      ]
     },
     "execution_count": 143,
     "metadata": {},
     "output_type": "execute_result"
    }
   ],
   "source": [
    "l5 = [4,5,6,4,5,\"4.4\"]\n",
    "l5[3:4]\n",
    "l5\n"
   ]
  },
  {
   "cell_type": "code",
   "execution_count": 145,
   "id": "c80ee3e2-8f27-46e9-a6dd-5511fb523a7e",
   "metadata": {},
   "outputs": [
    {
     "data": {
      "text/plain": [
       "[4, 5, 6, 4, 5, '4.4']"
      ]
     },
     "execution_count": 145,
     "metadata": {},
     "output_type": "execute_result"
    }
   ],
   "source": [
    "l5[3:3] # if i pass same index for slicing it give output\n",
    "l5"
   ]
  },
  {
   "cell_type": "code",
   "execution_count": 147,
   "id": "ea28692f-95da-4e5f-b5a1-52ba4c660d89",
   "metadata": {},
   "outputs": [
    {
     "data": {
      "text/plain": [
       "[4, 5, 6, 4, 5, '4.4']"
      ]
     },
     "execution_count": 147,
     "metadata": {},
     "output_type": "execute_result"
    }
   ],
   "source": [
    "l5[::5]\n",
    "l5"
   ]
  },
  {
   "cell_type": "markdown",
   "id": "fe81f932-5a3f-4c88-a640-a92aa536a385",
   "metadata": {},
   "source": [
    "indexing"
   ]
  },
  {
   "cell_type": "code",
   "execution_count": 149,
   "id": "2df73ef3-2a11-4b81-9d73-94dfd50443b4",
   "metadata": {},
   "outputs": [
    {
     "data": {
      "text/plain": [
       "[4, 5, 6, 4, 5, '4.4']"
      ]
     },
     "execution_count": 149,
     "metadata": {},
     "output_type": "execute_result"
    }
   ],
   "source": [
    "l5"
   ]
  },
  {
   "cell_type": "code",
   "execution_count": 151,
   "id": "9223b25c-1061-4715-aea4-b36befed6dc3",
   "metadata": {},
   "outputs": [
    {
     "data": {
      "text/plain": [
       "5"
      ]
     },
     "execution_count": 151,
     "metadata": {},
     "output_type": "execute_result"
    }
   ],
   "source": [
    "l5[4]"
   ]
  },
  {
   "cell_type": "code",
   "execution_count": null,
   "id": "1ac5593c-09bb-48fc-8325-f09a24ee665a",
   "metadata": {},
   "outputs": [],
   "source": [
    "mathmatical operations"
   ]
  },
  {
   "cell_type": "code",
   "execution_count": 153,
   "id": "9a412e46-c149-4ed4-9a8c-91a885a22a57",
   "metadata": {},
   "outputs": [
    {
     "data": {
      "text/plain": [
       "[0, 1, 4, 9, 16]"
      ]
     },
     "execution_count": 153,
     "metadata": {},
     "output_type": "execute_result"
    }
   ],
   "source": [
    "squre = [ x**2 for x in range(5) ]\n",
    "squre"
   ]
  },
  {
   "cell_type": "code",
   "execution_count": 155,
   "id": "85423df0-f1d2-4512-8fd6-346fe8d8ea69",
   "metadata": {},
   "outputs": [
    {
     "data": {
      "text/plain": [
       "[4,\n",
       " 5,\n",
       " 6,\n",
       " 4,\n",
       " 5,\n",
       " '4.4',\n",
       " 3,\n",
       " 3.3,\n",
       " 4,\n",
       " 4.4,\n",
       " 5,\n",
       " 7,\n",
       " 9,\n",
       " 99,\n",
       " 99,\n",
       " 33,\n",
       " 44,\n",
       " 55,\n",
       " 66,\n",
       " 33,\n",
       " 44,\n",
       " 55,\n",
       " 66]"
      ]
     },
     "execution_count": 155,
     "metadata": {},
     "output_type": "execute_result"
    }
   ],
   "source": [
    "l5 + l4"
   ]
  },
  {
   "cell_type": "markdown",
   "id": "507be4d1-8e6e-491b-9c51-092b07185eb1",
   "metadata": {},
   "source": [
    "# tuple "
   ]
  },
  {
   "cell_type": "markdown",
   "id": "9f8cba5a-b5d7-4a7f-9973-e03de485bb31",
   "metadata": {},
   "source": [
    "### tuple creation"
   ]
  },
  {
   "cell_type": "code",
   "execution_count": 27,
   "id": "463da193-eb45-4889-904c-4b24052ee8bd",
   "metadata": {},
   "outputs": [
    {
     "data": {
      "text/plain": [
       "(3, 4, 5, 6, 7, 9)"
      ]
     },
     "execution_count": 27,
     "metadata": {},
     "output_type": "execute_result"
    }
   ],
   "source": [
    "tup = (3,4,5,6,7,9)\n",
    "tup"
   ]
  },
  {
   "cell_type": "code",
   "execution_count": 20,
   "id": "13f8ff7b-19c2-436c-af75-6caabafe88c5",
   "metadata": {},
   "outputs": [
    {
     "data": {
      "text/plain": [
       "tuple"
      ]
     },
     "execution_count": 20,
     "metadata": {},
     "output_type": "execute_result"
    }
   ],
   "source": [
    "type(tup)"
   ]
  },
  {
   "cell_type": "code",
   "execution_count": 9,
   "id": "d8809464-da43-4063-9389-be645a37b7c0",
   "metadata": {},
   "outputs": [
    {
     "data": {
      "text/plain": [
       "(3, 4, 5, 6)"
      ]
     },
     "execution_count": 9,
     "metadata": {},
     "output_type": "execute_result"
    }
   ],
   "source": [
    "a,b,c,d =3,4,5,6     # tuple create with variable \n",
    "my_tuple = tuple([a,b,c,d])\n",
    "my_tuple"
   ]
  },
  {
   "cell_type": "code",
   "execution_count": 11,
   "id": "882cae75-8d56-4107-8a2e-07db3609fe3f",
   "metadata": {},
   "outputs": [
    {
     "data": {
      "text/plain": [
       "tuple"
      ]
     },
     "execution_count": 11,
     "metadata": {},
     "output_type": "execute_result"
    }
   ],
   "source": [
    "empty_tup = () # create empty tuple \n",
    "type(empty_tup)"
   ]
  },
  {
   "cell_type": "code",
   "execution_count": 29,
   "id": "81c09828-062b-49d6-a2ed-43c5e1d9ec1b",
   "metadata": {},
   "outputs": [
    {
     "data": {
      "text/plain": [
       "(3, 4, 5, 6, 7, 9)"
      ]
     },
     "execution_count": 29,
     "metadata": {},
     "output_type": "execute_result"
    }
   ],
   "source": [
    "tup"
   ]
  },
  {
   "cell_type": "code",
   "execution_count": 33,
   "id": "5afdf8b6-551c-41b7-af7d-aa3550e823ab",
   "metadata": {},
   "outputs": [
    {
     "data": {
      "text/plain": [
       "6"
      ]
     },
     "execution_count": 33,
     "metadata": {},
     "output_type": "execute_result"
    }
   ],
   "source": [
    "len(tup) # whih element in the tuple"
   ]
  },
  {
   "cell_type": "code",
   "execution_count": 39,
   "id": "585e9d44-1245-471c-a118-2a28b718c784",
   "metadata": {},
   "outputs": [
    {
     "data": {
      "text/plain": [
       "1"
      ]
     },
     "execution_count": 39,
     "metadata": {},
     "output_type": "execute_result"
    }
   ],
   "source": [
    "tup.count(4) # repetation in tuple of 4"
   ]
  },
  {
   "cell_type": "code",
   "execution_count": 43,
   "id": "11639d7b-3547-4afd-b4b5-fac22f600aa5",
   "metadata": {},
   "outputs": [
    {
     "data": {
      "text/plain": [
       "3"
      ]
     },
     "execution_count": 43,
     "metadata": {},
     "output_type": "execute_result"
    }
   ],
   "source": [
    "tup.index(6) # it give you index no of the given value"
   ]
  },
  {
   "cell_type": "code",
   "execution_count": 47,
   "id": "ac68832d-7b37-4b69-8a87-21b9c2a3dbd2",
   "metadata": {},
   "outputs": [
    {
     "name": "stdout",
     "output_type": "stream",
     "text": [
      "(0, 3)\n",
      "(1, 4)\n",
      "(2, 5)\n",
      "(3, 6)\n",
      "(4, 7)\n",
      "(5, 9)\n"
     ]
    }
   ],
   "source": [
    "for i in enumerate (tup):  # it print all element with index no \n",
    "    print(i)\n"
   ]
  },
  {
   "cell_type": "code",
   "execution_count": 108,
   "id": "87cd2080-6691-4b2a-a5a0-d824721691e8",
   "metadata": {},
   "outputs": [],
   "source": [
    "tup_2 = (3,4,5,6,(4,5,6,3))"
   ]
  },
  {
   "cell_type": "code",
   "execution_count": 100,
   "id": "e74bd549-1e50-4aea-a3ea-4a3965005e87",
   "metadata": {},
   "outputs": [
    {
     "data": {
      "text/plain": [
       "(3, 4, 5, 6, (4, 5, 6, 3))"
      ]
     },
     "execution_count": 100,
     "metadata": {},
     "output_type": "execute_result"
    }
   ],
   "source": [
    "tup_2"
   ]
  },
  {
   "cell_type": "code",
   "execution_count": 102,
   "id": "42ee1218-74c5-4f2f-882b-8d4a1dfa2688",
   "metadata": {},
   "outputs": [
    {
     "data": {
      "text/plain": [
       "tuple"
      ]
     },
     "execution_count": 102,
     "metadata": {},
     "output_type": "execute_result"
    }
   ],
   "source": [
    "type(tup_2)"
   ]
  },
  {
   "cell_type": "markdown",
   "id": "25b00878-b525-4c36-a1c7-db087db2c110",
   "metadata": {},
   "source": [
    "### indexing in tup"
   ]
  },
  {
   "cell_type": "code",
   "execution_count": 86,
   "id": "3b33ed80-0c35-4ec0-8ce2-1b5da1874325",
   "metadata": {},
   "outputs": [
    {
     "data": {
      "text/plain": [
       "3"
      ]
     },
     "execution_count": 86,
     "metadata": {},
     "output_type": "execute_result"
    }
   ],
   "source": [
    "tup_2[0]"
   ]
  },
  {
   "cell_type": "code",
   "execution_count": 120,
   "id": "b3327371-7171-4467-8b65-74f8581e0677",
   "metadata": {},
   "outputs": [
    {
     "ename": "TypeError",
     "evalue": "'int' object is not subscriptable",
     "output_type": "error",
     "traceback": [
      "\u001b[1;31m---------------------------------------------------------------------------\u001b[0m",
      "\u001b[1;31mTypeError\u001b[0m                                 Traceback (most recent call last)",
      "Cell \u001b[1;32mIn[120], line 1\u001b[0m\n\u001b[1;32m----> 1\u001b[0m tup_2[\u001b[38;5;241m3\u001b[39m][\u001b[38;5;241m4\u001b[39m]\n",
      "\u001b[1;31mTypeError\u001b[0m: 'int' object is not subscriptable"
     ]
    }
   ],
   "source": [
    "tup_2[3][4] # why nested index is not accessing "
   ]
  },
  {
   "cell_type": "code",
   "execution_count": 122,
   "id": "b12856e0-f940-484e-9c3e-a3f10ae808ac",
   "metadata": {},
   "outputs": [
    {
     "data": {
      "text/plain": [
       "6"
      ]
     },
     "execution_count": 122,
     "metadata": {},
     "output_type": "execute_result"
    }
   ],
   "source": [
    "tup_2[3]"
   ]
  },
  {
   "cell_type": "markdown",
   "id": "92600c46-f91c-42cc-8000-159130444cb5",
   "metadata": {},
   "source": [
    "### slicing in tup"
   ]
  },
  {
   "cell_type": "code",
   "execution_count": 131,
   "id": "f64c12b3-30f3-473c-a800-6eb480e003a3",
   "metadata": {},
   "outputs": [
    {
     "data": {
      "text/plain": [
       "(3, 4, 5, 6, (4, 5, 6, 3))"
      ]
     },
     "execution_count": 131,
     "metadata": {},
     "output_type": "execute_result"
    }
   ],
   "source": [
    "tup_2"
   ]
  },
  {
   "cell_type": "code",
   "execution_count": 133,
   "id": "fc6923fb-099d-4650-9393-2a03730b001c",
   "metadata": {},
   "outputs": [
    {
     "data": {
      "text/plain": [
       "(5, 6)"
      ]
     },
     "execution_count": 133,
     "metadata": {},
     "output_type": "execute_result"
    }
   ],
   "source": [
    "tup[2:4]"
   ]
  },
  {
   "cell_type": "code",
   "execution_count": 137,
   "id": "a8a67ca4-9634-4370-ac9e-860091d81f20",
   "metadata": {},
   "outputs": [
    {
     "data": {
      "text/plain": [
       "(3, 4, 5)"
      ]
     },
     "execution_count": 137,
     "metadata": {},
     "output_type": "execute_result"
    }
   ],
   "source": [
    "tup[:3]"
   ]
  },
  {
   "cell_type": "markdown",
   "id": "692abcf4-6a35-4eaf-b9a9-30ddbe8338aa",
   "metadata": {},
   "source": [
    "# SET------"
   ]
  },
  {
   "cell_type": "markdown",
   "id": "d130560c-76d5-4121-a568-8714fa6de706",
   "metadata": {},
   "source": [
    "### Set Creation"
   ]
  },
  {
   "cell_type": "code",
   "execution_count": 149,
   "id": "370518bf-660e-4cdf-bd0e-158fcaf21c2f",
   "metadata": {},
   "outputs": [
    {
     "data": {
      "text/plain": [
       "set()"
      ]
     },
     "execution_count": 149,
     "metadata": {},
     "output_type": "execute_result"
    }
   ],
   "source": [
    "empty_set = set()\n",
    "empty_set"
   ]
  },
  {
   "cell_type": "code",
   "execution_count": 157,
   "id": "60a8ca29-ac48-4cd0-b97d-f2ff5e920544",
   "metadata": {},
   "outputs": [
    {
     "data": {
      "text/plain": [
       "set"
      ]
     },
     "execution_count": 157,
     "metadata": {},
     "output_type": "execute_result"
    }
   ],
   "source": [
    "s = {2,3,4,5,6,7,(2,5,5,6)}\n",
    "type(s)"
   ]
  },
  {
   "cell_type": "code",
   "execution_count": null,
   "id": "fb5c692f-48c3-4237-b3a7-4bd4cfb5e2cd",
   "metadata": {},
   "outputs": [],
   "source": [
    "# nested set in the set is not valid concept"
   ]
  },
  {
   "cell_type": "code",
   "execution_count": 173,
   "id": "dbffd9d4-d4b2-4788-bf39-529d28f3cb8d",
   "metadata": {},
   "outputs": [],
   "source": [
    "s2= { 3,4,5.5,\"ram\",True}"
   ]
  },
  {
   "cell_type": "code",
   "execution_count": 175,
   "id": "f0472186-868e-474e-abf9-005a371286e5",
   "metadata": {},
   "outputs": [
    {
     "data": {
      "text/plain": [
       "{3, 4, 5.5, True, 'ram'}"
      ]
     },
     "execution_count": 175,
     "metadata": {},
     "output_type": "execute_result"
    }
   ],
   "source": [
    "s2 "
   ]
  },
  {
   "cell_type": "code",
   "execution_count": 179,
   "id": "c5a80b4a-2497-4bc1-9640-56049f4ea2e5",
   "metadata": {},
   "outputs": [
    {
     "data": {
      "text/plain": [
       "5"
      ]
     },
     "execution_count": 179,
     "metadata": {},
     "output_type": "execute_result"
    }
   ],
   "source": [
    "len(s2)"
   ]
  },
  {
   "cell_type": "code",
   "execution_count": 193,
   "id": "f7ae44f9-0802-4a4f-a127-a74aa2f61abc",
   "metadata": {},
   "outputs": [
    {
     "data": {
      "text/plain": [
       "True"
      ]
     },
     "execution_count": 193,
     "metadata": {},
     "output_type": "execute_result"
    }
   ],
   "source": [
    "\"ram\" in s2"
   ]
  },
  {
   "cell_type": "code",
   "execution_count": 195,
   "id": "ccabebc9-731a-4c4c-a8ed-5e181ef60fa2",
   "metadata": {},
   "outputs": [],
   "source": [
    "s2.remove(\"ram\")"
   ]
  },
  {
   "cell_type": "code",
   "execution_count": 197,
   "id": "dcf5728c-cca7-4114-aff1-ebe44d1a9f33",
   "metadata": {},
   "outputs": [
    {
     "data": {
      "text/plain": [
       "{True, 3, 4, 5.5}"
      ]
     },
     "execution_count": 197,
     "metadata": {},
     "output_type": "execute_result"
    }
   ],
   "source": [
    "s2"
   ]
  },
  {
   "cell_type": "code",
   "execution_count": 199,
   "id": "5b81f169-32d6-42c7-8f1d-13b8a4f014b4",
   "metadata": {},
   "outputs": [],
   "source": [
    "s2.add(\"shyam\")"
   ]
  },
  {
   "cell_type": "code",
   "execution_count": 201,
   "id": "22794033-64db-4043-a591-7837f435feba",
   "metadata": {},
   "outputs": [
    {
     "data": {
      "text/plain": [
       "{3, 4, 5.5, True, 'shyam'}"
      ]
     },
     "execution_count": 201,
     "metadata": {},
     "output_type": "execute_result"
    }
   ],
   "source": [
    "s2"
   ]
  },
  {
   "cell_type": "code",
   "execution_count": 211,
   "id": "d92df9f3-35d8-4cea-9bb7-77fea63437ee",
   "metadata": {},
   "outputs": [],
   "source": [
    "s2.update(\"dfdfd\") # it set we can add another set,tup,str,list\n"
   ]
  },
  {
   "cell_type": "code",
   "execution_count": 213,
   "id": "adca163f-d359-47e5-9c47-ca2a506728bf",
   "metadata": {},
   "outputs": [
    {
     "data": {
      "text/plain": [
       "{3, 4, 5.5, True, 'd', 'f', 'shyam'}"
      ]
     },
     "execution_count": 213,
     "metadata": {},
     "output_type": "execute_result"
    }
   ],
   "source": [
    "s2 #repetation is not allowed "
   ]
  },
  {
   "cell_type": "code",
   "execution_count": 215,
   "id": "012c906d-3016-4f68-a901-c10a6a249a3c",
   "metadata": {},
   "outputs": [],
   "source": [
    "s2.discard(\"ram\")"
   ]
  },
  {
   "cell_type": "code",
   "execution_count": null,
   "id": "c2d04bf1-2d5d-46d5-a187-ae5c1b79f376",
   "metadata": {},
   "outputs": [],
   "source": [
    "# concept-- Raises an error if the element is not found ,,discard not geve error but remove give"
   ]
  },
  {
   "cell_type": "markdown",
   "id": "7c5afe6a-c5ac-4d59-ba56-0301e151e50e",
   "metadata": {},
   "source": [
    "##### Mathmatical set operation"
   ]
  },
  {
   "cell_type": "code",
   "execution_count": 223,
   "id": "a042539f-ffdc-49f4-885c-445b7c2ceff1",
   "metadata": {},
   "outputs": [
    {
     "name": "stdout",
     "output_type": "stream",
     "text": [
      "{1, 2, 3, 4, 5, 6, 7, 8}\n"
     ]
    }
   ],
   "source": [
    "a = {1,2,3,4,5}\n",
    "b = {4,5,6,7,8}\n",
    "c = {8,9,10,11}\n",
    "print(a|b)"
   ]
  },
  {
   "cell_type": "code",
   "execution_count": 227,
   "id": "d59c1f20-8213-427c-8502-ffe313d68f96",
   "metadata": {},
   "outputs": [
    {
     "data": {
      "text/plain": [
       "{4, 5}"
      ]
     },
     "execution_count": 227,
     "metadata": {},
     "output_type": "execute_result"
    }
   ],
   "source": [
    "a&b"
   ]
  },
  {
   "cell_type": "code",
   "execution_count": 229,
   "id": "86e11534-c3e6-4f4b-b647-cf61e8c56d7d",
   "metadata": {},
   "outputs": [
    {
     "data": {
      "text/plain": [
       "{1, 2, 3, 4, 5, 6, 7, 8}"
      ]
     },
     "execution_count": 229,
     "metadata": {},
     "output_type": "execute_result"
    }
   ],
   "source": [
    "a.union(b)"
   ]
  },
  {
   "cell_type": "code",
   "execution_count": 231,
   "id": "f33677ae-056f-4472-89c2-9f83133a6342",
   "metadata": {},
   "outputs": [
    {
     "data": {
      "text/plain": [
       "{1, 2, 3, 4, 5, 8, 9, 10, 11}"
      ]
     },
     "execution_count": 231,
     "metadata": {},
     "output_type": "execute_result"
    }
   ],
   "source": [
    "a.union(c)"
   ]
  },
  {
   "cell_type": "markdown",
   "id": "6978efb9-cc51-4079-a85b-88b574e5ee56",
   "metadata": {},
   "source": [
    "# Number_system---"
   ]
  },
  {
   "cell_type": "code",
   "execution_count": 234,
   "id": "8a18879f-8b92-47b8-84ab-d7f58e841310",
   "metadata": {},
   "outputs": [],
   "source": [
    "num = 25 # number to other "
   ]
  },
  {
   "cell_type": "code",
   "execution_count": 236,
   "id": "78b64de4-a1df-48a7-b3c5-d59b7e602c5e",
   "metadata": {},
   "outputs": [
    {
     "data": {
      "text/plain": [
       "'0b11001'"
      ]
     },
     "execution_count": 236,
     "metadata": {},
     "output_type": "execute_result"
    }
   ],
   "source": [
    "bin(num)"
   ]
  },
  {
   "cell_type": "code",
   "execution_count": 240,
   "id": "2b85244f-79d1-4d8a-b07a-e4f22ee3e84f",
   "metadata": {},
   "outputs": [
    {
     "data": {
      "text/plain": [
       "'0o31'"
      ]
     },
     "execution_count": 240,
     "metadata": {},
     "output_type": "execute_result"
    }
   ],
   "source": [
    "oct(num)"
   ]
  },
  {
   "cell_type": "code",
   "execution_count": 242,
   "id": "2eea7f47-73c5-4861-85ac-ea6f98087e34",
   "metadata": {},
   "outputs": [
    {
     "data": {
      "text/plain": [
       "'0x19'"
      ]
     },
     "execution_count": 242,
     "metadata": {},
     "output_type": "execute_result"
    }
   ],
   "source": [
    "hex(num)"
   ]
  },
  {
   "cell_type": "code",
   "execution_count": 246,
   "id": "a949dc65-04c9-4d6d-8e58-9c07eb3d1c8f",
   "metadata": {},
   "outputs": [],
   "source": [
    "binary_num = 1010 # binary to another "
   ]
  },
  {
   "cell_type": "code",
   "execution_count": 248,
   "id": "4a7c5bd3-75f4-4cac-828d-0be3c1269d99",
   "metadata": {},
   "outputs": [
    {
     "data": {
      "text/plain": [
       "'0x3f2'"
      ]
     },
     "execution_count": 248,
     "metadata": {},
     "output_type": "execute_result"
    }
   ],
   "source": [
    "hex(binary_num)"
   ]
  },
  {
   "cell_type": "code",
   "execution_count": 250,
   "id": "6b9a2054-98c3-4786-9407-9f24246acec9",
   "metadata": {},
   "outputs": [
    {
     "data": {
      "text/plain": [
       "'0o1762'"
      ]
     },
     "execution_count": 250,
     "metadata": {},
     "output_type": "execute_result"
    }
   ],
   "source": [
    "oct(binary_num)"
   ]
  },
  {
   "cell_type": "markdown",
   "id": "aa14fba8-a6d6-4071-bf02-900f167c82a3",
   "metadata": {},
   "source": [
    "# swaping "
   ]
  },
  {
   "cell_type": "code",
   "execution_count": null,
   "id": "7a4f4237-b025-46cd-a011-9e47a6799326",
   "metadata": {},
   "outputs": [],
   "source": [
    "#1. using temp variable"
   ]
  },
  {
   "cell_type": "code",
   "execution_count": 257,
   "id": "d5523904-bd88-48ff-a8d1-f22784ac0455",
   "metadata": {},
   "outputs": [],
   "source": [
    "a = 3 \n",
    "b = 5 \n",
    "temp = a \n",
    "a = b \n",
    "b = temp"
   ]
  },
  {
   "cell_type": "code",
   "execution_count": 259,
   "id": "3116e3a7-6c8f-46f5-b473-c7058bf00912",
   "metadata": {},
   "outputs": [
    {
     "data": {
      "text/plain": [
       "(5, 3)"
      ]
     },
     "execution_count": 259,
     "metadata": {},
     "output_type": "execute_result"
    }
   ],
   "source": [
    "a,b"
   ]
  },
  {
   "cell_type": "code",
   "execution_count": null,
   "id": "e8c0113f-5a5a-461f-b320-c46869b60aed",
   "metadata": {},
   "outputs": [],
   "source": [
    "#2. using tuple packaging "
   ]
  },
  {
   "cell_type": "code",
   "execution_count": 265,
   "id": "7164a8d0-7a99-43b4-95a1-55d08100052f",
   "metadata": {},
   "outputs": [],
   "source": [
    "x = 8\n",
    "y = 9"
   ]
  },
  {
   "cell_type": "code",
   "execution_count": 273,
   "id": "109db522-6dd8-4917-951a-e55fd5afd3f8",
   "metadata": {},
   "outputs": [],
   "source": [
    "x,y= y,x "
   ]
  },
  {
   "cell_type": "code",
   "execution_count": null,
   "id": "0d2ff7c2-67dd-444e-b8f4-5bb3876488e4",
   "metadata": {},
   "outputs": [],
   "source": []
  }
 ],
 "metadata": {
  "kernelspec": {
   "display_name": "Python [conda env:base] *",
   "language": "python",
   "name": "conda-base-py"
  },
  "language_info": {
   "codemirror_mode": {
    "name": "ipython",
    "version": 3
   },
   "file_extension": ".py",
   "mimetype": "text/x-python",
   "name": "python",
   "nbconvert_exporter": "python",
   "pygments_lexer": "ipython3",
   "version": "3.12.7"
  }
 },
 "nbformat": 4,
 "nbformat_minor": 5
}
