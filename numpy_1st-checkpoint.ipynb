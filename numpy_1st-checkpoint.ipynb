{
 "cells": [
  {
   "cell_type": "markdown",
   "id": "8be72553-32b6-498d-b4ef-0eaae13c7be3",
   "metadata": {},
   "source": [
    "numpy"
   ]
  },
  {
   "cell_type": "code",
   "execution_count": 3,
   "id": "b6a1193d-4629-40a7-b6a1-163b0b3efeb5",
   "metadata": {},
   "outputs": [],
   "source": [
    "import numpy as np "
   ]
  },
  {
   "cell_type": "code",
   "execution_count": null,
   "id": "0709c3dc-75ff-4c45-8ad8-579f3c70c5a7",
   "metadata": {},
   "outputs": [],
   "source": [
    "# in range we can pass 1,2 or 3 value and if you want all val is print then we can use for loop "
   ]
  },
  {
   "cell_type": "code",
   "execution_count": 5,
   "id": "423b379d-7299-47ad-950f-4874bad0bdc7",
   "metadata": {},
   "outputs": [
    {
     "data": {
      "text/plain": [
       "range(0, 3)"
      ]
     },
     "execution_count": 5,
     "metadata": {},
     "output_type": "execute_result"
    }
   ],
   "source": [
    "range(3)\n"
   ]
  },
  {
   "cell_type": "code",
   "execution_count": 7,
   "id": "e49832b9-5aa1-4f66-af37-f53d12fd6f51",
   "metadata": {},
   "outputs": [
    {
     "data": {
      "text/plain": [
       "range(0, 5)"
      ]
     },
     "execution_count": 7,
     "metadata": {},
     "output_type": "execute_result"
    }
   ],
   "source": [
    "range (5)"
   ]
  },
  {
   "cell_type": "code",
   "execution_count": 9,
   "id": "1221e080-dc10-425b-a266-33fe3c65fe6c",
   "metadata": {},
   "outputs": [
    {
     "data": {
      "text/plain": [
       "[0, 1, 2, 3, 4]"
      ]
     },
     "execution_count": 9,
     "metadata": {},
     "output_type": "execute_result"
    }
   ],
   "source": [
    "list(range(5))"
   ]
  },
  {
   "cell_type": "code",
   "execution_count": 17,
   "id": "b0ee6b7b-eb35-4270-ab8c-697d0a985bdc",
   "metadata": {},
   "outputs": [
    {
     "data": {
      "text/plain": [
       "(0, 1, 2, 3, 4)"
      ]
     },
     "execution_count": 17,
     "metadata": {},
     "output_type": "execute_result"
    }
   ],
   "source": [
    "tuple(range(5))"
   ]
  },
  {
   "cell_type": "code",
   "execution_count": 103,
   "id": "e9fe4db7-5af8-49c8-a0a9-a3e9d01bcdfd",
   "metadata": {},
   "outputs": [
    {
     "data": {
      "text/plain": [
       "range(0, 10)"
      ]
     },
     "execution_count": 103,
     "metadata": {},
     "output_type": "execute_result"
    }
   ],
   "source": [
    "r1 = range(10)\n",
    "r1 "
   ]
  },
  {
   "cell_type": "code",
   "execution_count": 157,
   "id": "eab9648b-5b4f-4c7e-b735-4c1853a265a0",
   "metadata": {},
   "outputs": [
    {
     "data": {
      "text/plain": [
       "range(12, 25, 3)"
      ]
     },
     "execution_count": 157,
     "metadata": {},
     "output_type": "execute_result"
    }
   ],
   "source": [
    "r2 = range (12,25,3) # if we use of rage then i will use of for loop\n",
    "r2"
   ]
  },
  {
   "cell_type": "code",
   "execution_count": 159,
   "id": "efd1efb8-1494-4360-9f6b-0e608e78fc9f",
   "metadata": {},
   "outputs": [
    {
     "name": "stdout",
     "output_type": "stream",
     "text": [
      "12\n",
      "15\n",
      "18\n",
      "21\n",
      "24\n"
     ]
    }
   ],
   "source": [
    "for i in r2:\n",
    "    print(i)"
   ]
  },
  {
   "cell_type": "code",
   "execution_count": 105,
   "id": "736470d8-1d15-4c0e-b3ae-35c7cd9f570a",
   "metadata": {},
   "outputs": [
    {
     "name": "stdout",
     "output_type": "stream",
     "text": [
      "0\n",
      "1\n",
      "2\n",
      "3\n",
      "4\n",
      "5\n",
      "6\n",
      "7\n",
      "8\n",
      "9\n"
     ]
    }
   ],
   "source": [
    "for i in r1:\n",
    "    print(i)"
   ]
  },
  {
   "cell_type": "code",
   "execution_count": 107,
   "id": "e85be8da-412e-430c-a928-235f61b6916d",
   "metadata": {},
   "outputs": [],
   "source": [
    "import numpy as np"
   ]
  },
  {
   "cell_type": "code",
   "execution_count": 123,
   "id": "179993ff-b8b1-47f8-89c4-f194966908b6",
   "metadata": {},
   "outputs": [
    {
     "data": {
      "text/plain": [
       "list"
      ]
     },
     "execution_count": 123,
     "metadata": {},
     "output_type": "execute_result"
    }
   ],
   "source": [
    "my_list = [2,3,4,5,6]\n",
    "type(my_list)"
   ]
  },
  {
   "cell_type": "code",
   "execution_count": 119,
   "id": "d4052900-9977-4d0e-b2a2-d04962d84d08",
   "metadata": {},
   "outputs": [
    {
     "data": {
      "text/plain": [
       "type"
      ]
     },
     "execution_count": 119,
     "metadata": {},
     "output_type": "execute_result"
    }
   ],
   "source": [
    "type(my_list)"
   ]
  },
  {
   "cell_type": "code",
   "execution_count": 113,
   "id": "adee2f54-d58e-47e9-9422-5d68d2a26dc2",
   "metadata": {},
   "outputs": [
    {
     "name": "stdout",
     "output_type": "stream",
     "text": [
      "1.26.4\n"
     ]
    }
   ],
   "source": [
    "import numpy as np\n",
    "print(np.__version__)  # NumPy का वर्ज़न दिखाने के लिए\n"
   ]
  },
  {
   "cell_type": "code",
   "execution_count": 131,
   "id": "cfd0a5cd-7f43-41b0-9cb9-0a707fe9ac75",
   "metadata": {},
   "outputs": [
    {
     "data": {
      "text/plain": [
       "array([2, 3, 4, 5, 6])"
      ]
     },
     "execution_count": 131,
     "metadata": {},
     "output_type": "execute_result"
    }
   ],
   "source": [
    "arr1 = np.array(my_list) # why its not able  to run \n",
    "arr1"
   ]
  },
  {
   "cell_type": "code",
   "execution_count": 133,
   "id": "a234932a-da02-4b35-b34e-cc9b04dd68a8",
   "metadata": {},
   "outputs": [
    {
     "data": {
      "text/plain": [
       "array([ 0,  1,  2,  3,  4,  5,  6,  7,  8,  9, 10, 11, 12, 13, 14])"
      ]
     },
     "execution_count": 133,
     "metadata": {},
     "output_type": "execute_result"
    }
   ],
   "source": [
    "np.arange(15)"
   ]
  },
  {
   "cell_type": "code",
   "execution_count": 163,
   "id": "70d0f08c-f2f6-4f85-8a8e-95286916e890",
   "metadata": {},
   "outputs": [
    {
     "data": {
      "text/plain": [
       "array([12, 15, 18, 21, 24])"
      ]
     },
     "execution_count": 163,
     "metadata": {},
     "output_type": "execute_result"
    }
   ],
   "source": [
    "np.arange(12,25,3)"
   ]
  },
  {
   "cell_type": "code",
   "execution_count": 165,
   "id": "ded094e3-9326-443c-9410-def82e95ed79",
   "metadata": {},
   "outputs": [
    {
     "data": {
      "text/plain": [
       "array([0., 1., 2.])"
      ]
     },
     "execution_count": 165,
     "metadata": {},
     "output_type": "execute_result"
    }
   ],
   "source": [
    "np.arange(3.0)"
   ]
  },
  {
   "cell_type": "code",
   "execution_count": 167,
   "id": "4b15ebbd-d1ae-4611-9b0d-88e911d57d4c",
   "metadata": {},
   "outputs": [
    {
     "data": {
      "text/plain": [
       "array([-10,  -9,  -8,  -7,  -6,  -5,  -4,  -3,  -2,  -1,   0,   1,   2,\n",
       "         3,   4])"
      ]
     },
     "execution_count": 167,
     "metadata": {},
     "output_type": "execute_result"
    }
   ],
   "source": [
    "np.arange(-10,5)"
   ]
  },
  {
   "cell_type": "code",
   "execution_count": 169,
   "id": "15d22e8d-3565-4150-896c-ff552708fa5f",
   "metadata": {},
   "outputs": [
    {
     "data": {
      "text/plain": [
       "array([], dtype=int32)"
      ]
     },
     "execution_count": 169,
     "metadata": {},
     "output_type": "execute_result"
    }
   ],
   "source": [
    "np.arange(30,20) # always less then 2nd arg"
   ]
  },
  {
   "cell_type": "code",
   "execution_count": 171,
   "id": "e6f3b97b-9b98-475c-bd80-6c2551aa6342",
   "metadata": {},
   "outputs": [
    {
     "data": {
      "text/plain": [
       "array([], dtype=int32)"
      ]
     },
     "execution_count": 171,
     "metadata": {},
     "output_type": "execute_result"
    }
   ],
   "source": [
    "np.arange(1,1) # we can not call equal arg , distance is needed"
   ]
  },
  {
   "cell_type": "code",
   "execution_count": null,
   "id": "ff0215a7-1790-40b4-9499-c4d7ec611438",
   "metadata": {},
   "outputs": [],
   "source": [
    "# with the help of np.ones ,random.rand and np. zeros we can create multi D array \n",
    "# its generate by default float value and also we can convert into another dtype"
   ]
  },
  {
   "cell_type": "code",
   "execution_count": 173,
   "id": "fb25a573-597f-4267-b89e-9d33967a4160",
   "metadata": {},
   "outputs": [
    {
     "data": {
      "text/plain": [
       "array([0., 0., 0., 0.])"
      ]
     },
     "execution_count": 173,
     "metadata": {},
     "output_type": "execute_result"
    }
   ],
   "source": [
    "np.zeros(4)"
   ]
  },
  {
   "cell_type": "code",
   "execution_count": 181,
   "id": "f220ac86-0d4b-4b55-9370-109b3a629c84",
   "metadata": {},
   "outputs": [
    {
     "data": {
      "text/plain": [
       "array([0, 0, 0])"
      ]
     },
     "execution_count": 181,
     "metadata": {},
     "output_type": "execute_result"
    }
   ],
   "source": [
    "np.zeros(3,dtype = int)"
   ]
  },
  {
   "cell_type": "code",
   "execution_count": 185,
   "id": "ad9112c8-3708-436a-a6fc-234485b267d7",
   "metadata": {},
   "outputs": [
    {
     "data": {
      "text/plain": [
       "array(['', '', ''], dtype='<U1')"
      ]
     },
     "execution_count": 185,
     "metadata": {},
     "output_type": "execute_result"
    }
   ],
   "source": [
    "np.zeros(3, dtype= str)"
   ]
  },
  {
   "cell_type": "code",
   "execution_count": 231,
   "id": "082bdf70-fe67-4f6d-a89e-0183f6cb8ab9",
   "metadata": {},
   "outputs": [
    {
     "data": {
      "text/plain": [
       "array([[0, 0, 0, 0, 0, 0],\n",
       "       [0, 0, 0, 0, 0, 0],\n",
       "       [0, 0, 0, 0, 0, 0],\n",
       "       [0, 0, 0, 0, 0, 0]])"
      ]
     },
     "execution_count": 231,
     "metadata": {},
     "output_type": "execute_result"
    }
   ],
   "source": [
    "np.zeros((4,6),dtype = int)# we can create multi dimen array with help of np.zeros"
   ]
  },
  {
   "cell_type": "code",
   "execution_count": 187,
   "id": "fc803693-96b0-4f46-93ef-1edc80a8e33f",
   "metadata": {},
   "outputs": [
    {
     "data": {
      "text/plain": [
       "array(['1', '1', '1'], dtype='<U1')"
      ]
     },
     "execution_count": 187,
     "metadata": {},
     "output_type": "execute_result"
    }
   ],
   "source": [
    "np.ones(3,dtype = str)"
   ]
  },
  {
   "cell_type": "code",
   "execution_count": 207,
   "id": "e33eb3e2-0b69-489c-a982-de27372669cd",
   "metadata": {},
   "outputs": [
    {
     "data": {
      "text/plain": [
       "array([[1, 1, 1, 1],\n",
       "       [1, 1, 1, 1]])"
      ]
     },
     "execution_count": 207,
     "metadata": {},
     "output_type": "execute_result"
    }
   ],
   "source": [
    "np.ones((2,4) ,dtype= int )"
   ]
  },
  {
   "cell_type": "code",
   "execution_count": 217,
   "id": "4b11bc7a-b910-410c-a7c5-4e7c27d8c959",
   "metadata": {},
   "outputs": [
    {
     "data": {
      "text/plain": [
       "array([[1, 1, 1, 1, 1, 1, 1],\n",
       "       [1, 1, 1, 1, 1, 1, 1]])"
      ]
     },
     "execution_count": 217,
     "metadata": {},
     "output_type": "execute_result"
    }
   ],
   "source": [
    "np.ones((2,7), dtype = int ) # we can create multidimentional array with np.ones"
   ]
  },
  {
   "cell_type": "code",
   "execution_count": 233,
   "id": "50e34a31-8ff9-4b2a-b7da-e5b32b700493",
   "metadata": {},
   "outputs": [
    {
     "data": {
      "text/plain": [
       "array([0.12837473, 0.36340922, 0.22781021])"
      ]
     },
     "execution_count": 233,
     "metadata": {},
     "output_type": "execute_result"
    }
   ],
   "source": [
    "np.random.rand(3) # random.rand generate always random val by default float "
   ]
  },
  {
   "cell_type": "code",
   "execution_count": 239,
   "id": "622adb98-464e-43b9-85f6-144bd4e67f9f",
   "metadata": {},
   "outputs": [
    {
     "data": {
      "text/plain": [
       "array([[[0.96952359, 0.84734805, 0.88840304, 0.27315074],\n",
       "        [0.13222403, 0.60567702, 0.96853453, 0.002428  ],\n",
       "        [0.01781489, 0.67765694, 0.88085362, 0.06781437],\n",
       "        [0.01412444, 0.19578598, 0.37624859, 0.09309116]],\n",
       "\n",
       "       [[0.07724408, 0.82061212, 0.03696119, 0.01909353],\n",
       "        [0.80072954, 0.68212303, 0.83020103, 0.17748548],\n",
       "        [0.17785864, 0.38734796, 0.41704374, 0.6787951 ],\n",
       "        [0.61809557, 0.1728241 , 0.24230664, 0.11854544]],\n",
       "\n",
       "       [[0.28068168, 0.38629278, 0.67065647, 0.10191504],\n",
       "        [0.13679462, 0.86935281, 0.15922239, 0.64976036],\n",
       "        [0.1022091 , 0.30443151, 0.95793252, 0.85531104],\n",
       "        [0.32241405, 0.52407117, 0.80155335, 0.59818908]]])"
      ]
     },
     "execution_count": 239,
     "metadata": {},
     "output_type": "execute_result"
    }
   ],
   "source": [
    "np.random.rand(3,2)"
   ]
  },
  {
   "cell_type": "code",
   "execution_count": 310,
   "id": "ed39b9cd-8205-4d94-bf77-438ab2ff6a6d",
   "metadata": {},
   "outputs": [
    {
     "data": {
      "text/plain": [
       "1"
      ]
     },
     "execution_count": 310,
     "metadata": {},
     "output_type": "execute_result"
    }
   ],
   "source": [
    "np.random.randint(4) # return random integer"
   ]
  },
  {
   "cell_type": "code",
   "execution_count": 336,
   "id": "c332b5a8-d27f-410b-8bee-f4d778a04d0f",
   "metadata": {},
   "outputs": [
    {
     "data": {
      "text/plain": [
       "7"
      ]
     },
     "execution_count": 336,
     "metadata": {},
     "output_type": "execute_result"
    }
   ],
   "source": [
    "np.random.randint(3,10) # 2nd arg is excluseive "
   ]
  },
  {
   "cell_type": "code",
   "execution_count": null,
   "id": "aa934968-2e58-409d-a49f-40f008445175",
   "metadata": {},
   "outputs": [],
   "source": []
  },
  {
   "cell_type": "code",
   "execution_count": null,
   "id": "d7739205-f462-4490-85f6-14af74f9b5a8",
   "metadata": {},
   "outputs": [],
   "source": []
  }
 ],
 "metadata": {
  "kernelspec": {
   "display_name": "Python [conda env:base] *",
   "language": "python",
   "name": "conda-base-py"
  },
  "language_info": {
   "codemirror_mode": {
    "name": "ipython",
    "version": 3
   },
   "file_extension": ".py",
   "mimetype": "text/x-python",
   "name": "python",
   "nbconvert_exporter": "python",
   "pygments_lexer": "ipython3",
   "version": "3.12.7"
  }
 },
 "nbformat": 4,
 "nbformat_minor": 5
}
