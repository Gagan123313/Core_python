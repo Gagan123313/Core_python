{
 "cells": [
  {
   "cell_type": "markdown",
   "id": "738bf59a-b183-4ae3-a7cc-5f621781fdee",
   "metadata": {},
   "source": [
    "# Discriptive statistics"
   ]
  },
  {
   "cell_type": "markdown",
   "id": "b98cfca9-f797-410f-8b11-b535715205c8",
   "metadata": {},
   "source": [
    "## Mesure of central trendency"
   ]
  },
  {
   "cell_type": "code",
   "execution_count": 1,
   "id": "eb43d22f-0b9b-49e7-877c-478959c1bc35",
   "metadata": {},
   "outputs": [],
   "source": [
    "import numpy as np \n",
    "import pandas as pd \n",
    "import warnings\n",
    "import warnings\n",
    "warnings.filterwarnings('ignore')"
   ]
  },
  {
   "cell_type": "code",
   "execution_count": 2,
   "id": "d1bd18b9-bf25-4e0b-a384-276110de3685",
   "metadata": {},
   "outputs": [
    {
     "data": {
      "text/html": [
       "<div>\n",
       "<style scoped>\n",
       "    .dataframe tbody tr th:only-of-type {\n",
       "        vertical-align: middle;\n",
       "    }\n",
       "\n",
       "    .dataframe tbody tr th {\n",
       "        vertical-align: top;\n",
       "    }\n",
       "\n",
       "    .dataframe thead th {\n",
       "        text-align: right;\n",
       "    }\n",
       "</style>\n",
       "<table border=\"1\" class=\"dataframe\">\n",
       "  <thead>\n",
       "    <tr style=\"text-align: right;\">\n",
       "      <th></th>\n",
       "      <th>x</th>\n",
       "      <th>y</th>\n",
       "      <th>z</th>\n",
       "    </tr>\n",
       "  </thead>\n",
       "  <tbody>\n",
       "    <tr>\n",
       "      <th>0</th>\n",
       "      <td>1</td>\n",
       "      <td>3</td>\n",
       "      <td>4</td>\n",
       "    </tr>\n",
       "    <tr>\n",
       "      <th>1</th>\n",
       "      <td>1</td>\n",
       "      <td>4</td>\n",
       "      <td>6</td>\n",
       "    </tr>\n",
       "    <tr>\n",
       "      <th>2</th>\n",
       "      <td>3</td>\n",
       "      <td>5</td>\n",
       "      <td>7</td>\n",
       "    </tr>\n",
       "    <tr>\n",
       "      <th>3</th>\n",
       "      <td>4</td>\n",
       "      <td>6</td>\n",
       "      <td>5</td>\n",
       "    </tr>\n",
       "    <tr>\n",
       "      <th>4</th>\n",
       "      <td>5</td>\n",
       "      <td>7</td>\n",
       "      <td>33</td>\n",
       "    </tr>\n",
       "    <tr>\n",
       "      <th>5</th>\n",
       "      <td>6</td>\n",
       "      <td>9</td>\n",
       "      <td>3</td>\n",
       "    </tr>\n",
       "    <tr>\n",
       "      <th>6</th>\n",
       "      <td>7</td>\n",
       "      <td>65</td>\n",
       "      <td>6</td>\n",
       "    </tr>\n",
       "    <tr>\n",
       "      <th>7</th>\n",
       "      <td>8</td>\n",
       "      <td>45</td>\n",
       "      <td>8</td>\n",
       "    </tr>\n",
       "  </tbody>\n",
       "</table>\n",
       "</div>"
      ],
      "text/plain": [
       "   x   y   z\n",
       "0  1   3   4\n",
       "1  1   4   6\n",
       "2  3   5   7\n",
       "3  4   6   5\n",
       "4  5   7  33\n",
       "5  6   9   3\n",
       "6  7  65   6\n",
       "7  8  45   8"
      ]
     },
     "execution_count": 2,
     "metadata": {},
     "output_type": "execute_result"
    }
   ],
   "source": [
    "df = pd.DataFrame({'x':[1,1,3,4,5,6,7,8,],\n",
    "                 'y':[3,4,5,6,7,9,65,45],\n",
    "                 'z':[4,6,7,5,33,3,6,8]})\n",
    "df"
   ]
  },
  {
   "cell_type": "code",
   "execution_count": 3,
   "id": "b61268b2-ff01-44f4-b422-f39b83cfc88c",
   "metadata": {},
   "outputs": [
    {
     "data": {
      "text/plain": [
       "4.375"
      ]
     },
     "execution_count": 3,
     "metadata": {},
     "output_type": "execute_result"
    }
   ],
   "source": [
    "df.x.mean()"
   ]
  },
  {
   "cell_type": "code",
   "execution_count": 4,
   "id": "976c933d-ecb8-4687-b2a3-86b65eb269a9",
   "metadata": {},
   "outputs": [
    {
     "data": {
      "text/plain": [
       "4.5"
      ]
     },
     "execution_count": 4,
     "metadata": {},
     "output_type": "execute_result"
    }
   ],
   "source": [
    "df.x.median()"
   ]
  },
  {
   "cell_type": "code",
   "execution_count": 5,
   "id": "4cf9d8d9-6ccc-4899-9d78-711063c1d22f",
   "metadata": {},
   "outputs": [
    {
     "data": {
      "text/plain": [
       "0    1\n",
       "Name: x, dtype: int64"
      ]
     },
     "execution_count": 5,
     "metadata": {},
     "output_type": "execute_result"
    }
   ],
   "source": [
    "df.x.mode()"
   ]
  },
  {
   "cell_type": "markdown",
   "id": "59855c9a-3d75-4c84-9105-c8231731f3c0",
   "metadata": {},
   "source": [
    "## Mesure of dispersion"
   ]
  },
  {
   "cell_type": "code",
   "execution_count": 6,
   "id": "d63551b1-75c3-4123-8175-6faf1e8f9dbe",
   "metadata": {},
   "outputs": [
    {
     "data": {
      "text/plain": [
       "1"
      ]
     },
     "execution_count": 6,
     "metadata": {},
     "output_type": "execute_result"
    }
   ],
   "source": [
    "df.x.min()"
   ]
  },
  {
   "cell_type": "code",
   "execution_count": 7,
   "id": "1a7360f8-f399-47f4-ba4b-4fe44133b6d8",
   "metadata": {},
   "outputs": [
    {
     "data": {
      "text/plain": [
       "8"
      ]
     },
     "execution_count": 7,
     "metadata": {},
     "output_type": "execute_result"
    }
   ],
   "source": [
    "df.x.max()"
   ]
  },
  {
   "cell_type": "code",
   "execution_count": 8,
   "id": "40b0b6f3-bce2-4fdb-b45d-6dc7968453d3",
   "metadata": {},
   "outputs": [
    {
     "data": {
      "text/plain": [
       "7"
      ]
     },
     "execution_count": 8,
     "metadata": {},
     "output_type": "execute_result"
    }
   ],
   "source": [
    "rang = df.x.max()-df.x.min()\n",
    "rang"
   ]
  },
  {
   "cell_type": "markdown",
   "id": "1a92d8cc-e9bd-47cb-a4a0-c88144911b18",
   "metadata": {},
   "source": [
    "#### Deviation\n"
   ]
  },
  {
   "cell_type": "code",
   "execution_count": 9,
   "id": "f2ac6e0a-35a0-49e1-b70d-480b42691322",
   "metadata": {},
   "outputs": [
    {
     "data": {
      "text/html": [
       "<div>\n",
       "<style scoped>\n",
       "    .dataframe tbody tr th:only-of-type {\n",
       "        vertical-align: middle;\n",
       "    }\n",
       "\n",
       "    .dataframe tbody tr th {\n",
       "        vertical-align: top;\n",
       "    }\n",
       "\n",
       "    .dataframe thead th {\n",
       "        text-align: right;\n",
       "    }\n",
       "</style>\n",
       "<table border=\"1\" class=\"dataframe\">\n",
       "  <thead>\n",
       "    <tr style=\"text-align: right;\">\n",
       "      <th></th>\n",
       "      <th>x</th>\n",
       "      <th>y</th>\n",
       "      <th>z</th>\n",
       "      <th>devation</th>\n",
       "    </tr>\n",
       "  </thead>\n",
       "  <tbody>\n",
       "    <tr>\n",
       "      <th>0</th>\n",
       "      <td>1</td>\n",
       "      <td>3</td>\n",
       "      <td>4</td>\n",
       "      <td>-3.375</td>\n",
       "    </tr>\n",
       "    <tr>\n",
       "      <th>1</th>\n",
       "      <td>1</td>\n",
       "      <td>4</td>\n",
       "      <td>6</td>\n",
       "      <td>-3.375</td>\n",
       "    </tr>\n",
       "    <tr>\n",
       "      <th>2</th>\n",
       "      <td>3</td>\n",
       "      <td>5</td>\n",
       "      <td>7</td>\n",
       "      <td>-1.375</td>\n",
       "    </tr>\n",
       "    <tr>\n",
       "      <th>3</th>\n",
       "      <td>4</td>\n",
       "      <td>6</td>\n",
       "      <td>5</td>\n",
       "      <td>-0.375</td>\n",
       "    </tr>\n",
       "    <tr>\n",
       "      <th>4</th>\n",
       "      <td>5</td>\n",
       "      <td>7</td>\n",
       "      <td>33</td>\n",
       "      <td>0.625</td>\n",
       "    </tr>\n",
       "    <tr>\n",
       "      <th>5</th>\n",
       "      <td>6</td>\n",
       "      <td>9</td>\n",
       "      <td>3</td>\n",
       "      <td>1.625</td>\n",
       "    </tr>\n",
       "    <tr>\n",
       "      <th>6</th>\n",
       "      <td>7</td>\n",
       "      <td>65</td>\n",
       "      <td>6</td>\n",
       "      <td>2.625</td>\n",
       "    </tr>\n",
       "    <tr>\n",
       "      <th>7</th>\n",
       "      <td>8</td>\n",
       "      <td>45</td>\n",
       "      <td>8</td>\n",
       "      <td>3.625</td>\n",
       "    </tr>\n",
       "  </tbody>\n",
       "</table>\n",
       "</div>"
      ],
      "text/plain": [
       "   x   y   z  devation\n",
       "0  1   3   4    -3.375\n",
       "1  1   4   6    -3.375\n",
       "2  3   5   7    -1.375\n",
       "3  4   6   5    -0.375\n",
       "4  5   7  33     0.625\n",
       "5  6   9   3     1.625\n",
       "6  7  65   6     2.625\n",
       "7  8  45   8     3.625"
      ]
     },
     "execution_count": 9,
     "metadata": {},
     "output_type": "execute_result"
    }
   ],
   "source": [
    "df['devation'] = df.x  -  df.x.mean()\n",
    "df"
   ]
  },
  {
   "cell_type": "markdown",
   "id": "74576baa-1209-49ff-9883-e480244a3f5b",
   "metadata": {},
   "source": [
    "#### mean deviation"
   ]
  },
  {
   "cell_type": "code",
   "execution_count": 10,
   "id": "3e7d42f2-49ac-4e60-9d54-f91413ad0260",
   "metadata": {},
   "outputs": [
    {
     "data": {
      "text/plain": [
       "0.0"
      ]
     },
     "execution_count": 10,
     "metadata": {},
     "output_type": "execute_result"
    }
   ],
   "source": [
    "df.devation.mean() # nean Devation always zero"
   ]
  },
  {
   "cell_type": "markdown",
   "id": "1740d689-2b02-4edc-a329-1e9c2f13e239",
   "metadata": {},
   "source": [
    "### Population varience "
   ]
  },
  {
   "cell_type": "code",
   "execution_count": 11,
   "id": "6ab52edb-1e02-4df1-82f8-19e26faed72e",
   "metadata": {},
   "outputs": [
    {
     "data": {
      "text/plain": [
       "5.984375"
      ]
     },
     "execution_count": 11,
     "metadata": {},
     "output_type": "execute_result"
    }
   ],
   "source": [
    "df['x'].var(ddof = 0)"
   ]
  },
  {
   "cell_type": "markdown",
   "id": "8afebc32-b329-4389-ad66-d066c54de008",
   "metadata": {},
   "source": [
    "###  Population std"
   ]
  },
  {
   "cell_type": "code",
   "execution_count": 12,
   "id": "c11939e0-eb76-4617-bd6c-2b519ae76c13",
   "metadata": {},
   "outputs": [
    {
     "data": {
      "text/plain": [
       "2.4462982238476156"
      ]
     },
     "execution_count": 12,
     "metadata": {},
     "output_type": "execute_result"
    }
   ],
   "source": [
    "df['x'].std(ddof = 0)"
   ]
  },
  {
   "cell_type": "markdown",
   "id": "00986975-9d5e-4b02-bbb8-67d53f9473b3",
   "metadata": {},
   "source": [
    "###  Sample varience  "
   ]
  },
  {
   "cell_type": "code",
   "execution_count": 13,
   "id": "bbe50931-5875-4a97-81d8-68ae156eaa82",
   "metadata": {},
   "outputs": [
    {
     "data": {
      "text/plain": [
       "6.839285714285714"
      ]
     },
     "execution_count": 13,
     "metadata": {},
     "output_type": "execute_result"
    }
   ],
   "source": [
    "df['x'].var(ddof = 1) # by default sample sample varience "
   ]
  },
  {
   "cell_type": "markdown",
   "id": "f619d4a9-8714-4105-bff4-ce4121580dfa",
   "metadata": {},
   "source": [
    "### Sample std"
   ]
  },
  {
   "cell_type": "code",
   "execution_count": 14,
   "id": "830388d2-a2a4-4be0-adb4-3d026588dda5",
   "metadata": {},
   "outputs": [
    {
     "data": {
      "text/plain": [
       "2.4462982238476156"
      ]
     },
     "execution_count": 14,
     "metadata": {},
     "output_type": "execute_result"
    }
   ],
   "source": [
    "df['x'].std(ddof = 0)"
   ]
  },
  {
   "cell_type": "markdown",
   "id": "153cee25-b082-4619-9e19-e4e508eecac1",
   "metadata": {},
   "source": [
    "### Quantile"
   ]
  },
  {
   "cell_type": "code",
   "execution_count": 15,
   "id": "318503d2-3acf-4a0b-b9fe-921c4e931d28",
   "metadata": {},
   "outputs": [
    {
     "data": {
      "text/plain": [
       "1.0"
      ]
     },
     "execution_count": 15,
     "metadata": {},
     "output_type": "execute_result"
    }
   ],
   "source": [
    "Q1 =df.x.quantile(0) # min()\n",
    "Q1"
   ]
  },
  {
   "cell_type": "code",
   "execution_count": 16,
   "id": "3842c019-078f-48ef-a5ed-bb4776959093",
   "metadata": {},
   "outputs": [
    {
     "data": {
      "text/plain": [
       "2.5"
      ]
     },
     "execution_count": 16,
     "metadata": {},
     "output_type": "execute_result"
    }
   ],
   "source": [
    "Q2 = df.x.quantile(0.25) # Q2\n",
    "Q2"
   ]
  },
  {
   "cell_type": "code",
   "execution_count": 17,
   "id": "99fec058-e313-4a7f-98e3-c8ae14c91b67",
   "metadata": {},
   "outputs": [
    {
     "data": {
      "text/plain": [
       "4.5"
      ]
     },
     "execution_count": 17,
     "metadata": {},
     "output_type": "execute_result"
    }
   ],
   "source": [
    "df.x.quantile(0.50) # mean()"
   ]
  },
  {
   "cell_type": "code",
   "execution_count": 18,
   "id": "955bf364-5885-438f-873c-a00041df3a22",
   "metadata": {},
   "outputs": [
    {
     "data": {
      "text/plain": [
       "6.25"
      ]
     },
     "execution_count": 18,
     "metadata": {},
     "output_type": "execute_result"
    }
   ],
   "source": [
    "Q3 = df.x.quantile(0.75) # Q3\n",
    "Q3"
   ]
  },
  {
   "cell_type": "code",
   "execution_count": 19,
   "id": "e7d2c948-7ac2-4b2d-9dca-df407ba24711",
   "metadata": {},
   "outputs": [
    {
     "data": {
      "text/plain": [
       "8.0"
      ]
     },
     "execution_count": 19,
     "metadata": {},
     "output_type": "execute_result"
    }
   ],
   "source": [
    "df.x.quantile(1) # max()"
   ]
  },
  {
   "cell_type": "code",
   "execution_count": 20,
   "id": "afdc73a9-8940-49b1-a8f9-ebccb8894ac7",
   "metadata": {},
   "outputs": [
    {
     "data": {
      "text/html": [
       "<div>\n",
       "<style scoped>\n",
       "    .dataframe tbody tr th:only-of-type {\n",
       "        vertical-align: middle;\n",
       "    }\n",
       "\n",
       "    .dataframe tbody tr th {\n",
       "        vertical-align: top;\n",
       "    }\n",
       "\n",
       "    .dataframe thead th {\n",
       "        text-align: right;\n",
       "    }\n",
       "</style>\n",
       "<table border=\"1\" class=\"dataframe\">\n",
       "  <thead>\n",
       "    <tr style=\"text-align: right;\">\n",
       "      <th></th>\n",
       "      <th>x</th>\n",
       "      <th>y</th>\n",
       "      <th>z</th>\n",
       "      <th>devation</th>\n",
       "    </tr>\n",
       "  </thead>\n",
       "  <tbody>\n",
       "    <tr>\n",
       "      <th>0</th>\n",
       "      <td>1</td>\n",
       "      <td>3</td>\n",
       "      <td>4</td>\n",
       "      <td>-3.375</td>\n",
       "    </tr>\n",
       "    <tr>\n",
       "      <th>1</th>\n",
       "      <td>1</td>\n",
       "      <td>4</td>\n",
       "      <td>6</td>\n",
       "      <td>-3.375</td>\n",
       "    </tr>\n",
       "    <tr>\n",
       "      <th>2</th>\n",
       "      <td>3</td>\n",
       "      <td>5</td>\n",
       "      <td>7</td>\n",
       "      <td>-1.375</td>\n",
       "    </tr>\n",
       "    <tr>\n",
       "      <th>3</th>\n",
       "      <td>4</td>\n",
       "      <td>6</td>\n",
       "      <td>5</td>\n",
       "      <td>-0.375</td>\n",
       "    </tr>\n",
       "    <tr>\n",
       "      <th>4</th>\n",
       "      <td>5</td>\n",
       "      <td>7</td>\n",
       "      <td>33</td>\n",
       "      <td>0.625</td>\n",
       "    </tr>\n",
       "    <tr>\n",
       "      <th>5</th>\n",
       "      <td>6</td>\n",
       "      <td>9</td>\n",
       "      <td>3</td>\n",
       "      <td>1.625</td>\n",
       "    </tr>\n",
       "    <tr>\n",
       "      <th>6</th>\n",
       "      <td>7</td>\n",
       "      <td>65</td>\n",
       "      <td>6</td>\n",
       "      <td>2.625</td>\n",
       "    </tr>\n",
       "    <tr>\n",
       "      <th>7</th>\n",
       "      <td>8</td>\n",
       "      <td>45</td>\n",
       "      <td>8</td>\n",
       "      <td>3.625</td>\n",
       "    </tr>\n",
       "  </tbody>\n",
       "</table>\n",
       "</div>"
      ],
      "text/plain": [
       "   x   y   z  devation\n",
       "0  1   3   4    -3.375\n",
       "1  1   4   6    -3.375\n",
       "2  3   5   7    -1.375\n",
       "3  4   6   5    -0.375\n",
       "4  5   7  33     0.625\n",
       "5  6   9   3     1.625\n",
       "6  7  65   6     2.625\n",
       "7  8  45   8     3.625"
      ]
     },
     "execution_count": 20,
     "metadata": {},
     "output_type": "execute_result"
    }
   ],
   "source": [
    "df"
   ]
  },
  {
   "cell_type": "code",
   "execution_count": 21,
   "id": "dffb9f87-e2ef-49ba-9cca-8c46d9cb122a",
   "metadata": {},
   "outputs": [
    {
     "data": {
      "text/plain": [
       "2.5"
      ]
     },
     "execution_count": 21,
     "metadata": {},
     "output_type": "execute_result"
    }
   ],
   "source": [
    "df.x.quantile(0.25)"
   ]
  },
  {
   "cell_type": "code",
   "execution_count": 22,
   "id": "c13752b8-9d17-43d0-8fa8-c84eee0ee864",
   "metadata": {},
   "outputs": [
    {
     "data": {
      "text/plain": [
       "count    8.000000\n",
       "mean     4.375000\n",
       "std      2.615203\n",
       "min      1.000000\n",
       "25%      2.500000\n",
       "50%      4.500000\n",
       "75%      6.250000\n",
       "max      8.000000\n",
       "Name: x, dtype: float64"
      ]
     },
     "execution_count": 22,
     "metadata": {},
     "output_type": "execute_result"
    }
   ],
   "source": [
    "df.x.describe() # all in once "
   ]
  },
  {
   "cell_type": "code",
   "execution_count": 23,
   "id": "828a6832-48a0-4970-a63b-0b471239bf63",
   "metadata": {},
   "outputs": [
    {
     "data": {
      "text/plain": [
       "5.25"
      ]
     },
     "execution_count": 23,
     "metadata": {},
     "output_type": "execute_result"
    }
   ],
   "source": [
    "IQR = Q3 - Q1\n",
    "IQR"
   ]
  },
  {
   "cell_type": "markdown",
   "id": "3f05d28e-8991-44a6-8389-dbcfdbd1441e",
   "metadata": {},
   "source": [
    "### Lower limit and upper limit"
   ]
  },
  {
   "cell_type": "code",
   "execution_count": 24,
   "id": "b8d079de-26f9-4b79-a8ea-d8787463f676",
   "metadata": {},
   "outputs": [
    {
     "data": {
      "text/plain": [
       "-6.875"
      ]
     },
     "execution_count": 24,
     "metadata": {},
     "output_type": "execute_result"
    }
   ],
   "source": [
    "lower_limit = Q1 -(IQR * 1.5)\n",
    "lower_limit"
   ]
  },
  {
   "cell_type": "code",
   "execution_count": 25,
   "id": "7ec363d7-de12-47ec-bd22-66179b459956",
   "metadata": {},
   "outputs": [
    {
     "data": {
      "text/plain": [
       "-6.875"
      ]
     },
     "execution_count": 25,
     "metadata": {},
     "output_type": "execute_result"
    }
   ],
   "source": [
    "upper_limit = Q3 +(IQR * 1.5)\n",
    "lower_limit"
   ]
  },
  {
   "cell_type": "markdown",
   "id": "565b6322-a2d8-467a-b672-8d90e73641a2",
   "metadata": {},
   "source": [
    "### Outlire"
   ]
  },
  {
   "cell_type": "code",
   "execution_count": 26,
   "id": "fe14468b-856d-4f3d-a4e7-1b34818354fc",
   "metadata": {},
   "outputs": [
    {
     "data": {
      "image/png": "[encoded data removed]",
      "text/plain": [
       "<Figure size 200x100 with 1 Axes>"
      ]
     },
     "metadata": {},
     "output_type": "display_data"
    }
   ],
   "source": [
    "import matplotlib.pyplot as plt\n",
    "plt.figure(figsize = (2,1))\n",
    "plt.boxplot(df['z'])\n",
    "plt.show()"
   ]
  },
  {
   "cell_type": "code",
   "execution_count": 27,
   "id": "f969634f-7252-49c4-a5c8-19ece3a2f4b8",
   "metadata": {},
   "outputs": [
    {
     "data": {
      "text/plain": [
       "<Axes: ylabel='z'>"
      ]
     },
     "execution_count": 27,
     "metadata": {},
     "output_type": "execute_result"
    },
    {
     "data": {
      "image/png": "[encoded data removed]",
      "text/plain": [
       "<Figure size 200x200 with 1 Axes>"
      ]
     },
     "metadata": {},
     "output_type": "display_data"
    }
   ],
   "source": [
    "import seaborn as sns\n",
    "plt.figure(figsize = (2,2))\n",
    "sns.boxplot(df['z'])"
   ]
  },
  {
   "cell_type": "code",
   "execution_count": 28,
   "id": "0feca370-0964-4e93-98fb-6007c1f6fde3",
   "metadata": {},
   "outputs": [
    {
     "data": {
      "text/html": [
       "<div>\n",
       "<style scoped>\n",
       "    .dataframe tbody tr th:only-of-type {\n",
       "        vertical-align: middle;\n",
       "    }\n",
       "\n",
       "    .dataframe tbody tr th {\n",
       "        vertical-align: top;\n",
       "    }\n",
       "\n",
       "    .dataframe thead th {\n",
       "        text-align: right;\n",
       "    }\n",
       "</style>\n",
       "<table border=\"1\" class=\"dataframe\">\n",
       "  <thead>\n",
       "    <tr style=\"text-align: right;\">\n",
       "      <th></th>\n",
       "      <th>Gender</th>\n",
       "      <th>Marks</th>\n",
       "      <th>assigments</th>\n",
       "    </tr>\n",
       "  </thead>\n",
       "  <tbody>\n",
       "    <tr>\n",
       "      <th>0</th>\n",
       "      <td>F</td>\n",
       "      <td>30</td>\n",
       "      <td>1</td>\n",
       "    </tr>\n",
       "    <tr>\n",
       "      <th>1</th>\n",
       "      <td>F</td>\n",
       "      <td>41</td>\n",
       "      <td>1</td>\n",
       "    </tr>\n",
       "    <tr>\n",
       "      <th>2</th>\n",
       "      <td>F</td>\n",
       "      <td>42</td>\n",
       "      <td>1</td>\n",
       "    </tr>\n",
       "    <tr>\n",
       "      <th>3</th>\n",
       "      <td>F</td>\n",
       "      <td>51</td>\n",
       "      <td>1</td>\n",
       "    </tr>\n",
       "    <tr>\n",
       "      <th>4</th>\n",
       "      <td>F</td>\n",
       "      <td>52</td>\n",
       "      <td>2</td>\n",
       "    </tr>\n",
       "    <tr>\n",
       "      <th>5</th>\n",
       "      <td>F</td>\n",
       "      <td>53</td>\n",
       "      <td>2</td>\n",
       "    </tr>\n",
       "    <tr>\n",
       "      <th>6</th>\n",
       "      <td>M</td>\n",
       "      <td>61</td>\n",
       "      <td>2</td>\n",
       "    </tr>\n",
       "    <tr>\n",
       "      <th>7</th>\n",
       "      <td>M</td>\n",
       "      <td>62</td>\n",
       "      <td>2</td>\n",
       "    </tr>\n",
       "    <tr>\n",
       "      <th>8</th>\n",
       "      <td>M</td>\n",
       "      <td>68</td>\n",
       "      <td>2</td>\n",
       "    </tr>\n",
       "    <tr>\n",
       "      <th>9</th>\n",
       "      <td>F</td>\n",
       "      <td>69</td>\n",
       "      <td>2</td>\n",
       "    </tr>\n",
       "    <tr>\n",
       "      <th>10</th>\n",
       "      <td>F</td>\n",
       "      <td>77</td>\n",
       "      <td>2</td>\n",
       "    </tr>\n",
       "    <tr>\n",
       "      <th>11</th>\n",
       "      <td>M</td>\n",
       "      <td>78</td>\n",
       "      <td>2</td>\n",
       "    </tr>\n",
       "    <tr>\n",
       "      <th>12</th>\n",
       "      <td>M</td>\n",
       "      <td>79</td>\n",
       "      <td>4</td>\n",
       "    </tr>\n",
       "    <tr>\n",
       "      <th>13</th>\n",
       "      <td>T</td>\n",
       "      <td>88</td>\n",
       "      <td>4</td>\n",
       "    </tr>\n",
       "    <tr>\n",
       "      <th>14</th>\n",
       "      <td>F</td>\n",
       "      <td>89</td>\n",
       "      <td>4</td>\n",
       "    </tr>\n",
       "    <tr>\n",
       "      <th>15</th>\n",
       "      <td>T</td>\n",
       "      <td>100</td>\n",
       "      <td>4</td>\n",
       "    </tr>\n",
       "  </tbody>\n",
       "</table>\n",
       "</div>"
      ],
      "text/plain": [
       "   Gender  Marks  assigments\n",
       "0       F     30           1\n",
       "1       F     41           1\n",
       "2       F     42           1\n",
       "3       F     51           1\n",
       "4       F     52           2\n",
       "5       F     53           2\n",
       "6       M     61           2\n",
       "7       M     62           2\n",
       "8       M     68           2\n",
       "9       F     69           2\n",
       "10      F     77           2\n",
       "11      M     78           2\n",
       "12      M     79           4\n",
       "13      T     88           4\n",
       "14      F     89           4\n",
       "15      T    100           4"
      ]
     },
     "execution_count": 28,
     "metadata": {},
     "output_type": "execute_result"
    }
   ],
   "source": [
    "df = pd.DataFrame({'Gender':['F','F','F','F','F','F','M','M','M','F','F','M','M','T','F','T'],\n",
    "                  'Marks':[30,41,42,51,52,53,61,62,68,69,77,78,79,88,89,100],\n",
    "                  'assigments':[1,1,1,1,2,2,2,2,2,2,2,2,4,4,4,4]\n",
    "                  })\n",
    "df"
   ]
  },
  {
   "cell_type": "markdown",
   "id": "02b9fbb4-cba1-458d-9543-8a0497b17446",
   "metadata": {},
   "source": [
    "## Frequency Distribution"
   ]
  },
  {
   "cell_type": "code",
   "execution_count": 29,
   "id": "5e86afdb-5f20-4f0d-9455-c54b4bb79ebc",
   "metadata": {},
   "outputs": [
    {
     "data": {
      "text/plain": [
       "array(['F', 'M', 'T'], dtype=object)"
      ]
     },
     "execution_count": 29,
     "metadata": {},
     "output_type": "execute_result"
    }
   ],
   "source": [
    "df.Gender.unique()"
   ]
  },
  {
   "cell_type": "code",
   "execution_count": 30,
   "id": "78f7dcb6-45a1-4c07-9e5a-21322d70ad29",
   "metadata": {
    "scrolled": true
   },
   "outputs": [
    {
     "data": {
      "text/plain": [
       "Gender\n",
       "F    9\n",
       "M    5\n",
       "T    2\n",
       "Name: count, dtype: int64"
      ]
     },
     "execution_count": 30,
     "metadata": {},
     "output_type": "execute_result"
    }
   ],
   "source": [
    "df.Gender.value_counts()"
   ]
  },
  {
   "cell_type": "markdown",
   "id": "417d8f78-0a74-4b66-94ee-f378b0d62610",
   "metadata": {},
   "source": [
    "###  Discrete"
   ]
  },
  {
   "cell_type": "code",
   "execution_count": 31,
   "id": "e10cf36b-c026-4c89-83d2-2b806fd9c9ca",
   "metadata": {},
   "outputs": [
    {
     "data": {
      "text/plain": [
       "<Axes: xlabel='Gender', ylabel='count'>"
      ]
     },
     "execution_count": 31,
     "metadata": {},
     "output_type": "execute_result"
    },
    {
     "data": {
      "image/png": "[encoded data removed]",
      "text/plain": [
       "<Figure size 300x300 with 1 Axes>"
      ]
     },
     "metadata": {},
     "output_type": "display_data"
    }
   ],
   "source": [
    "plt.figure(figsize = (3,3))\n",
    "sns.countplot(x =df.Gender)"
   ]
  },
  {
   "cell_type": "markdown",
   "id": "d4df0585-a362-4b4d-859b-69ced7a37d03",
   "metadata": {},
   "source": [
    "### Continious"
   ]
  },
  {
   "cell_type": "code",
   "execution_count": 32,
   "id": "1466f854-f239-42d9-926d-a1387b24e687",
   "metadata": {},
   "outputs": [
    {
     "data": {
      "text/plain": [
       "<Axes: xlabel='Marks', ylabel='Count'>"
      ]
     },
     "execution_count": 32,
     "metadata": {},
     "output_type": "execute_result"
    },
    {
     "data": {
      "image/png": "[encoded data removed]",
      "text/plain": [
       "<Figure size 300x300 with 1 Axes>"
      ]
     },
     "metadata": {},
     "output_type": "display_data"
    }
   ],
   "source": [
    "plt.figure(figsize = (3,3))\n",
    "sns.histplot( df.Marks, bins = 7)"
   ]
  },
  {
   "cell_type": "markdown",
   "id": "f8ac452d-f7b4-4ce9-b403-76d0af91adb8",
   "metadata": {},
   "source": [
    "### Cumulative"
   ]
  },
  {
   "cell_type": "code",
   "execution_count": 33,
   "id": "2d383952-d198-48a8-af00-1286395164fa",
   "metadata": {},
   "outputs": [
    {
     "data": {
      "text/plain": [
       "<Axes: xlabel='Marks', ylabel='Count'>"
      ]
     },
     "execution_count": 33,
     "metadata": {},
     "output_type": "execute_result"
    },
    {
     "data": {
      "image/png": "[encoded data removed]",
      "text/plain": [
       "<Figure size 300x300 with 1 Axes>"
      ]
     },
     "metadata": {},
     "output_type": "display_data"
    }
   ],
   "source": [
    "plt.figure(figsize = (3,3))\n",
    "sns.histplot( df.Marks,cumulative = True,bins = 7)"
   ]
  },
  {
   "cell_type": "markdown",
   "id": "80f17d41-a414-487e-ba27-80f6a440cb4f",
   "metadata": {},
   "source": [
    "## Probability Distribution"
   ]
  },
  {
   "cell_type": "markdown",
   "id": "b9b16938-6724-45c0-ba57-6d19421a84f7",
   "metadata": {},
   "source": [
    "### Discrete"
   ]
  },
  {
   "cell_type": "code",
   "execution_count": 34,
   "id": "d9f028ed-d4a9-4686-9202-3722f55beddd",
   "metadata": {},
   "outputs": [
    {
     "data": {
      "text/plain": [
       "<Axes: xlabel='Gender', ylabel='probability'>"
      ]
     },
     "execution_count": 34,
     "metadata": {},
     "output_type": "execute_result"
    },
    {
     "data": {
      "image/png": "[encoded data removed]",
      "text/plain": [
       "<Figure size 300x300 with 1 Axes>"
      ]
     },
     "metadata": {},
     "output_type": "display_data"
    }
   ],
   "source": [
    "plt.figure(figsize = (3,3))\n",
    "sns.countplot(x = df.Gender,stat = 'probability')"
   ]
  },
  {
   "cell_type": "markdown",
   "id": "23fca863-e765-4737-bbf2-8edce037cc1d",
   "metadata": {},
   "source": [
    "### Continious "
   ]
  },
  {
   "cell_type": "code",
   "execution_count": 35,
   "id": "2a72c00d-fdad-45e4-8305-d2365a86b4f4",
   "metadata": {},
   "outputs": [
    {
     "data": {
      "text/plain": [
       "<Axes: xlabel='Marks', ylabel='Probability'>"
      ]
     },
     "execution_count": 35,
     "metadata": {},
     "output_type": "execute_result"
    },
    {
     "data": {
      "image/png": "[encoded data removed]",
      "text/plain": [
       "<Figure size 300x300 with 1 Axes>"
      ]
     },
     "metadata": {},
     "output_type": "display_data"
    }
   ],
   "source": [
    "plt.figure(figsize = (3,3))\n",
    "sns.histplot(df.Marks,bins = 7,stat = 'probability' )"
   ]
  },
  {
   "cell_type": "markdown",
   "id": "c412f563-86b0-49d5-96a2-d62d77f7dfcd",
   "metadata": {},
   "source": [
    "### Cumulitive"
   ]
  },
  {
   "cell_type": "code",
   "execution_count": 36,
   "id": "7d91e56a-bc46-4ad4-a119-8715ccd1d96e",
   "metadata": {},
   "outputs": [
    {
     "data": {
      "text/plain": [
       "<Axes: xlabel='Marks', ylabel='Probability'>"
      ]
     },
     "execution_count": 36,
     "metadata": {},
     "output_type": "execute_result"
    },
    {
     "data": {
      "image/png": "[encoded data removed]",
      "text/plain": [
       "<Figure size 300x300 with 1 Axes>"
      ]
     },
     "metadata": {},
     "output_type": "display_data"
    }
   ],
   "source": [
    "plt.figure(figsize = (3,3))\n",
    "sns.histplot(df.Marks,bins = 7,stat = 'probability',cumulative = True )"
   ]
  },
  {
   "cell_type": "markdown",
   "id": "e3c0a14b-0048-4166-bc12-976844d7436d",
   "metadata": {},
   "source": [
    "##  Outliere detection"
   ]
  },
  {
   "cell_type": "code",
   "execution_count": 37,
   "id": "ad2342f9-d69a-4ccd-86a2-4639da562a2b",
   "metadata": {},
   "outputs": [],
   "source": [
    "df = pd.DataFrame({\n",
    "    \"Gender\": [\"M\", \"F\", \"F\", \"M\", \"M\", \"M\", \"F\", \"M\", \"F\", \"F\", \"T\", \"T\", \"M\", \"M\", \"F\", \"M\"],\n",
    "    \"Marks\": [30, 41, 42, 51, 52, 53, 61, 62, 68, 69, 77, 78, 79, 88, 89, 200],\n",
    "    \"UD\": [9.00, 9.10, 9.15, 9.20, 9.35, 9.34, 9.40, 9.45, 9.55, 9.65, 9.60, 9.70, 9.80, 9.85, 9.90, 10.00],\n",
    "    \"X\": [0, 11, 12, 20, 22, 23, 31, 32, 38, 39, 47, 48, 49, 58, 59, 70],\n",
    "    \"Y\": [0, 11, 12, 21, 22, 23, 24, 28, 29, 33, 34, 35, 37, 44, 59, 70],\n",
    "    \"Z\": [0, 11, 12, 21, 22, 23, 34, 38, 49, 43, 44, 45, 47, 54, 59, 70]\n",
    "})"
   ]
  },
  {
   "cell_type": "code",
   "execution_count": 38,
   "id": "2da8d2c2-ccaf-4493-820b-0232547059e3",
   "metadata": {},
   "outputs": [
    {
     "data": {
      "text/plain": [
       "<function matplotlib.pyplot.show(close=None, block=None)>"
      ]
     },
     "execution_count": 38,
     "metadata": {},
     "output_type": "execute_result"
    },
    {
     "data": {
      "image/png": "[encoded data removed]",
      "text/plain": [
       "<Figure size 640x480 with 1 Axes>"
      ]
     },
     "metadata": {},
     "output_type": "display_data"
    }
   ],
   "source": [
    "import matplotlib.pyplot as plt\n",
    "import seaborn as sns\n",
    "sns.boxplot(y = df.Marks)\n",
    "plt.show"
   ]
  },
  {
   "cell_type": "code",
   "execution_count": 39,
   "id": "e05e296c-0adf-4d0b-a026-a5a5543b4c4e",
   "metadata": {},
   "outputs": [
    {
     "data": {
      "text/html": [
       "<div>\n",
       "<style scoped>\n",
       "    .dataframe tbody tr th:only-of-type {\n",
       "        vertical-align: middle;\n",
       "    }\n",
       "\n",
       "    .dataframe tbody tr th {\n",
       "        vertical-align: top;\n",
       "    }\n",
       "\n",
       "    .dataframe thead th {\n",
       "        text-align: right;\n",
       "    }\n",
       "</style>\n",
       "<table border=\"1\" class=\"dataframe\">\n",
       "  <thead>\n",
       "    <tr style=\"text-align: right;\">\n",
       "      <th></th>\n",
       "      <th>Marks</th>\n",
       "      <th>UD</th>\n",
       "      <th>X</th>\n",
       "      <th>Y</th>\n",
       "      <th>Z</th>\n",
       "    </tr>\n",
       "  </thead>\n",
       "  <tbody>\n",
       "    <tr>\n",
       "      <th>count</th>\n",
       "      <td>16.00000</td>\n",
       "      <td>16.00000</td>\n",
       "      <td>16.000000</td>\n",
       "      <td>16.000000</td>\n",
       "      <td>16.000000</td>\n",
       "    </tr>\n",
       "    <tr>\n",
       "      <th>mean</th>\n",
       "      <td>71.25000</td>\n",
       "      <td>9.50250</td>\n",
       "      <td>34.937500</td>\n",
       "      <td>30.125000</td>\n",
       "      <td>35.750000</td>\n",
       "    </tr>\n",
       "    <tr>\n",
       "      <th>std</th>\n",
       "      <td>38.38663</td>\n",
       "      <td>0.30337</td>\n",
       "      <td>19.590708</td>\n",
       "      <td>17.427469</td>\n",
       "      <td>19.299396</td>\n",
       "    </tr>\n",
       "    <tr>\n",
       "      <th>min</th>\n",
       "      <td>30.00000</td>\n",
       "      <td>9.00000</td>\n",
       "      <td>0.000000</td>\n",
       "      <td>0.000000</td>\n",
       "      <td>0.000000</td>\n",
       "    </tr>\n",
       "    <tr>\n",
       "      <th>25%</th>\n",
       "      <td>51.75000</td>\n",
       "      <td>9.30500</td>\n",
       "      <td>21.500000</td>\n",
       "      <td>21.750000</td>\n",
       "      <td>21.750000</td>\n",
       "    </tr>\n",
       "    <tr>\n",
       "      <th>50%</th>\n",
       "      <td>65.00000</td>\n",
       "      <td>9.50000</td>\n",
       "      <td>35.000000</td>\n",
       "      <td>28.500000</td>\n",
       "      <td>40.500000</td>\n",
       "    </tr>\n",
       "    <tr>\n",
       "      <th>75%</th>\n",
       "      <td>78.25000</td>\n",
       "      <td>9.72500</td>\n",
       "      <td>48.250000</td>\n",
       "      <td>35.500000</td>\n",
       "      <td>47.500000</td>\n",
       "    </tr>\n",
       "    <tr>\n",
       "      <th>max</th>\n",
       "      <td>200.00000</td>\n",
       "      <td>10.00000</td>\n",
       "      <td>70.000000</td>\n",
       "      <td>70.000000</td>\n",
       "      <td>70.000000</td>\n",
       "    </tr>\n",
       "  </tbody>\n",
       "</table>\n",
       "</div>"
      ],
      "text/plain": [
       "           Marks        UD          X          Y          Z\n",
       "count   16.00000  16.00000  16.000000  16.000000  16.000000\n",
       "mean    71.25000   9.50250  34.937500  30.125000  35.750000\n",
       "std     38.38663   0.30337  19.590708  17.427469  19.299396\n",
       "min     30.00000   9.00000   0.000000   0.000000   0.000000\n",
       "25%     51.75000   9.30500  21.500000  21.750000  21.750000\n",
       "50%     65.00000   9.50000  35.000000  28.500000  40.500000\n",
       "75%     78.25000   9.72500  48.250000  35.500000  47.500000\n",
       "max    200.00000  10.00000  70.000000  70.000000  70.000000"
      ]
     },
     "execution_count": 39,
     "metadata": {},
     "output_type": "execute_result"
    }
   ],
   "source": [
    "df.describe()"
   ]
  },
  {
   "cell_type": "code",
   "execution_count": 40,
   "id": "e7041569-764d-4318-86e1-08c26577ee2f",
   "metadata": {},
   "outputs": [
    {
     "data": {
      "text/plain": [
       "0      30\n",
       "1      41\n",
       "2      42\n",
       "3      51\n",
       "4      52\n",
       "5      53\n",
       "6      61\n",
       "7      62\n",
       "8      68\n",
       "9      69\n",
       "10     77\n",
       "11     78\n",
       "12     79\n",
       "13     88\n",
       "14     89\n",
       "15    200\n",
       "Name: Marks, dtype: int64"
      ]
     },
     "execution_count": 40,
     "metadata": {},
     "output_type": "execute_result"
    }
   ],
   "source": [
    "df.Marks "
   ]
  },
  {
   "cell_type": "code",
   "execution_count": 41,
   "id": "eb191960-e361-453b-9034-65b7d2907536",
   "metadata": {},
   "outputs": [
    {
     "data": {
      "text/plain": [
       "51.75"
      ]
     },
     "execution_count": 41,
     "metadata": {},
     "output_type": "execute_result"
    }
   ],
   "source": [
    "Q1 = df.Marks.quantile(0.25) \n",
    "Q1"
   ]
  },
  {
   "cell_type": "code",
   "execution_count": 42,
   "id": "206a2265-874f-4c70-96b2-f5921ad482ef",
   "metadata": {},
   "outputs": [
    {
     "data": {
      "text/plain": [
       "78.25"
      ]
     },
     "execution_count": 42,
     "metadata": {},
     "output_type": "execute_result"
    }
   ],
   "source": [
    "Q3 =  df.Marks.quantile(0.75)\n",
    "Q3"
   ]
  },
  {
   "cell_type": "code",
   "execution_count": 43,
   "id": "4f5546f2-181a-4ace-9176-ac0f4a001cd9",
   "metadata": {},
   "outputs": [
    {
     "data": {
      "text/plain": [
       "26.5"
      ]
     },
     "execution_count": 43,
     "metadata": {},
     "output_type": "execute_result"
    }
   ],
   "source": [
    "IQR = Q3 - Q1\n",
    "IQR"
   ]
  },
  {
   "cell_type": "code",
   "execution_count": 44,
   "id": "659bb3b6-cce2-47df-9125-1c0c23791306",
   "metadata": {},
   "outputs": [],
   "source": [
    "lower_limit = Q1 - (1.5 * IQR)\n",
    "upper_limit = Q3 + (1.5 * IQR)"
   ]
  },
  {
   "cell_type": "code",
   "execution_count": 45,
   "id": "ac44e3a4-aff7-46e1-aed3-ec6d63ef43ab",
   "metadata": {},
   "outputs": [
    {
     "data": {
      "text/plain": [
       "15    200\n",
       "Name: Marks, dtype: int64"
      ]
     },
     "execution_count": 45,
     "metadata": {},
     "output_type": "execute_result"
    }
   ],
   "source": [
    "df.Marks[(df.Marks <lower_limit) | (df.Marks > upper_limit)]  # Extract the outlire"
   ]
  },
  {
   "cell_type": "code",
   "execution_count": 46,
   "id": "e1330680-11a8-43de-b377-6daea7b650fc",
   "metadata": {},
   "outputs": [],
   "source": [
    "df.Marks[(df.Marks <lower_limit) | (df.Marks > upper_limit)] = df.Marks[(df.Marks <lower_limit) | (df.Marks < upper_limit)]"
   ]
  },
  {
   "cell_type": "code",
   "execution_count": 47,
   "id": "b7d84ddc-0c19-4440-8be2-2e660ff4c7c5",
   "metadata": {},
   "outputs": [
    {
     "data": {
      "text/plain": [
       "0     30.0\n",
       "1     41.0\n",
       "2     42.0\n",
       "3     51.0\n",
       "4     52.0\n",
       "5     53.0\n",
       "6     61.0\n",
       "7     62.0\n",
       "8     68.0\n",
       "9     69.0\n",
       "10    77.0\n",
       "11    78.0\n",
       "12    79.0\n",
       "13    88.0\n",
       "14    89.0\n",
       "Name: Marks, dtype: float64"
      ]
     },
     "execution_count": 47,
     "metadata": {},
     "output_type": "execute_result"
    }
   ],
   "source": [
    "df.Marks[(df.Marks <lower_limit) | (df.Marks < upper_limit)]"
   ]
  },
  {
   "cell_type": "code",
   "execution_count": 48,
   "id": "674bff54-b64c-408a-b706-1246f9ddb778",
   "metadata": {},
   "outputs": [
    {
     "data": {
      "text/plain": [
       "62.0"
      ]
     },
     "execution_count": 48,
     "metadata": {},
     "output_type": "execute_result"
    }
   ],
   "source": [
    "df.Marks.median()"
   ]
  },
  {
   "cell_type": "code",
   "execution_count": 49,
   "id": "25123c93-014a-4be3-a51a-e31410468fb2",
   "metadata": {},
   "outputs": [
    {
     "data": {
      "text/html": [
       "<div>\n",
       "<style scoped>\n",
       "    .dataframe tbody tr th:only-of-type {\n",
       "        vertical-align: middle;\n",
       "    }\n",
       "\n",
       "    .dataframe tbody tr th {\n",
       "        vertical-align: top;\n",
       "    }\n",
       "\n",
       "    .dataframe thead th {\n",
       "        text-align: right;\n",
       "    }\n",
       "</style>\n",
       "<table border=\"1\" class=\"dataframe\">\n",
       "  <thead>\n",
       "    <tr style=\"text-align: right;\">\n",
       "      <th></th>\n",
       "      <th>Gender</th>\n",
       "      <th>Marks</th>\n",
       "      <th>UD</th>\n",
       "      <th>X</th>\n",
       "      <th>Y</th>\n",
       "      <th>Z</th>\n",
       "    </tr>\n",
       "  </thead>\n",
       "  <tbody>\n",
       "    <tr>\n",
       "      <th>0</th>\n",
       "      <td>M</td>\n",
       "      <td>30.0</td>\n",
       "      <td>9.00</td>\n",
       "      <td>0</td>\n",
       "      <td>0</td>\n",
       "      <td>0</td>\n",
       "    </tr>\n",
       "    <tr>\n",
       "      <th>1</th>\n",
       "      <td>F</td>\n",
       "      <td>41.0</td>\n",
       "      <td>9.10</td>\n",
       "      <td>11</td>\n",
       "      <td>11</td>\n",
       "      <td>11</td>\n",
       "    </tr>\n",
       "    <tr>\n",
       "      <th>2</th>\n",
       "      <td>F</td>\n",
       "      <td>42.0</td>\n",
       "      <td>9.15</td>\n",
       "      <td>12</td>\n",
       "      <td>12</td>\n",
       "      <td>12</td>\n",
       "    </tr>\n",
       "    <tr>\n",
       "      <th>3</th>\n",
       "      <td>M</td>\n",
       "      <td>51.0</td>\n",
       "      <td>9.20</td>\n",
       "      <td>20</td>\n",
       "      <td>21</td>\n",
       "      <td>21</td>\n",
       "    </tr>\n",
       "    <tr>\n",
       "      <th>4</th>\n",
       "      <td>M</td>\n",
       "      <td>52.0</td>\n",
       "      <td>9.35</td>\n",
       "      <td>22</td>\n",
       "      <td>22</td>\n",
       "      <td>22</td>\n",
       "    </tr>\n",
       "    <tr>\n",
       "      <th>5</th>\n",
       "      <td>M</td>\n",
       "      <td>53.0</td>\n",
       "      <td>9.34</td>\n",
       "      <td>23</td>\n",
       "      <td>23</td>\n",
       "      <td>23</td>\n",
       "    </tr>\n",
       "    <tr>\n",
       "      <th>6</th>\n",
       "      <td>F</td>\n",
       "      <td>61.0</td>\n",
       "      <td>9.40</td>\n",
       "      <td>31</td>\n",
       "      <td>24</td>\n",
       "      <td>34</td>\n",
       "    </tr>\n",
       "    <tr>\n",
       "      <th>7</th>\n",
       "      <td>M</td>\n",
       "      <td>62.0</td>\n",
       "      <td>9.45</td>\n",
       "      <td>32</td>\n",
       "      <td>28</td>\n",
       "      <td>38</td>\n",
       "    </tr>\n",
       "    <tr>\n",
       "      <th>8</th>\n",
       "      <td>F</td>\n",
       "      <td>68.0</td>\n",
       "      <td>9.55</td>\n",
       "      <td>38</td>\n",
       "      <td>29</td>\n",
       "      <td>49</td>\n",
       "    </tr>\n",
       "    <tr>\n",
       "      <th>9</th>\n",
       "      <td>F</td>\n",
       "      <td>69.0</td>\n",
       "      <td>9.65</td>\n",
       "      <td>39</td>\n",
       "      <td>33</td>\n",
       "      <td>43</td>\n",
       "    </tr>\n",
       "    <tr>\n",
       "      <th>10</th>\n",
       "      <td>T</td>\n",
       "      <td>77.0</td>\n",
       "      <td>9.60</td>\n",
       "      <td>47</td>\n",
       "      <td>34</td>\n",
       "      <td>44</td>\n",
       "    </tr>\n",
       "    <tr>\n",
       "      <th>11</th>\n",
       "      <td>T</td>\n",
       "      <td>78.0</td>\n",
       "      <td>9.70</td>\n",
       "      <td>48</td>\n",
       "      <td>35</td>\n",
       "      <td>45</td>\n",
       "    </tr>\n",
       "    <tr>\n",
       "      <th>12</th>\n",
       "      <td>M</td>\n",
       "      <td>79.0</td>\n",
       "      <td>9.80</td>\n",
       "      <td>49</td>\n",
       "      <td>37</td>\n",
       "      <td>47</td>\n",
       "    </tr>\n",
       "    <tr>\n",
       "      <th>13</th>\n",
       "      <td>M</td>\n",
       "      <td>88.0</td>\n",
       "      <td>9.85</td>\n",
       "      <td>58</td>\n",
       "      <td>44</td>\n",
       "      <td>54</td>\n",
       "    </tr>\n",
       "    <tr>\n",
       "      <th>14</th>\n",
       "      <td>F</td>\n",
       "      <td>89.0</td>\n",
       "      <td>9.90</td>\n",
       "      <td>59</td>\n",
       "      <td>59</td>\n",
       "      <td>59</td>\n",
       "    </tr>\n",
       "    <tr>\n",
       "      <th>15</th>\n",
       "      <td>M</td>\n",
       "      <td>NaN</td>\n",
       "      <td>10.00</td>\n",
       "      <td>70</td>\n",
       "      <td>70</td>\n",
       "      <td>70</td>\n",
       "    </tr>\n",
       "  </tbody>\n",
       "</table>\n",
       "</div>"
      ],
      "text/plain": [
       "   Gender  Marks     UD   X   Y   Z\n",
       "0       M   30.0   9.00   0   0   0\n",
       "1       F   41.0   9.10  11  11  11\n",
       "2       F   42.0   9.15  12  12  12\n",
       "3       M   51.0   9.20  20  21  21\n",
       "4       M   52.0   9.35  22  22  22\n",
       "5       M   53.0   9.34  23  23  23\n",
       "6       F   61.0   9.40  31  24  34\n",
       "7       M   62.0   9.45  32  28  38\n",
       "8       F   68.0   9.55  38  29  49\n",
       "9       F   69.0   9.65  39  33  43\n",
       "10      T   77.0   9.60  47  34  44\n",
       "11      T   78.0   9.70  48  35  45\n",
       "12      M   79.0   9.80  49  37  47\n",
       "13      M   88.0   9.85  58  44  54\n",
       "14      F   89.0   9.90  59  59  59\n",
       "15      M    NaN  10.00  70  70  70"
      ]
     },
     "execution_count": 49,
     "metadata": {},
     "output_type": "execute_result"
    }
   ],
   "source": [
    "df"
   ]
  },
  {
   "cell_type": "code",
   "execution_count": 50,
   "id": "3bb398a6-e418-4be1-a3b5-dead3c835461",
   "metadata": {},
   "outputs": [],
   "source": [
    "import warnings \n",
    "warnings.filterwarnings('ignore')"
   ]
  },
  {
   "cell_type": "code",
   "execution_count": 51,
   "id": "74d1c09f-164b-4ae9-9690-4e3a3dd38aa8",
   "metadata": {},
   "outputs": [],
   "source": [
    "df.Marks[(df.Marks <lower_limit) | (df.Marks > upper_limit)] = df.Marks.median() # fill outlire with median"
   ]
  },
  {
   "cell_type": "code",
   "execution_count": 52,
   "id": "aaba8e1f-bbc3-436d-8a19-7233cf7d7028",
   "metadata": {},
   "outputs": [
    {
     "data": {
      "text/plain": [
       "<function matplotlib.pyplot.show(close=None, block=None)>"
      ]
     },
     "execution_count": 52,
     "metadata": {},
     "output_type": "execute_result"
    },
    {
     "data": {
      "image/png": "[encoded data removed]",
      "text/plain": [
       "<Figure size 640x480 with 1 Axes>"
      ]
     },
     "metadata": {},
     "output_type": "display_data"
    }
   ],
   "source": [
    "sns.boxplot(y = df.Marks) # check outlire is dectected or not \n",
    "plt.show"
   ]
  },
  {
   "cell_type": "markdown",
   "id": "60603e71-6d79-45f0-83cd-c6d302c21f99",
   "metadata": {},
   "source": [
    "## Mesure of shape"
   ]
  },
  {
   "cell_type": "code",
   "execution_count": 53,
   "id": "debcfccf-7e71-46ec-aa86-9c664bd2ab79",
   "metadata": {},
   "outputs": [
    {
     "data": {
      "text/html": [
       "<div>\n",
       "<style scoped>\n",
       "    .dataframe tbody tr th:only-of-type {\n",
       "        vertical-align: middle;\n",
       "    }\n",
       "\n",
       "    .dataframe tbody tr th {\n",
       "        vertical-align: top;\n",
       "    }\n",
       "\n",
       "    .dataframe thead th {\n",
       "        text-align: right;\n",
       "    }\n",
       "</style>\n",
       "<table border=\"1\" class=\"dataframe\">\n",
       "  <thead>\n",
       "    <tr style=\"text-align: right;\">\n",
       "      <th></th>\n",
       "      <th>X</th>\n",
       "      <th>Y</th>\n",
       "      <th>Z</th>\n",
       "    </tr>\n",
       "  </thead>\n",
       "  <tbody>\n",
       "    <tr>\n",
       "      <th>0</th>\n",
       "      <td>0</td>\n",
       "      <td>0</td>\n",
       "      <td>0</td>\n",
       "    </tr>\n",
       "    <tr>\n",
       "      <th>1</th>\n",
       "      <td>11</td>\n",
       "      <td>11</td>\n",
       "      <td>11</td>\n",
       "    </tr>\n",
       "    <tr>\n",
       "      <th>2</th>\n",
       "      <td>12</td>\n",
       "      <td>12</td>\n",
       "      <td>12</td>\n",
       "    </tr>\n",
       "    <tr>\n",
       "      <th>3</th>\n",
       "      <td>21</td>\n",
       "      <td>21</td>\n",
       "      <td>21</td>\n",
       "    </tr>\n",
       "    <tr>\n",
       "      <th>4</th>\n",
       "      <td>22</td>\n",
       "      <td>22</td>\n",
       "      <td>22</td>\n",
       "    </tr>\n",
       "    <tr>\n",
       "      <th>5</th>\n",
       "      <td>23</td>\n",
       "      <td>23</td>\n",
       "      <td>23</td>\n",
       "    </tr>\n",
       "    <tr>\n",
       "      <th>6</th>\n",
       "      <td>31</td>\n",
       "      <td>24</td>\n",
       "      <td>34</td>\n",
       "    </tr>\n",
       "    <tr>\n",
       "      <th>7</th>\n",
       "      <td>32</td>\n",
       "      <td>28</td>\n",
       "      <td>38</td>\n",
       "    </tr>\n",
       "    <tr>\n",
       "      <th>8</th>\n",
       "      <td>38</td>\n",
       "      <td>29</td>\n",
       "      <td>49</td>\n",
       "    </tr>\n",
       "    <tr>\n",
       "      <th>9</th>\n",
       "      <td>39</td>\n",
       "      <td>33</td>\n",
       "      <td>43</td>\n",
       "    </tr>\n",
       "    <tr>\n",
       "      <th>10</th>\n",
       "      <td>47</td>\n",
       "      <td>34</td>\n",
       "      <td>44</td>\n",
       "    </tr>\n",
       "    <tr>\n",
       "      <th>11</th>\n",
       "      <td>48</td>\n",
       "      <td>35</td>\n",
       "      <td>45</td>\n",
       "    </tr>\n",
       "    <tr>\n",
       "      <th>12</th>\n",
       "      <td>49</td>\n",
       "      <td>37</td>\n",
       "      <td>47</td>\n",
       "    </tr>\n",
       "    <tr>\n",
       "      <th>13</th>\n",
       "      <td>58</td>\n",
       "      <td>44</td>\n",
       "      <td>54</td>\n",
       "    </tr>\n",
       "    <tr>\n",
       "      <th>14</th>\n",
       "      <td>59</td>\n",
       "      <td>59</td>\n",
       "      <td>59</td>\n",
       "    </tr>\n",
       "    <tr>\n",
       "      <th>15</th>\n",
       "      <td>70</td>\n",
       "      <td>70</td>\n",
       "      <td>70</td>\n",
       "    </tr>\n",
       "  </tbody>\n",
       "</table>\n",
       "</div>"
      ],
      "text/plain": [
       "     X   Y   Z\n",
       "0    0   0   0\n",
       "1   11  11  11\n",
       "2   12  12  12\n",
       "3   21  21  21\n",
       "4   22  22  22\n",
       "5   23  23  23\n",
       "6   31  24  34\n",
       "7   32  28  38\n",
       "8   38  29  49\n",
       "9   39  33  43\n",
       "10  47  34  44\n",
       "11  48  35  45\n",
       "12  49  37  47\n",
       "13  58  44  54\n",
       "14  59  59  59\n",
       "15  70  70  70"
      ]
     },
     "execution_count": 53,
     "metadata": {},
     "output_type": "execute_result"
    }
   ],
   "source": [
    "df = pd.DataFrame({'X':[0,11,12,21,22,23,31,32,38,39,47,48,49,58,59,70],\n",
    "                  'Y':[0,11,12,21,22,23,24,28,29,33,34,35,37,44,59,70],\n",
    "                  'Z':[0,11,12,21,22,23,34,38,49,43,44,45,47,54,59,70]})\n",
    "df"
   ]
  },
  {
   "cell_type": "code",
   "execution_count": 54,
   "id": "61184845-cbe9-4f0f-bca4-4d165877233a",
   "metadata": {},
   "outputs": [
    {
     "data": {
      "text/plain": [
       "35.0"
      ]
     },
     "execution_count": 54,
     "metadata": {},
     "output_type": "execute_result"
    }
   ],
   "source": [
    "df.X.mean()"
   ]
  },
  {
   "cell_type": "code",
   "execution_count": 55,
   "id": "5e7c8d23-7e17-4bf9-a94f-3e32f9f8f5b8",
   "metadata": {},
   "outputs": [
    {
     "data": {
      "text/plain": [
       "35.0"
      ]
     },
     "execution_count": 55,
     "metadata": {},
     "output_type": "execute_result"
    }
   ],
   "source": [
    "df.X.median()"
   ]
  },
  {
   "cell_type": "code",
   "execution_count": 56,
   "id": "258943c6-fb65-4531-a62e-369338200a7e",
   "metadata": {},
   "outputs": [
    {
     "data": {
      "text/plain": [
       "0.0"
      ]
     },
     "execution_count": 56,
     "metadata": {},
     "output_type": "execute_result"
    }
   ],
   "source": [
    "df.X.skew()"
   ]
  },
  {
   "cell_type": "code",
   "execution_count": 57,
   "id": "3218042c-358f-4c4f-96ac-7227009eea94",
   "metadata": {},
   "outputs": [
    {
     "data": {
      "text/plain": [
       "<Axes: xlabel='X', ylabel='Count'>"
      ]
     },
     "execution_count": 57,
     "metadata": {},
     "output_type": "execute_result"
    },
    {
     "data": {
      "image/png": "[encoded data removed]",
      "text/plain": [
       "<Figure size 640x480 with 1 Axes>"
      ]
     },
     "metadata": {},
     "output_type": "display_data"
    }
   ],
   "source": [
    "sns.histplot(df.X,kde = True,bins = 7)#Normal distribution or perfect symetrical"
   ]
  },
  {
   "cell_type": "code",
   "execution_count": 58,
   "id": "1d7f80e2-ec50-4d37-98a5-b89f05320976",
   "metadata": {},
   "outputs": [
    {
     "data": {
      "text/plain": [
       "30.125"
      ]
     },
     "execution_count": 58,
     "metadata": {},
     "output_type": "execute_result"
    }
   ],
   "source": [
    "df.Y.mean()"
   ]
  },
  {
   "cell_type": "code",
   "execution_count": 59,
   "id": "1db70719-3bff-4c04-b7ba-03f464c08dc7",
   "metadata": {},
   "outputs": [
    {
     "data": {
      "text/plain": [
       "28.5"
      ]
     },
     "execution_count": 59,
     "metadata": {},
     "output_type": "execute_result"
    }
   ],
   "source": [
    "df.Y.median()"
   ]
  },
  {
   "cell_type": "code",
   "execution_count": 60,
   "id": "9da7f0c4-bfef-40c7-8246-7e3531d17205",
   "metadata": {},
   "outputs": [
    {
     "data": {
      "text/plain": [
       "0.6978985152470283"
      ]
     },
     "execution_count": 60,
     "metadata": {},
     "output_type": "execute_result"
    }
   ],
   "source": [
    "df.Y.skew()"
   ]
  },
  {
   "cell_type": "code",
   "execution_count": 61,
   "id": "84723d4d-a7f3-44d7-99f8-e1ccf5ab8dc9",
   "metadata": {},
   "outputs": [
    {
     "data": {
      "text/plain": [
       "<Axes: xlabel='Y', ylabel='Count'>"
      ]
     },
     "execution_count": 61,
     "metadata": {},
     "output_type": "execute_result"
    },
    {
     "data": {
      "image/png": "[encoded data removed]",
      "text/plain": [
       "<Figure size 640x480 with 1 Axes>"
      ]
     },
     "metadata": {},
     "output_type": "display_data"
    }
   ],
   "source": [
    "sns.histplot(df.Y,kde = True) # left squeness or negative "
   ]
  },
  {
   "cell_type": "code",
   "execution_count": 62,
   "id": "33338e8e-ac36-4af8-a78d-ebf12b2d1305",
   "metadata": {},
   "outputs": [
    {
     "data": {
      "text/plain": [
       "35.75"
      ]
     },
     "execution_count": 62,
     "metadata": {},
     "output_type": "execute_result"
    }
   ],
   "source": [
    "df.Z.mean()"
   ]
  },
  {
   "cell_type": "code",
   "execution_count": 63,
   "id": "e21b9a5b-a303-41f3-ab4c-5d9a0583eaf1",
   "metadata": {},
   "outputs": [
    {
     "data": {
      "text/plain": [
       "40.5"
      ]
     },
     "execution_count": 63,
     "metadata": {},
     "output_type": "execute_result"
    }
   ],
   "source": [
    "df.Z.median()"
   ]
  },
  {
   "cell_type": "code",
   "execution_count": 64,
   "id": "49a2ccf5-e1a4-450a-8938-600823bd7aaf",
   "metadata": {},
   "outputs": [
    {
     "data": {
      "text/plain": [
       "-0.18882851815445098"
      ]
     },
     "execution_count": 64,
     "metadata": {},
     "output_type": "execute_result"
    }
   ],
   "source": [
    "df.Z.skew()"
   ]
  },
  {
   "cell_type": "code",
   "execution_count": 65,
   "id": "259f8cc5-6c51-4d07-bebf-644580bc157a",
   "metadata": {},
   "outputs": [
    {
     "data": {
      "text/plain": [
       "<Axes: xlabel='Z', ylabel='Density'>"
      ]
     },
     "execution_count": 65,
     "metadata": {},
     "output_type": "execute_result"
    },
    {
     "data": {
      "image/png": "[encoded data removed]",
      "text/plain": [
       "<Figure size 640x480 with 1 Axes>"
      ]
     },
     "metadata": {},
     "output_type": "display_data"
    }
   ],
   "source": [
    "sns.kdeplot(df.Z)  # Right squness or positive"
   ]
  },
  {
   "cell_type": "code",
   "execution_count": 66,
   "id": "ef38e101-a8e6-4376-a163-e91a1b751c33",
   "metadata": {},
   "outputs": [
    {
     "data": {
      "text/plain": [
       "Text(0.5, 1.0, 'Normal distribution')"
      ]
     },
     "execution_count": 66,
     "metadata": {},
     "output_type": "execute_result"
    },
    {
     "data": {
      "image/png": "[encoded data removed]",
      "text/plain": [
       "<Figure size 640x480 with 1 Axes>"
      ]
     },
     "metadata": {},
     "output_type": "display_data"
    }
   ],
   "source": [
    "ds1 = pd.DataFrame([19.0,19.1,19.2,19.3,19.4,19.5,19.6, 19.7,19.8, 20.],columns = ['score'])\n",
    "sns.histplot(ds1['score'])\n",
    "plt.title('Normal distribution')"
   ]
  },
  {
   "cell_type": "code",
   "execution_count": 67,
   "id": "39edc1fd-a822-4a1c-9634-b271d2db9402",
   "metadata": {},
   "outputs": [
    {
     "data": {
      "text/html": [
       "<div>\n",
       "<style scoped>\n",
       "    .dataframe tbody tr th:only-of-type {\n",
       "        vertical-align: middle;\n",
       "    }\n",
       "\n",
       "    .dataframe tbody tr th {\n",
       "        vertical-align: top;\n",
       "    }\n",
       "\n",
       "    .dataframe thead th {\n",
       "        text-align: right;\n",
       "    }\n",
       "</style>\n",
       "<table border=\"1\" class=\"dataframe\">\n",
       "  <thead>\n",
       "    <tr style=\"text-align: right;\">\n",
       "      <th></th>\n",
       "      <th>x</th>\n",
       "    </tr>\n",
       "  </thead>\n",
       "  <tbody>\n",
       "    <tr>\n",
       "      <th>0</th>\n",
       "      <td>1</td>\n",
       "    </tr>\n",
       "    <tr>\n",
       "      <th>1</th>\n",
       "      <td>2</td>\n",
       "    </tr>\n",
       "    <tr>\n",
       "      <th>2</th>\n",
       "      <td>3</td>\n",
       "    </tr>\n",
       "    <tr>\n",
       "      <th>3</th>\n",
       "      <td>4</td>\n",
       "    </tr>\n",
       "    <tr>\n",
       "      <th>4</th>\n",
       "      <td>5</td>\n",
       "    </tr>\n",
       "  </tbody>\n",
       "</table>\n",
       "</div>"
      ],
      "text/plain": [
       "   x\n",
       "0  1\n",
       "1  2\n",
       "2  3\n",
       "3  4\n",
       "4  5"
      ]
     },
     "execution_count": 67,
     "metadata": {},
     "output_type": "execute_result"
    }
   ],
   "source": [
    "df = pd.DataFrame({'x': [1,2,3,4,5]})\n",
    "df"
   ]
  },
  {
   "cell_type": "code",
   "execution_count": 68,
   "id": "bcb9e0a4-5d6f-454f-a0bd-c56c545d4bf1",
   "metadata": {},
   "outputs": [
    {
     "data": {
      "text/plain": [
       "1.4142135623730951"
      ]
     },
     "execution_count": 68,
     "metadata": {},
     "output_type": "execute_result"
    }
   ],
   "source": [
    "df['x'].std(ddof = 0)"
   ]
  },
  {
   "cell_type": "code",
   "execution_count": 69,
   "id": "b6dac806-3af0-4c81-b5a5-c260972f6f7d",
   "metadata": {},
   "outputs": [],
   "source": [
    "import pandas as pd"
   ]
  },
  {
   "cell_type": "code",
   "execution_count": 70,
   "id": "72e5fb60-cb4e-4f28-9203-810edb5414e3",
   "metadata": {},
   "outputs": [
    {
     "data": {
      "text/html": [
       "<div>\n",
       "<style scoped>\n",
       "    .dataframe tbody tr th:only-of-type {\n",
       "        vertical-align: middle;\n",
       "    }\n",
       "\n",
       "    .dataframe tbody tr th {\n",
       "        vertical-align: top;\n",
       "    }\n",
       "\n",
       "    .dataframe thead th {\n",
       "        text-align: right;\n",
       "    }\n",
       "</style>\n",
       "<table border=\"1\" class=\"dataframe\">\n",
       "  <thead>\n",
       "    <tr style=\"text-align: right;\">\n",
       "      <th></th>\n",
       "      <th>x</th>\n",
       "      <th>y</th>\n",
       "    </tr>\n",
       "  </thead>\n",
       "  <tbody>\n",
       "    <tr>\n",
       "      <th>0</th>\n",
       "      <td>2</td>\n",
       "      <td>4</td>\n",
       "    </tr>\n",
       "    <tr>\n",
       "      <th>1</th>\n",
       "      <td>4</td>\n",
       "      <td>8</td>\n",
       "    </tr>\n",
       "    <tr>\n",
       "      <th>2</th>\n",
       "      <td>6</td>\n",
       "      <td>16</td>\n",
       "    </tr>\n",
       "    <tr>\n",
       "      <th>3</th>\n",
       "      <td>8</td>\n",
       "      <td>12</td>\n",
       "    </tr>\n",
       "    <tr>\n",
       "      <th>4</th>\n",
       "      <td>10</td>\n",
       "      <td>20</td>\n",
       "    </tr>\n",
       "  </tbody>\n",
       "</table>\n",
       "</div>"
      ],
      "text/plain": [
       "    x   y\n",
       "0   2   4\n",
       "1   4   8\n",
       "2   6  16\n",
       "3   8  12\n",
       "4  10  20"
      ]
     },
     "execution_count": 70,
     "metadata": {},
     "output_type": "execute_result"
    }
   ],
   "source": [
    "df = pd.DataFrame({'x':[2,4,6,8,10],\n",
    "                  'y':[4,8,16,12,20]})\n",
    "df"
   ]
  },
  {
   "cell_type": "code",
   "execution_count": 71,
   "id": "4859050e-be68-4a8a-8e76-aece0729fb88",
   "metadata": {},
   "outputs": [
    {
     "data": {
      "text/html": [
       "<div>\n",
       "<style scoped>\n",
       "    .dataframe tbody tr th:only-of-type {\n",
       "        vertical-align: middle;\n",
       "    }\n",
       "\n",
       "    .dataframe tbody tr th {\n",
       "        vertical-align: top;\n",
       "    }\n",
       "\n",
       "    .dataframe thead th {\n",
       "        text-align: right;\n",
       "    }\n",
       "</style>\n",
       "<table border=\"1\" class=\"dataframe\">\n",
       "  <thead>\n",
       "    <tr style=\"text-align: right;\">\n",
       "      <th></th>\n",
       "      <th>x</th>\n",
       "      <th>y</th>\n",
       "    </tr>\n",
       "  </thead>\n",
       "  <tbody>\n",
       "    <tr>\n",
       "      <th>x</th>\n",
       "      <td>10.0</td>\n",
       "      <td>18.0</td>\n",
       "    </tr>\n",
       "    <tr>\n",
       "      <th>y</th>\n",
       "      <td>18.0</td>\n",
       "      <td>40.0</td>\n",
       "    </tr>\n",
       "  </tbody>\n",
       "</table>\n",
       "</div>"
      ],
      "text/plain": [
       "      x     y\n",
       "x  10.0  18.0\n",
       "y  18.0  40.0"
      ]
     },
     "execution_count": 71,
     "metadata": {},
     "output_type": "execute_result"
    }
   ],
   "source": [
    "df.cov()  # by default sample varience "
   ]
  },
  {
   "cell_type": "code",
   "execution_count": 72,
   "id": "48b7d2a5-bc1e-418d-bd80-f3acb4d3b50a",
   "metadata": {},
   "outputs": [
    {
     "data": {
      "text/html": [
       "<div>\n",
       "<style scoped>\n",
       "    .dataframe tbody tr th:only-of-type {\n",
       "        vertical-align: middle;\n",
       "    }\n",
       "\n",
       "    .dataframe tbody tr th {\n",
       "        vertical-align: top;\n",
       "    }\n",
       "\n",
       "    .dataframe thead th {\n",
       "        text-align: right;\n",
       "    }\n",
       "</style>\n",
       "<table border=\"1\" class=\"dataframe\">\n",
       "  <thead>\n",
       "    <tr style=\"text-align: right;\">\n",
       "      <th></th>\n",
       "      <th>x</th>\n",
       "      <th>y</th>\n",
       "    </tr>\n",
       "  </thead>\n",
       "  <tbody>\n",
       "    <tr>\n",
       "      <th>x</th>\n",
       "      <td>10.0</td>\n",
       "      <td>18.0</td>\n",
       "    </tr>\n",
       "    <tr>\n",
       "      <th>y</th>\n",
       "      <td>18.0</td>\n",
       "      <td>40.0</td>\n",
       "    </tr>\n",
       "  </tbody>\n",
       "</table>\n",
       "</div>"
      ],
      "text/plain": [
       "      x     y\n",
       "x  10.0  18.0\n",
       "y  18.0  40.0"
      ]
     },
     "execution_count": 72,
     "metadata": {},
     "output_type": "execute_result"
    }
   ],
   "source": [
    "df.cov()"
   ]
  },
  {
   "cell_type": "code",
   "execution_count": 73,
   "id": "eb3a217c-2f01-41d1-aa35-394f96d658c8",
   "metadata": {},
   "outputs": [
    {
     "data": {
      "text/html": [
       "<div>\n",
       "<style scoped>\n",
       "    .dataframe tbody tr th:only-of-type {\n",
       "        vertical-align: middle;\n",
       "    }\n",
       "\n",
       "    .dataframe tbody tr th {\n",
       "        vertical-align: top;\n",
       "    }\n",
       "\n",
       "    .dataframe thead th {\n",
       "        text-align: right;\n",
       "    }\n",
       "</style>\n",
       "<table border=\"1\" class=\"dataframe\">\n",
       "  <thead>\n",
       "    <tr style=\"text-align: right;\">\n",
       "      <th></th>\n",
       "      <th>x</th>\n",
       "      <th>y</th>\n",
       "    </tr>\n",
       "  </thead>\n",
       "  <tbody>\n",
       "    <tr>\n",
       "      <th>x</th>\n",
       "      <td>1.0</td>\n",
       "      <td>0.9</td>\n",
       "    </tr>\n",
       "    <tr>\n",
       "      <th>y</th>\n",
       "      <td>0.9</td>\n",
       "      <td>1.0</td>\n",
       "    </tr>\n",
       "  </tbody>\n",
       "</table>\n",
       "</div>"
      ],
      "text/plain": [
       "     x    y\n",
       "x  1.0  0.9\n",
       "y  0.9  1.0"
      ]
     },
     "execution_count": 73,
     "metadata": {},
     "output_type": "execute_result"
    }
   ],
   "source": [
    "df.corr()"
   ]
  },
  {
   "cell_type": "markdown",
   "id": "ff98a02a-f10d-4109-9ee3-12747226feb0",
   "metadata": {},
   "source": [
    "# Infrencial statistics- continious data"
   ]
  },
  {
   "cell_type": "code",
   "execution_count": 74,
   "id": "c858f094-829e-4b34-8b56-a7719a971a7a",
   "metadata": {},
   "outputs": [],
   "source": [
    "import numpy as np\n",
    "import pandas as pd \n",
    "from scipy import stats"
   ]
  },
  {
   "cell_type": "markdown",
   "id": "66fad1a8-b85d-4706-bf12-aa5f1341e6ad",
   "metadata": {},
   "source": [
    "## 1 sample z test"
   ]
  },
  {
   "cell_type": "raw",
   "id": "a0744661-7ef4-402b-b69e-45691108b1ad",
   "metadata": {},
   "source": [
    "The length of 25 samples of a fabric are taken at random historic mean and std are 150 and 5.5 rispectivaly company manager wants to\n",
    "test if the current mean is equal to the historic mean assume alpha is 0.05"
   ]
  },
  {
   "cell_type": "markdown",
   "id": "9afbbfc9-c961-4819-aaa5-aca192e2ab06",
   "metadata": {},
   "source": [
    "### step 1 formulation of Ho and Ha"
   ]
  },
  {
   "cell_type": "raw",
   "id": "c6bf2747-56e7-491f-a28f-ed393bb5a536",
   "metadata": {},
   "source": [
    "Ho : mean = 150\n",
    "Ha : mean != 150"
   ]
  },
  {
   "cell_type": "markdown",
   "id": "5e3ce03a-8008-40df-81f4-761a09fa7cc1",
   "metadata": {},
   "source": [
    "### step 2 lavel of significience"
   ]
  },
  {
   "cell_type": "raw",
   "id": "98fc549b-e5a8-4b3c-a554-248988965d4f",
   "metadata": {},
   "source": [
    "alpha = 0.05"
   ]
  },
  {
   "cell_type": "code",
   "execution_count": 75,
   "id": "26b3d8c9-e18b-4b0b-b6a8-fb18eb21ad07",
   "metadata": {},
   "outputs": [
    {
     "data": {
      "text/html": [
       "<div>\n",
       "<style scoped>\n",
       "    .dataframe tbody tr th:only-of-type {\n",
       "        vertical-align: middle;\n",
       "    }\n",
       "\n",
       "    .dataframe tbody tr th {\n",
       "        vertical-align: top;\n",
       "    }\n",
       "\n",
       "    .dataframe thead th {\n",
       "        text-align: right;\n",
       "    }\n",
       "</style>\n",
       "<table border=\"1\" class=\"dataframe\">\n",
       "  <thead>\n",
       "    <tr style=\"text-align: right;\">\n",
       "      <th></th>\n",
       "      <th>Fabric_length</th>\n",
       "    </tr>\n",
       "  </thead>\n",
       "  <tbody>\n",
       "    <tr>\n",
       "      <th>0</th>\n",
       "      <td>151.2</td>\n",
       "    </tr>\n",
       "    <tr>\n",
       "      <th>1</th>\n",
       "      <td>160.3</td>\n",
       "    </tr>\n",
       "    <tr>\n",
       "      <th>2</th>\n",
       "      <td>147.5</td>\n",
       "    </tr>\n",
       "    <tr>\n",
       "      <th>3</th>\n",
       "      <td>149.2</td>\n",
       "    </tr>\n",
       "    <tr>\n",
       "      <th>4</th>\n",
       "      <td>159.2</td>\n",
       "    </tr>\n",
       "  </tbody>\n",
       "</table>\n",
       "</div>"
      ],
      "text/plain": [
       "   Fabric_length\n",
       "0          151.2\n",
       "1          160.3\n",
       "2          147.5\n",
       "3          149.2\n",
       "4          159.2"
      ]
     },
     "execution_count": 75,
     "metadata": {},
     "output_type": "execute_result"
    }
   ],
   "source": [
    "df = pd.read_excel(r\"C:\\Users\\gagan soni\\Downloads\\Fabric data.xlsx\")\n",
    "df.head()"
   ]
  },
  {
   "cell_type": "markdown",
   "id": "2aac9f80-b200-477b-bcbf-103e064be17c",
   "metadata": {},
   "source": [
    "### step 3 check for normality"
   ]
  },
  {
   "cell_type": "code",
   "execution_count": 76,
   "id": "c12b4daa-8b76-43b3-a4b6-cd07f5f51d0f",
   "metadata": {},
   "outputs": [
    {
     "data": {
      "text/plain": [
       "0.29650632012590666"
      ]
     },
     "execution_count": 76,
     "metadata": {},
     "output_type": "execute_result"
    }
   ],
   "source": [
    "df['Fabric_length'].skew()"
   ]
  },
  {
   "cell_type": "code",
   "execution_count": 77,
   "id": "4cc59bc8-cb6a-4d2d-8ae9-ded22502f763",
   "metadata": {},
   "outputs": [
    {
     "data": {
      "text/plain": [
       "<function matplotlib.pyplot.show(close=None, block=None)>"
      ]
     },
     "execution_count": 77,
     "metadata": {},
     "output_type": "execute_result"
    },
    {
     "data": {
      "image/png": "[encoded data removed]",
      "text/plain": [
       "<Figure size 640x480 with 1 Axes>"
      ]
     },
     "metadata": {},
     "output_type": "display_data"
    }
   ],
   "source": [
    "import seaborn as sns\n",
    "sns.kdeplot(df['Fabric_length'])\n",
    "plt.show"
   ]
  },
  {
   "cell_type": "markdown",
   "id": "2984b460-f3e9-40ea-83f8-513eabe8c1f6",
   "metadata": {},
   "source": [
    "### step 4 Select the statical test and calculate p value"
   ]
  },
  {
   "cell_type": "code",
   "execution_count": 78,
   "id": "4dbb59b1-584e-4487-ab1a-c92b6192b6ca",
   "metadata": {},
   "outputs": [
    {
     "data": {
      "text/plain": [
       "(4.488987748287781, 7.156241255356764e-06)"
      ]
     },
     "execution_count": 78,
     "metadata": {},
     "output_type": "execute_result"
    }
   ],
   "source": [
    "# 1 sample z test two tail rejection \n",
    "# we chose z test because std is given \n",
    "from statsmodels.stats.weightstats import *\n",
    "z_statistics_value,p_value = ztest(df['Fabric_length'],value = 150, alternative='two-sided')\n",
    "z_statistics_value,p_value"
   ]
  },
  {
   "cell_type": "markdown",
   "id": "aa7b0eba-b411-424d-a372-e67e5e15b85c",
   "metadata": {},
   "source": [
    "### step 5 Based on p value accept and reject Ho"
   ]
  },
  {
   "cell_type": "raw",
   "id": "ad9482df-334d-4dcb-941b-098d52993c8c",
   "metadata": {},
   "source": [
    "p < alpha\n",
    "p low null go\n",
    "reject Ho ----> mean != 150(action require)"
   ]
  },
  {
   "cell_type": "markdown",
   "id": "d93ddbb3-5ca7-4918-8a35-de6dbf48ba7a",
   "metadata": {},
   "source": [
    "## 1 sample t test"
   ]
  },
  {
   "cell_type": "raw",
   "id": "adc4c433-bf00-41cc-8f3e-2202cda1d4f4",
   "metadata": {},
   "source": [
    "The mean diameter of the bolt manufectured should be 10 mm abel to fit  and there are only 20  samples are given \n",
    "it check by the quality inspector check with 90 % confidence that the mean is not different from the specification values"
   ]
  },
  {
   "cell_type": "markdown",
   "id": "3660c9d7-1dc9-4869-97a7-4ed76d6316bd",
   "metadata": {},
   "source": [
    "### step 1"
   ]
  },
  {
   "cell_type": "markdown",
   "id": "28ba59de-e909-429b-a89b-aac4f5e9ec82",
   "metadata": {},
   "source": [
    "null hypothesis Ho == 20 mm (no action)\n",
    "\n",
    "alternat hypothesis Ha != 20 mm (action)"
   ]
  },
  {
   "cell_type": "code",
   "execution_count": 79,
   "id": "3cc94a73-dc0f-4791-8c74-754e9f22ffa8",
   "metadata": {},
   "outputs": [
    {
     "data": {
      "text/html": [
       "<div>\n",
       "<style scoped>\n",
       "    .dataframe tbody tr th:only-of-type {\n",
       "        vertical-align: middle;\n",
       "    }\n",
       "\n",
       "    .dataframe tbody tr th {\n",
       "        vertical-align: top;\n",
       "    }\n",
       "\n",
       "    .dataframe thead th {\n",
       "        text-align: right;\n",
       "    }\n",
       "</style>\n",
       "<table border=\"1\" class=\"dataframe\">\n",
       "  <thead>\n",
       "    <tr style=\"text-align: right;\">\n",
       "      <th></th>\n",
       "      <th>Diameter</th>\n",
       "    </tr>\n",
       "  </thead>\n",
       "  <tbody>\n",
       "    <tr>\n",
       "      <th>0</th>\n",
       "      <td>10.02</td>\n",
       "    </tr>\n",
       "    <tr>\n",
       "      <th>1</th>\n",
       "      <td>10.00</td>\n",
       "    </tr>\n",
       "    <tr>\n",
       "      <th>2</th>\n",
       "      <td>9.98</td>\n",
       "    </tr>\n",
       "    <tr>\n",
       "      <th>3</th>\n",
       "      <td>9.99</td>\n",
       "    </tr>\n",
       "    <tr>\n",
       "      <th>4</th>\n",
       "      <td>10.01</td>\n",
       "    </tr>\n",
       "  </tbody>\n",
       "</table>\n",
       "</div>"
      ],
      "text/plain": [
       "   Diameter\n",
       "0     10.02\n",
       "1     10.00\n",
       "2      9.98\n",
       "3      9.99\n",
       "4     10.01"
      ]
     },
     "execution_count": 79,
     "metadata": {},
     "output_type": "execute_result"
    }
   ],
   "source": [
    "df2 = pd.read_excel(r\"C:\\Users\\gagan soni\\Downloads\\Bolt diameter.xlsx\")\n",
    "df2.head()"
   ]
  },
  {
   "cell_type": "markdown",
   "id": "5e6d606f-4231-4472-a1ea-63efe4216591",
   "metadata": {},
   "source": [
    "### step 2 "
   ]
  },
  {
   "cell_type": "raw",
   "id": "b56e4f4e-88d3-4764-a1f8-d5051b39b9f2",
   "metadata": {},
   "source": [
    "alpha = 0.01"
   ]
  },
  {
   "cell_type": "markdown",
   "id": "3d1a5ee9-560c-44e5-b7af-8147d236c5f6",
   "metadata": {},
   "source": [
    "### step 3"
   ]
  },
  {
   "cell_type": "code",
   "execution_count": 80,
   "id": "8befc5e8-1e8f-48d5-9e7e-e326aff87315",
   "metadata": {},
   "outputs": [
    {
     "data": {
      "text/plain": [
       "0.0"
      ]
     },
     "execution_count": 80,
     "metadata": {},
     "output_type": "execute_result"
    }
   ],
   "source": [
    "df2.Diameter.skew()"
   ]
  },
  {
   "cell_type": "code",
   "execution_count": 81,
   "id": "36c78111-34d1-4c26-9a5e-245a3e0eaa98",
   "metadata": {},
   "outputs": [
    {
     "data": {
      "text/plain": [
       "<Axes: xlabel='Diameter', ylabel='Density'>"
      ]
     },
     "execution_count": 81,
     "metadata": {},
     "output_type": "execute_result"
    },
    {
     "data": {
      "image/png": "[encoded data removed]",
      "text/plain": [
       "<Figure size 640x480 with 1 Axes>"
      ]
     },
     "metadata": {},
     "output_type": "display_data"
    }
   ],
   "source": [
    "sns.kdeplot(df2.Diameter)"
   ]
  },
  {
   "cell_type": "markdown",
   "id": "b73240b2-15e8-46dc-bc02-25e2ebb1efe3",
   "metadata": {},
   "source": [
    "we chose t test because std is not given "
   ]
  },
  {
   "cell_type": "markdown",
   "id": "7879cfcd-d589-4e5b-8d2a-8b87d025f5f6",
   "metadata": {},
   "source": [
    "### step 4 "
   ]
  },
  {
   "cell_type": "code",
   "execution_count": 82,
   "id": "1d9ba372-2065-4422-89aa-17bb9c535642",
   "metadata": {},
   "outputs": [
    {
     "data": {
      "text/plain": [
       "TtestResult(statistic=0.0, pvalue=1.0, df=19)"
      ]
     },
     "execution_count": 82,
     "metadata": {},
     "output_type": "execute_result"
    }
   ],
   "source": [
    "stats.ttest_1samp(df2['Diameter'],10 ,alternative='two-sided')"
   ]
  },
  {
   "cell_type": "markdown",
   "id": "a1591400-14c6-47a0-a87a-624acfc9af22",
   "metadata": {},
   "source": [
    "###  step 5 "
   ]
  },
  {
   "cell_type": "raw",
   "id": "563c4323-87d9-4186-831b-9caa129494bb",
   "metadata": {},
   "source": [
    "alpha = 0.1 and p value = 1.0 there p > alpha , means p high null fly\n",
    "thats why we accept the null hypothesis "
   ]
  },
  {
   "cell_type": "markdown",
   "id": "56dbddee-fb2a-4cd2-8874-e6ae21fa240d",
   "metadata": {},
   "source": [
    "## ANNOVA test"
   ]
  },
  {
   "cell_type": "raw",
   "id": "ecc65974-829d-48c3-99ae-87d52d48736f",
   "metadata": {},
   "source": [
    "Case Study 3: A marketing organization outsources their back-office operations to three different suppliers.\n",
    "The contracts are up for renewal and the CMO wants to determine whether they should renew contracts with all \n",
    "suppliers or any specific supplier. CMO want to renew the contract of supplier with the least transaction time. \n",
    "CMO will renew all contracts if the performance of all suppliers is similar"
   ]
  },
  {
   "cell_type": "raw",
   "id": "606fcaaa-131d-4e7c-bc0c-d9e3382e133f",
   "metadata": {},
   "source": [
    "Ho == no difference in mean transection time suppliers (no action)\n",
    "Ha != difference in mean transection time supplirers (action)"
   ]
  },
  {
   "cell_type": "raw",
   "id": "d08971f3-8446-4351-9d23-f7194f00f849",
   "metadata": {},
   "source": [
    "alpha = 0.05 # which is default"
   ]
  },
  {
   "cell_type": "code",
   "execution_count": 83,
   "id": "5b8b65cb-8d18-445a-80e1-7ebd243481de",
   "metadata": {},
   "outputs": [
    {
     "data": {
      "text/html": [
       "<div>\n",
       "<style scoped>\n",
       "    .dataframe tbody tr th:only-of-type {\n",
       "        vertical-align: middle;\n",
       "    }\n",
       "\n",
       "    .dataframe tbody tr th {\n",
       "        vertical-align: top;\n",
       "    }\n",
       "\n",
       "    .dataframe thead th {\n",
       "        text-align: right;\n",
       "    }\n",
       "</style>\n",
       "<table border=\"1\" class=\"dataframe\">\n",
       "  <thead>\n",
       "    <tr style=\"text-align: right;\">\n",
       "      <th></th>\n",
       "      <th>SupplierA</th>\n",
       "      <th>SupplierB</th>\n",
       "      <th>SupplierC</th>\n",
       "    </tr>\n",
       "  </thead>\n",
       "  <tbody>\n",
       "    <tr>\n",
       "      <th>0</th>\n",
       "      <td>6.15</td>\n",
       "      <td>7.87</td>\n",
       "      <td>7.41</td>\n",
       "    </tr>\n",
       "    <tr>\n",
       "      <th>1</th>\n",
       "      <td>6.22</td>\n",
       "      <td>5.21</td>\n",
       "      <td>3.61</td>\n",
       "    </tr>\n",
       "    <tr>\n",
       "      <th>2</th>\n",
       "      <td>6.76</td>\n",
       "      <td>7.94</td>\n",
       "      <td>7.23</td>\n",
       "    </tr>\n",
       "    <tr>\n",
       "      <th>3</th>\n",
       "      <td>4.29</td>\n",
       "      <td>7.36</td>\n",
       "      <td>5.53</td>\n",
       "    </tr>\n",
       "    <tr>\n",
       "      <th>4</th>\n",
       "      <td>7.08</td>\n",
       "      <td>6.17</td>\n",
       "      <td>3.97</td>\n",
       "    </tr>\n",
       "  </tbody>\n",
       "</table>\n",
       "</div>"
      ],
      "text/plain": [
       "   SupplierA  SupplierB  SupplierC\n",
       "0       6.15       7.87       7.41\n",
       "1       6.22       5.21       3.61\n",
       "2       6.76       7.94       7.23\n",
       "3       4.29       7.36       5.53\n",
       "4       7.08       6.17       3.97"
      ]
     },
     "execution_count": 83,
     "metadata": {},
     "output_type": "execute_result"
    }
   ],
   "source": [
    "df = pd.read_excel(r\"C:\\Users\\gagan soni\\Downloads\\Contract Renewal.xlsx\")\n",
    "df.head()"
   ]
  },
  {
   "cell_type": "code",
   "execution_count": 84,
   "id": "6ff8feb8-d1f6-41ac-99ba-df0fe87da49c",
   "metadata": {},
   "outputs": [
    {
     "data": {
      "text/plain": [
       "SupplierA    0.120330\n",
       "SupplierB   -0.069830\n",
       "SupplierC    0.251168\n",
       "dtype: float64"
      ]
     },
     "execution_count": 84,
     "metadata": {},
     "output_type": "execute_result"
    }
   ],
   "source": [
    "df.skew() # that is a normal distributed data "
   ]
  },
  {
   "cell_type": "code",
   "execution_count": 85,
   "id": "b72e063d-44de-4bcc-bb74-ca37510fb237",
   "metadata": {},
   "outputs": [],
   "source": [
    "from scipy import stats"
   ]
  },
  {
   "cell_type": "code",
   "execution_count": 86,
   "id": "56ea769e-bbaf-4746-a114-79883e5b58ca",
   "metadata": {},
   "outputs": [
    {
     "data": {
      "text/plain": [
       "F_onewayResult(statistic=2.280378701368123, pvalue=0.10373295731933224)"
      ]
     },
     "execution_count": 86,
     "metadata": {},
     "output_type": "execute_result"
    }
   ],
   "source": [
    "annova_test= stats.f_oneway(df['SupplierA'],df['SupplierB'],df['SupplierC'])\n",
    "annova_test"
   ]
  },
  {
   "cell_type": "markdown",
   "id": "59006d54-4cf3-46a3-8fb0-65e7ea0ce2ea",
   "metadata": {},
   "source": [
    "### Step 5 based on the p value accept or reject the null hypothesis"
   ]
  },
  {
   "cell_type": "raw",
   "id": "055c17e7-8b79-41c6-86a4-b5064b7381f1",
   "metadata": {},
   "source": [
    "there alpha = 0.05 and p value is 0.10 it means\n",
    "p value > alpha\n",
    "p high null fly\n",
    "accept the Ho"
   ]
  },
  {
   "cell_type": "markdown",
   "id": "82bbb6e3-67fd-4526-9d72-25824c216849",
   "metadata": {},
   "source": [
    "# infrencial stastistics - Discrete data "
   ]
  },
  {
   "cell_type": "markdown",
   "id": "8cb41352-ed9c-43e7-9970-383c37f91ce7",
   "metadata": {},
   "source": [
    "## praportion test"
   ]
  },
  {
   "cell_type": "raw",
   "id": "b394287b-0c94-4db2-b61c-272b3721edd1",
   "metadata": {},
   "source": [
    "The people carry out a pool to find the acceptability of new football coatch. it was dicide that\n",
    "if the support rate for the coatch for the for the entire popolation was trully less then 90%  the coatch will be fiered\n",
    "2000 people participated and 496 b people supported to the new coatch conduct the test to check if the new coatch will be fired \n",
    "with 95% level of confidence "
   ]
  },
  {
   "cell_type": "raw",
   "id": "974da5b8-fbb7-4a1b-a5c8-e7adf3385502",
   "metadata": {},
   "source": [
    "Ho: no action\n",
    "H1: action"
   ]
  },
  {
   "cell_type": "raw",
   "id": "199042f3-f0f8-4e66-81ef-4170f2a19920",
   "metadata": {},
   "source": [
    "alpha = 0.05"
   ]
  },
  {
   "cell_type": "code",
   "execution_count": null,
   "id": "71102b82-85ae-4eac-971e-6452af44121d",
   "metadata": {},
   "outputs": [],
   "source": []
  },
  {
   "cell_type": "code",
   "execution_count": 90,
   "id": "8b8f9ce9-6fc8-45fd-ae66-a170baf4430d",
   "metadata": {},
   "outputs": [
    {
     "data": {
      "text/plain": [
       "BinomTestResult(k=496, n=2000, alternative='two-sided', statistic=0.248, pvalue=0.0)"
      ]
     },
     "execution_count": 90,
     "metadata": {},
     "output_type": "execute_result"
    }
   ],
   "source": [
    "from scipy import stats as stat\n",
    "binomtest = stat.binomtest(496,2000,0.9)\n",
    "binomtest"
   ]
  },
  {
   "cell_type": "raw",
   "id": "472fca11-400a-4d2c-8a02-96dce36b1301",
   "metadata": {},
   "source": [
    "based on p value reject null hypothesis"
   ]
  },
  {
   "cell_type": "markdown",
   "id": "b0ac6e0f-ef69-434f-bf03-a6d2bb511b0a",
   "metadata": {},
   "source": [
    "## chi -squre test"
   ]
  },
  {
   "cell_type": "raw",
   "id": "8eef3b04-a68e-49a0-a204-98fa49dd128d",
   "metadata": {},
   "source": [
    "case study---->\n",
    "* johnnie talkers soft drink division sales manager has been planning to launch a new sales insentives program for there sales executive.\\\n",
    "the sales excutives felt that adult >40 year buys children will hance request sels manager not to launch the program .analysis the data and\n",
    "determine weather there evidence at 5% significience lavel to support the hypothesis"
   ]
  },
  {
   "cell_type": "raw",
   "id": "fdd84778-00eb-4640-9f1b-7f1efba367f9",
   "metadata": {},
   "source": [
    "Ho  : proportion of adult = proportion of children\n",
    "H1 : proportion of adult != proportion of children"
   ]
  },
  {
   "cell_type": "raw",
   "id": "ef014f00-02f4-4f80-8008-32339eec106f",
   "metadata": {},
   "source": [
    "alpha = 0.05"
   ]
  },
  {
   "cell_type": "code",
   "execution_count": 92,
   "id": "3dcb7332-694c-439d-86cd-78381c95e098",
   "metadata": {},
   "outputs": [
    {
     "data": {
      "text/html": [
       "<div>\n",
       "<style scoped>\n",
       "    .dataframe tbody tr th:only-of-type {\n",
       "        vertical-align: middle;\n",
       "    }\n",
       "\n",
       "    .dataframe tbody tr th {\n",
       "        vertical-align: top;\n",
       "    }\n",
       "\n",
       "    .dataframe thead th {\n",
       "        text-align: right;\n",
       "    }\n",
       "</style>\n",
       "<table border=\"1\" class=\"dataframe\">\n",
       "  <thead>\n",
       "    <tr style=\"text-align: right;\">\n",
       "      <th></th>\n",
       "      <th>Person</th>\n",
       "      <th>Drinks</th>\n",
       "    </tr>\n",
       "  </thead>\n",
       "  <tbody>\n",
       "    <tr>\n",
       "      <th>0</th>\n",
       "      <td>Adults</td>\n",
       "      <td>Did Not Purchase</td>\n",
       "    </tr>\n",
       "    <tr>\n",
       "      <th>1</th>\n",
       "      <td>Adults</td>\n",
       "      <td>Did Not Purchase</td>\n",
       "    </tr>\n",
       "    <tr>\n",
       "      <th>2</th>\n",
       "      <td>Adults</td>\n",
       "      <td>Did Not Purchase</td>\n",
       "    </tr>\n",
       "    <tr>\n",
       "      <th>3</th>\n",
       "      <td>Adults</td>\n",
       "      <td>Did Not Purchase</td>\n",
       "    </tr>\n",
       "    <tr>\n",
       "      <th>4</th>\n",
       "      <td>Adults</td>\n",
       "      <td>Did Not Purchase</td>\n",
       "    </tr>\n",
       "  </tbody>\n",
       "</table>\n",
       "</div>"
      ],
      "text/plain": [
       "   Person            Drinks\n",
       "0  Adults  Did Not Purchase\n",
       "1  Adults  Did Not Purchase\n",
       "2  Adults  Did Not Purchase\n",
       "3  Adults  Did Not Purchase\n",
       "4  Adults  Did Not Purchase"
      ]
     },
     "execution_count": 92,
     "metadata": {},
     "output_type": "execute_result"
    }
   ],
   "source": [
    "df = pd.read_excel(r\"C:\\Users\\gagan soni\\Downloads\\JohnyTalkers.xlsx\")\n",
    "df.head()"
   ]
  },
  {
   "cell_type": "code",
   "execution_count": 97,
   "id": "f99afda5-bbd5-41c8-9848-05876f5efe87",
   "metadata": {},
   "outputs": [],
   "source": [
    "from scipy.stats import chi2_contingency"
   ]
  },
  {
   "cell_type": "code",
   "execution_count": 100,
   "id": "71806e74-fc25-42b2-919f-15b7ab88cde4",
   "metadata": {},
   "outputs": [
    {
     "data": {
      "text/html": [
       "<div>\n",
       "<style scoped>\n",
       "    .dataframe tbody tr th:only-of-type {\n",
       "        vertical-align: middle;\n",
       "    }\n",
       "\n",
       "    .dataframe tbody tr th {\n",
       "        vertical-align: top;\n",
       "    }\n",
       "\n",
       "    .dataframe thead th {\n",
       "        text-align: right;\n",
       "    }\n",
       "</style>\n",
       "<table border=\"1\" class=\"dataframe\">\n",
       "  <thead>\n",
       "    <tr style=\"text-align: right;\">\n",
       "      <th>Drinks</th>\n",
       "      <th>Did Not Purchase</th>\n",
       "      <th>Purchased</th>\n",
       "      <th>All</th>\n",
       "    </tr>\n",
       "    <tr>\n",
       "      <th>Person</th>\n",
       "      <th></th>\n",
       "      <th></th>\n",
       "      <th></th>\n",
       "    </tr>\n",
       "  </thead>\n",
       "  <tbody>\n",
       "    <tr>\n",
       "      <th>Adults</th>\n",
       "      <td>422</td>\n",
       "      <td>58</td>\n",
       "      <td>480</td>\n",
       "    </tr>\n",
       "    <tr>\n",
       "      <th>Children</th>\n",
       "      <td>588</td>\n",
       "      <td>152</td>\n",
       "      <td>740</td>\n",
       "    </tr>\n",
       "    <tr>\n",
       "      <th>All</th>\n",
       "      <td>1010</td>\n",
       "      <td>210</td>\n",
       "      <td>1220</td>\n",
       "    </tr>\n",
       "  </tbody>\n",
       "</table>\n",
       "</div>"
      ],
      "text/plain": [
       "Drinks    Did Not Purchase  Purchased   All\n",
       "Person                                     \n",
       "Adults                 422         58   480\n",
       "Children               588        152   740\n",
       "All                   1010        210  1220"
      ]
     },
     "execution_count": 100,
     "metadata": {},
     "output_type": "execute_result"
    }
   ],
   "source": [
    "count = pd.crosstab(df.Person,df.Drinks,margins = True)\n",
    "count"
   ]
  },
  {
   "cell_type": "code",
   "execution_count": 102,
   "id": "722b3284-fd9b-4880-811c-f817b4acfbf3",
   "metadata": {},
   "outputs": [
    {
     "data": {
      "text/plain": [
       "Chi2ContingencyResult(statistic=14.613224681541515, pvalue=0.005574456386286158, dof=4, expected_freq=array([[ 397.37704918,   82.62295082,  480.        ],\n",
       "       [ 612.62295082,  127.37704918,  740.        ],\n",
       "       [1010.        ,  210.        , 1220.        ]]))"
      ]
     },
     "execution_count": 102,
     "metadata": {},
     "output_type": "execute_result"
    }
   ],
   "source": [
    "chisqure_test = stat.chi2_contingency(count)\n",
    "chisqure_test"
   ]
  },
  {
   "cell_type": "code",
   "execution_count": null,
   "id": "c65569e3-ccb3-41b1-a21f-017c4230b9f5",
   "metadata": {},
   "outputs": [],
   "source": [
    "Reject null hypotheseis or accept alternet hypothesis"
   ]
  }
 ],
 "metadata": {
  "kernelspec": {
   "display_name": "Python 3 (ipykernel)",
   "language": "python",
   "name": "python3"
  },
  "language_info": {
   "codemirror_mode": {
    "name": "ipython",
    "version": 3
   },
   "file_extension": ".py",
   "mimetype": "text/x-python",
   "name": "python",
   "nbconvert_exporter": "python",
   "pygments_lexer": "ipython3",
   "version": "3.12.7"
  }
 },
 "nbformat": 4,
 "nbformat_minor": 5
}
