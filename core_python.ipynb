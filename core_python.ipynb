{
 "cells": [
  {
   "cell_type": "markdown",
   "id": "f4cf8d81-3842-4760-b5ed-bbcdd837b2c5",
   "metadata": {},
   "source": [
    "# String"
   ]
  },
  {
   "cell_type": "markdown",
   "id": "76968be0-b4ad-4d8e-91d2-1ac137e413b2",
   "metadata": {},
   "source": [
    "## Indexing "
   ]
  },
  {
   "cell_type": "code",
   "execution_count": 1,
   "id": "a6060e56-2f75-479b-a27d-099b239e60b0",
   "metadata": {},
   "outputs": [],
   "source": [
    "i = \"gagan soni\""
   ]
  },
  {
   "cell_type": "code",
   "execution_count": 2,
   "id": "6bfd83c4-b62b-4cbc-a3ee-112599e74a04",
   "metadata": {},
   "outputs": [
    {
     "data": {
      "text/plain": [
       "'T'"
      ]
     },
     "execution_count": 2,
     "metadata": {},
     "output_type": "execute_result"
    }
   ],
   "source": [
    "a = True\n",
    "str(a)[0]"
   ]
  },
  {
   "cell_type": "code",
   "execution_count": 3,
   "id": "6540b8e1-b66d-4f3b-94e8-7abb2d48056f",
   "metadata": {},
   "outputs": [
    {
     "data": {
      "text/plain": [
       "'.'"
      ]
     },
     "execution_count": 3,
     "metadata": {},
     "output_type": "execute_result"
    }
   ],
   "source": [
    "b = \"45.5\"\n",
    "b[2]"
   ]
  },
  {
   "cell_type": "code",
   "execution_count": 4,
   "id": "553aeb3b-525b-4609-a110-dc1c12f5daf6",
   "metadata": {},
   "outputs": [
    {
     "data": {
      "text/plain": [
       "'g'"
      ]
     },
     "execution_count": 4,
     "metadata": {},
     "output_type": "execute_result"
    }
   ],
   "source": [
    "i[2]"
   ]
  },
  {
   "cell_type": "code",
   "execution_count": 5,
   "id": "b64b8643-67fe-4430-8565-141a45444eba",
   "metadata": {},
   "outputs": [
    {
     "data": {
      "text/plain": [
       "'s'"
      ]
     },
     "execution_count": 5,
     "metadata": {},
     "output_type": "execute_result"
    }
   ],
   "source": [
    "i[-5]"
   ]
  },
  {
   "cell_type": "markdown",
   "id": "f942658b-bca8-4157-bde4-e69ae103b105",
   "metadata": {},
   "source": [
    "##  Slicing "
   ]
  },
  {
   "cell_type": "code",
   "execution_count": 6,
   "id": "04bd9162-5b83-458b-a8e2-2ff63392bce7",
   "metadata": {},
   "outputs": [
    {
     "data": {
      "text/plain": [
       "'ramakrishna'"
      ]
     },
     "execution_count": 6,
     "metadata": {},
     "output_type": "execute_result"
    }
   ],
   "source": [
    "s = \"ramakrishna\"\n",
    "s"
   ]
  },
  {
   "cell_type": "code",
   "execution_count": 7,
   "id": "201272be-5f7f-4545-aa23-51799a6083f7",
   "metadata": {},
   "outputs": [
    {
     "data": {
      "text/plain": [
       "'mki'"
      ]
     },
     "execution_count": 7,
     "metadata": {},
     "output_type": "execute_result"
    }
   ],
   "source": [
    "s[2:8:2] # there 2 is step "
   ]
  },
  {
   "cell_type": "code",
   "execution_count": 8,
   "id": "c1665cda-14b7-44e9-9449-7d5acb62fb58",
   "metadata": {},
   "outputs": [
    {
     "data": {
      "text/plain": [
       "'krishna'"
      ]
     },
     "execution_count": 8,
     "metadata": {},
     "output_type": "execute_result"
    }
   ],
   "source": [
    "s[-7:11] "
   ]
  },
  {
   "cell_type": "code",
   "execution_count": 9,
   "id": "f0e53c9e-fdf7-466d-9d25-941adcd0599c",
   "metadata": {},
   "outputs": [
    {
     "data": {
      "text/plain": [
       "'rka'"
      ]
     },
     "execution_count": 9,
     "metadata": {},
     "output_type": "execute_result"
    }
   ],
   "source": [
    "s[-6:-9:-1]"
   ]
  },
  {
   "cell_type": "code",
   "execution_count": 10,
   "id": "8b72e287-e0d9-4a75-b464-f549b94f1250",
   "metadata": {},
   "outputs": [
    {
     "data": {
      "text/plain": [
       "''"
      ]
     },
     "execution_count": 10,
     "metadata": {},
     "output_type": "execute_result"
    }
   ],
   "source": [
    "s[5:-8] "
   ]
  },
  {
   "cell_type": "code",
   "execution_count": 11,
   "id": "b110be5b-1100-46de-854f-2bc4d013f492",
   "metadata": {},
   "outputs": [
    {
     "data": {
      "text/plain": [
       "'anhsirkamar'"
      ]
     },
     "execution_count": 11,
     "metadata": {},
     "output_type": "execute_result"
    }
   ],
   "source": [
    "s[::-1] # step indexing "
   ]
  },
  {
   "cell_type": "code",
   "execution_count": 12,
   "id": "a9e06303-da75-4943-a960-4c53b6d97d07",
   "metadata": {},
   "outputs": [
    {
     "data": {
      "text/plain": [
       "'ishna'"
      ]
     },
     "execution_count": 12,
     "metadata": {},
     "output_type": "execute_result"
    }
   ],
   "source": [
    "s[-5:]"
   ]
  },
  {
   "cell_type": "code",
   "execution_count": 13,
   "id": "7e5e5b43-6919-4794-83e6-64bbf183d457",
   "metadata": {},
   "outputs": [
    {
     "data": {
      "text/plain": [
       "''"
      ]
     },
     "execution_count": 13,
     "metadata": {},
     "output_type": "execute_result"
    }
   ],
   "source": [
    "s[-2:-6]"
   ]
  },
  {
   "cell_type": "code",
   "execution_count": 14,
   "id": "8faa21f1-d3d8-47a1-adf8-5847bba722f2",
   "metadata": {},
   "outputs": [
    {
     "data": {
      "text/plain": [
       "'rkam'"
      ]
     },
     "execution_count": 14,
     "metadata": {},
     "output_type": "execute_result"
    }
   ],
   "source": [
    "s[5:1:-1]"
   ]
  },
  {
   "cell_type": "markdown",
   "id": "a200ba94-546c-4d6c-acef-27435c6b1063",
   "metadata": {},
   "source": [
    "## string methods()"
   ]
  },
  {
   "cell_type": "code",
   "execution_count": 15,
   "id": "af2f2c11-b045-4476-93cb-8f2fa8fb1e25",
   "metadata": {},
   "outputs": [
    {
     "data": {
      "text/plain": [
       "' SHIVA RAMA KRISHNA    '"
      ]
     },
     "execution_count": 15,
     "metadata": {},
     "output_type": "execute_result"
    }
   ],
   "source": [
    "s = ' shiva rama krishna    '\n",
    "s.upper()"
   ]
  },
  {
   "cell_type": "code",
   "execution_count": 16,
   "id": "57a6936f-0c99-481d-843d-8c78736d2d93",
   "metadata": {},
   "outputs": [
    {
     "data": {
      "text/plain": [
       "' shiva rama krishna    '"
      ]
     },
     "execution_count": 16,
     "metadata": {},
     "output_type": "execute_result"
    }
   ],
   "source": [
    "s.lower()"
   ]
  },
  {
   "cell_type": "code",
   "execution_count": 17,
   "id": "773d358d-222d-4274-a8bd-209c45a89729",
   "metadata": {},
   "outputs": [
    {
     "data": {
      "text/plain": [
       "' Shiva Rama Krishna    '"
      ]
     },
     "execution_count": 17,
     "metadata": {},
     "output_type": "execute_result"
    }
   ],
   "source": [
    "s.title() # it convert every string first later into uppercase "
   ]
  },
  {
   "cell_type": "code",
   "execution_count": 18,
   "id": "f9dd10de-9967-4505-8025-268cd102ea51",
   "metadata": {},
   "outputs": [
    {
     "data": {
      "text/plain": [
       "' shiva rama krishna    '"
      ]
     },
     "execution_count": 18,
     "metadata": {},
     "output_type": "execute_result"
    }
   ],
   "source": [
    "s.capitalize() # it convert only first later in uppercase "
   ]
  },
  {
   "cell_type": "code",
   "execution_count": 19,
   "id": "f13c00c9-2674-4ade-a904-a60e200f563a",
   "metadata": {},
   "outputs": [
    {
     "data": {
      "text/plain": [
       "'shiva rama krishna'"
      ]
     },
     "execution_count": 19,
     "metadata": {},
     "output_type": "execute_result"
    }
   ],
   "source": [
    "s.strip() # it remove space "
   ]
  },
  {
   "cell_type": "code",
   "execution_count": 20,
   "id": "483b4050-daf5-4c78-a6c2-96bf886f6f2e",
   "metadata": {},
   "outputs": [
    {
     "data": {
      "text/plain": [
       "'shiva rama krishna    '"
      ]
     },
     "execution_count": 20,
     "metadata": {},
     "output_type": "execute_result"
    }
   ],
   "source": [
    "s.lstrip() # left strip "
   ]
  },
  {
   "cell_type": "code",
   "execution_count": 21,
   "id": "3151cd38-65d8-4da2-a2ee-fceb57433d74",
   "metadata": {},
   "outputs": [
    {
     "data": {
      "text/plain": [
       "' shiva rama krishna'"
      ]
     },
     "execution_count": 21,
     "metadata": {},
     "output_type": "execute_result"
    }
   ],
   "source": [
    "s.rstrip() # right strip "
   ]
  },
  {
   "cell_type": "code",
   "execution_count": 22,
   "id": "9f98bbc9-94b2-4aeb-a731-e5862e826c19",
   "metadata": {},
   "outputs": [
    {
     "data": {
      "text/plain": [
       "' shiva hare krishna    '"
      ]
     },
     "execution_count": 22,
     "metadata": {},
     "output_type": "execute_result"
    }
   ],
   "source": [
    "s.replace(\"rama\",\"hare\") "
   ]
  },
  {
   "cell_type": "code",
   "execution_count": 23,
   "id": "96c24ab6-bb12-45bb-a03e-b2725fc4c727",
   "metadata": {},
   "outputs": [
    {
     "data": {
      "text/plain": [
       "['shiva', 'rama', 'krishna']"
      ]
     },
     "execution_count": 23,
     "metadata": {},
     "output_type": "execute_result"
    }
   ],
   "source": [
    "s.split() # split into multiple sting "
   ]
  },
  {
   "cell_type": "code",
   "execution_count": 24,
   "id": "5c1b63e4-fccf-4349-8d56-5caf69186421",
   "metadata": {},
   "outputs": [],
   "source": [
    "s2 =\" Gagan \""
   ]
  },
  {
   "cell_type": "code",
   "execution_count": 25,
   "id": "27ec20ca-40bf-43bb-bb54-1616fa845070",
   "metadata": {},
   "outputs": [
    {
     "data": {
      "text/plain": [
       "7"
      ]
     },
     "execution_count": 25,
     "metadata": {},
     "output_type": "execute_result"
    }
   ],
   "source": [
    "s.index(\"r\") # if substring not in the list it give error "
   ]
  },
  {
   "cell_type": "code",
   "execution_count": 26,
   "id": "49a6f0cc-5653-4e0f-a1da-f51f525c5e08",
   "metadata": {},
   "outputs": [
    {
     "data": {
      "text/plain": [
       "12"
      ]
     },
     "execution_count": 26,
     "metadata": {},
     "output_type": "execute_result"
    }
   ],
   "source": [
    "s.find(\"krishna\") # if substring not in the list it not give error "
   ]
  },
  {
   "cell_type": "code",
   "execution_count": 27,
   "id": "82047ce2-b96c-47b6-8ef5-a569144f05b4",
   "metadata": {},
   "outputs": [
    {
     "data": {
      "text/plain": [
       "4"
      ]
     },
     "execution_count": 27,
     "metadata": {},
     "output_type": "execute_result"
    }
   ],
   "source": [
    "s.count('a') # return rama how many time repated "
   ]
  },
  {
   "cell_type": "code",
   "execution_count": 28,
   "id": "088553a9-40cb-460d-a1a2-941ef20edbf0",
   "metadata": {},
   "outputs": [
    {
     "data": {
      "text/plain": [
       "False"
      ]
     },
     "execution_count": 28,
     "metadata": {},
     "output_type": "execute_result"
    }
   ],
   "source": [
    "s.startswith(\"shiva\")"
   ]
  },
  {
   "cell_type": "code",
   "execution_count": 29,
   "id": "67fbd896-6dce-4f1c-a9cd-9bdd952e3c7b",
   "metadata": {},
   "outputs": [
    {
     "data": {
      "text/plain": [
       "False"
      ]
     },
     "execution_count": 29,
     "metadata": {},
     "output_type": "execute_result"
    }
   ],
   "source": [
    "s.endswith(\"shiva\")"
   ]
  },
  {
   "cell_type": "code",
   "execution_count": 30,
   "id": "969e1135-b31b-4ac8-a44c-dadbce59367b",
   "metadata": {},
   "outputs": [
    {
     "data": {
      "text/plain": [
       "False"
      ]
     },
     "execution_count": 30,
     "metadata": {},
     "output_type": "execute_result"
    }
   ],
   "source": [
    "s.isalnum() # alpha numaric value in the sting "
   ]
  },
  {
   "cell_type": "code",
   "execution_count": 31,
   "id": "8f7a1d04-8832-4d54-b5c6-ae7fb7cc0bd2",
   "metadata": {},
   "outputs": [
    {
     "data": {
      "text/plain": [
       "False"
      ]
     },
     "execution_count": 31,
     "metadata": {},
     "output_type": "execute_result"
    }
   ],
   "source": [
    "s.isdigit()"
   ]
  },
  {
   "cell_type": "markdown",
   "id": "5d498d99-d676-465f-8366-fb1d3cb728cc",
   "metadata": {},
   "source": [
    "# list (mutable)"
   ]
  },
  {
   "cell_type": "code",
   "execution_count": 12,
   "id": "9ea31b76-6c5e-40c4-9c22-d09d40578e4c",
   "metadata": {},
   "outputs": [
    {
     "data": {
      "text/plain": [
       "list"
      ]
     },
     "execution_count": 12,
     "metadata": {},
     "output_type": "execute_result"
    }
   ],
   "source": [
    "l =[] # empty list\n",
    "type(l)"
   ]
  },
  {
   "cell_type": "code",
   "execution_count": 2,
   "id": "4285ee7d-6e95-47e0-a3a5-40eae3b86845",
   "metadata": {},
   "outputs": [],
   "source": [
    "l = [34,34,True,34,(5,6),(3,5,6),[5,9],3.4,True,{7,8},6.8,\"jhjh\",{\"ram\":6}]"
   ]
  },
  {
   "cell_type": "code",
   "execution_count": 14,
   "id": "fe518029-574d-4323-a9c3-f4222fd1f106",
   "metadata": {},
   "outputs": [],
   "source": [
    "l.extend([4,5,6,7,8]) # add multiple items with advance data type"
   ]
  },
  {
   "cell_type": "code",
   "execution_count": 15,
   "id": "8db15ea9-4e91-4264-a5ce-61519b2fd0ab",
   "metadata": {},
   "outputs": [
    {
     "data": {
      "text/plain": [
       "[4, 5, 6, 7, 8]"
      ]
     },
     "execution_count": 15,
     "metadata": {},
     "output_type": "execute_result"
    }
   ],
   "source": [
    "l"
   ]
  },
  {
   "cell_type": "code",
   "execution_count": 35,
   "id": "db800bb7-94a4-4383-8d09-a3790af99fef",
   "metadata": {},
   "outputs": [],
   "source": [
    "l.append([4]) # add only one element in the last of the list "
   ]
  },
  {
   "cell_type": "code",
   "execution_count": 18,
   "id": "38cf1dcd-7993-4249-88b4-3d20917c2ce4",
   "metadata": {},
   "outputs": [],
   "source": [
    "l.insert(0,\"rammamdmf\") # add one item in the list with index"
   ]
  },
  {
   "cell_type": "code",
   "execution_count": 37,
   "id": "0ed95e7e-6c94-4b0f-8ae1-045fa88882b4",
   "metadata": {},
   "outputs": [],
   "source": [
    "l.clear() # clear all items but not object"
   ]
  },
  {
   "cell_type": "code",
   "execution_count": 16,
   "id": "03cf25ac-818a-4922-965f-fd214e89e356",
   "metadata": {},
   "outputs": [],
   "source": [
    "l.reverse() "
   ]
  },
  {
   "cell_type": "code",
   "execution_count": 19,
   "id": "e0f5e15f-df1d-47bb-9c3f-fca0b3cbb336",
   "metadata": {},
   "outputs": [
    {
     "data": {
      "text/plain": [
       "['rammamdmf', 8, 7, 6, 5, 4]"
      ]
     },
     "execution_count": 19,
     "metadata": {},
     "output_type": "execute_result"
    }
   ],
   "source": [
    "l"
   ]
  },
  {
   "cell_type": "code",
   "execution_count": 21,
   "id": "89f7516f-706b-466c-995c-fd6a4d6b682b",
   "metadata": {},
   "outputs": [],
   "source": [
    "l2 =[6,1.1,2,5,6,7,1,6.66,True,0,99,False]"
   ]
  },
  {
   "cell_type": "code",
   "execution_count": 22,
   "id": "c2b5973c-4929-4791-80e7-14c99db9f745",
   "metadata": {},
   "outputs": [
    {
     "data": {
      "text/plain": [
       "[0, False, 1, True, 1.1, 2, 5, 6, 6, 6.66, 7, 99]"
      ]
     },
     "execution_count": 22,
     "metadata": {},
     "output_type": "execute_result"
    }
   ],
   "source": [
    "l2.sort() # in the sorting not allowed nested list \n",
    "l2"
   ]
  },
  {
   "cell_type": "code",
   "execution_count": 23,
   "id": "565276de-1819-4f01-842b-94be41c6c33c",
   "metadata": {},
   "outputs": [
    {
     "data": {
      "text/plain": [
       "7"
      ]
     },
     "execution_count": 23,
     "metadata": {},
     "output_type": "execute_result"
    }
   ],
   "source": [
    "l.pop(2) # remove items with index "
   ]
  },
  {
   "cell_type": "code",
   "execution_count": 24,
   "id": "88f85204-ea84-4c24-9b0d-a3785e09f729",
   "metadata": {},
   "outputs": [
    {
     "data": {
      "text/plain": [
       "['rammamdmf', 8, 6, 5, 4]"
      ]
     },
     "execution_count": 24,
     "metadata": {},
     "output_type": "execute_result"
    }
   ],
   "source": [
    "l"
   ]
  },
  {
   "cell_type": "code",
   "execution_count": 32,
   "id": "a08180a5-970c-42e8-8c9d-ba08d1ef780f",
   "metadata": {},
   "outputs": [
    {
     "data": {
      "text/plain": [
       "4"
      ]
     },
     "execution_count": 32,
     "metadata": {},
     "output_type": "execute_result"
    }
   ],
   "source": [
    "lis  = [23,4,4,[3,[4,[5,4,4],5],4],4,] # access nasted list \n",
    "lis[3][2]"
   ]
  },
  {
   "cell_type": "markdown",
   "id": "85512bc3-b16c-4103-9246-e24494dba3cb",
   "metadata": {},
   "source": [
    "### shallo copy---- it change id "
   ]
  },
  {
   "cell_type": "code",
   "execution_count": 26,
   "id": "6bb9a44c-8573-4b31-a2a9-09bfb0ba6e91",
   "metadata": {},
   "outputs": [
    {
     "data": {
      "text/plain": [
       "['rammamdmf', 8, 6, 5, 4]"
      ]
     },
     "execution_count": 26,
     "metadata": {},
     "output_type": "execute_result"
    }
   ],
   "source": [
    "d = l.copy()\n",
    "d"
   ]
  },
  {
   "cell_type": "code",
   "execution_count": 27,
   "id": "eefe0b90-4424-4f60-8689-46498dd88584",
   "metadata": {},
   "outputs": [
    {
     "data": {
      "text/plain": [
       "2256250969024"
      ]
     },
     "execution_count": 27,
     "metadata": {},
     "output_type": "execute_result"
    }
   ],
   "source": [
    "id(d)"
   ]
  },
  {
   "cell_type": "code",
   "execution_count": 28,
   "id": "e62e8965-f92e-4707-8fd6-16a82469b885",
   "metadata": {},
   "outputs": [
    {
     "data": {
      "text/plain": [
       "2256236199104"
      ]
     },
     "execution_count": 28,
     "metadata": {},
     "output_type": "execute_result"
    }
   ],
   "source": [
    "id(l)"
   ]
  },
  {
   "cell_type": "markdown",
   "id": "fdccd490-d39a-4474-b8b4-6f442aa3d272",
   "metadata": {},
   "source": [
    "### Deep copy ---  its not change id"
   ]
  },
  {
   "cell_type": "code",
   "execution_count": 29,
   "id": "73caf8cc-5699-4f2a-9cce-afe0700ece61",
   "metadata": {},
   "outputs": [
    {
     "data": {
      "text/plain": [
       "['rammamdmf', 8, 6, 5, 4]"
      ]
     },
     "execution_count": 29,
     "metadata": {},
     "output_type": "execute_result"
    }
   ],
   "source": [
    "ram = l\n",
    "ram"
   ]
  },
  {
   "cell_type": "code",
   "execution_count": 30,
   "id": "1d9cfa21-53ef-4a25-bd90-9a70b7160a83",
   "metadata": {},
   "outputs": [
    {
     "data": {
      "text/plain": [
       "2256236199104"
      ]
     },
     "execution_count": 30,
     "metadata": {},
     "output_type": "execute_result"
    }
   ],
   "source": [
    "id(ram)"
   ]
  },
  {
   "cell_type": "code",
   "execution_count": 31,
   "id": "e6bdd07b-849a-4483-bbf3-648385861566",
   "metadata": {},
   "outputs": [
    {
     "data": {
      "text/plain": [
       "2256236199104"
      ]
     },
     "execution_count": 31,
     "metadata": {},
     "output_type": "execute_result"
    }
   ],
   "source": [
    "id(l)"
   ]
  },
  {
   "cell_type": "markdown",
   "id": "eb2ee016-252e-42e1-b513-21c540bb5d75",
   "metadata": {},
   "source": [
    "# Tuple "
   ]
  },
  {
   "cell_type": "code",
   "execution_count": null,
   "id": "463da193-eb45-4889-904c-4b24052ee8bd",
   "metadata": {},
   "outputs": [],
   "source": [
    "tup = (3,4.8,'888',3,{5},(6),[8,7,],9,True,'ram',{})\n",
    "tup"
   ]
  },
  {
   "cell_type": "code",
   "execution_count": null,
   "id": "87102bce-32d5-4e6a-bdac-7daee05abe5a",
   "metadata": {},
   "outputs": [],
   "source": [
    "tup.count(3)"
   ]
  },
  {
   "cell_type": "code",
   "execution_count": null,
   "id": "e3c00533-e45d-428e-b3fa-3e06ae33a749",
   "metadata": {},
   "outputs": [],
   "source": [
    "tup.index('ram') # it return no of index"
   ]
  },
  {
   "cell_type": "markdown",
   "id": "b4623f34-3ec6-435d-8f30-cc1f5f321f07",
   "metadata": {},
   "source": [
    "# SET------(mutable)"
   ]
  },
  {
   "cell_type": "code",
   "execution_count": null,
   "id": "370518bf-660e-4cdf-bd0e-158fcaf21c2f",
   "metadata": {},
   "outputs": [],
   "source": [
    "empty_set = set()\n",
    "empty_set"
   ]
  },
  {
   "cell_type": "code",
   "execution_count": null,
   "id": "60a8ca29-ac48-4cd0-b97d-f2ff5e920544",
   "metadata": {},
   "outputs": [],
   "source": [
    "s = {2,3.3,2,2,True,\"hhjjhj\",45,(2,5,5,6),777}\n",
    "type(s)\n",
    "s"
   ]
  },
  {
   "cell_type": "markdown",
   "id": "88b37909-bbb4-40d4-811a-aea62d478c2f",
   "metadata": {},
   "source": [
    "## Set method"
   ]
  },
  {
   "cell_type": "code",
   "execution_count": null,
   "id": "5b81f169-32d6-42c7-8f1d-13b8a4f014b4",
   "metadata": {},
   "outputs": [],
   "source": [
    "s.add(88) # add one item in the set"
   ]
  },
  {
   "cell_type": "code",
   "execution_count": null,
   "id": "d92df9f3-35d8-4cea-9bb7-77fea63437ee",
   "metadata": {},
   "outputs": [],
   "source": [
    "s.update((8,4,5)|[367,3,4,]|'hjhh') # add set,tup,str,list"
   ]
  },
  {
   "cell_type": "code",
   "execution_count": null,
   "id": "012c906d-3016-4f68-a901-c10a6a249a3c",
   "metadata": {},
   "outputs": [],
   "source": [
    "s.discard(99) # index based discard but if index out of range not give error"
   ]
  },
  {
   "cell_type": "code",
   "execution_count": null,
   "id": "e9e7987e-5291-435d-b7e4-e53f9d50ce1c",
   "metadata": {},
   "outputs": [],
   "source": [
    "s.remove() # based of item"
   ]
  },
  {
   "cell_type": "code",
   "execution_count": null,
   "id": "046dd717-6176-426d-8ff2-5bd7a6a082be",
   "metadata": {},
   "outputs": [],
   "source": [
    "s.clear()"
   ]
  },
  {
   "cell_type": "code",
   "execution_count": null,
   "id": "29fc1330-8727-4d43-9b05-2c710d84c50f",
   "metadata": {},
   "outputs": [],
   "source": [
    "s.copy()"
   ]
  },
  {
   "cell_type": "code",
   "execution_count": null,
   "id": "e31b9585-20d3-4282-a5b2-eba4755cde7a",
   "metadata": {},
   "outputs": [],
   "source": [
    "s.pop() # remove random item in the set "
   ]
  },
  {
   "cell_type": "code",
   "execution_count": null,
   "id": "4d2b23ca-835e-4e6d-896b-612c74f9acf7",
   "metadata": {},
   "outputs": [],
   "source": [
    "s"
   ]
  },
  {
   "cell_type": "markdown",
   "id": "c5197be6-8491-409b-b51a-1db7900575c1",
   "metadata": {},
   "source": [
    "### Mathmatical set operation"
   ]
  },
  {
   "cell_type": "code",
   "execution_count": null,
   "id": "a042539f-ffdc-49f4-885c-445b7c2ceff1",
   "metadata": {},
   "outputs": [],
   "source": [
    "a = {1,2,3,4,5}\n",
    "b = {4,5,6,7,8}\n",
    "c = {8,9,10,11}"
   ]
  },
  {
   "cell_type": "code",
   "execution_count": null,
   "id": "d59c1f20-8213-427c-8502-ffe313d68f96",
   "metadata": {},
   "outputs": [],
   "source": [
    "print(a|b) # union"
   ]
  },
  {
   "cell_type": "code",
   "execution_count": null,
   "id": "a3c03208-f539-40e0-bf4e-bb0487339779",
   "metadata": {},
   "outputs": [],
   "source": [
    "print(a&b)"
   ]
  },
  {
   "cell_type": "code",
   "execution_count": null,
   "id": "254391ff-1500-4441-9b15-b407558a1002",
   "metadata": {},
   "outputs": [],
   "source": [
    "print(a-b) #Pehle set me jo elements hain, lekin doosre set me nahi hain, unka set return karta hai."
   ]
  },
  {
   "cell_type": "code",
   "execution_count": null,
   "id": "0f119dce-659a-4cf0-821e-e06ce91e52cf",
   "metadata": {},
   "outputs": [],
   "source": [
    "print(a^b) # sementic difference- dono set ke uncomen element return karta hai "
   ]
  },
  {
   "cell_type": "code",
   "execution_count": null,
   "id": "e097641d-f012-47ec-a6cf-0b7bc91d32b7",
   "metadata": {},
   "outputs": [],
   "source": [
    "print(a>=) # is superset"
   ]
  },
  {
   "cell_type": "code",
   "execution_count": null,
   "id": "86e11534-c3e6-4f4b-b647-cf61e8c56d7d",
   "metadata": {},
   "outputs": [],
   "source": [
    "print(a<=)  # is subset"
   ]
  },
  {
   "cell_type": "code",
   "execution_count": null,
   "id": "f33677ae-056f-4472-89c2-9f83133a6342",
   "metadata": {},
   "outputs": [],
   "source": [
    "s.isdisjoint(c)"
   ]
  },
  {
   "cell_type": "markdown",
   "id": "3f35e928-1f07-43e5-b1c5-a834327aeccb",
   "metadata": {},
   "source": [
    "# Dictonary"
   ]
  },
  {
   "cell_type": "code",
   "execution_count": null,
   "id": "fc39272b-eca3-4927-8eb6-caf2c9890c74",
   "metadata": {},
   "outputs": [],
   "source": [
    "d = {} #empty dict\n",
    "type(d)"
   ]
  },
  {
   "cell_type": "code",
   "execution_count": 10,
   "id": "c5a45c92-d5e5-4e7b-b890-6ad0d9ae4ec6",
   "metadata": {},
   "outputs": [
    {
     "data": {
      "text/plain": [
       "dict"
      ]
     },
     "execution_count": 10,
     "metadata": {},
     "output_type": "execute_result"
    }
   ],
   "source": [
    "dic = {\n",
    "    \"a\": \"Rahul\",\n",
    "    \"b\": 21,\n",
    "    \"c\": {\"Math\": 85, \"Science\": 90, \"English\": 78},\n",
    "    \"d\": [\"Reading\", \"Cricket\", \"Music\"],\n",
    "    \"e\": (\"Reading\", \"Cricket\", \"Music\"),\n",
    "    \"f\": False\n",
    "}\n",
    "type(dic)"
   ]
  },
  {
   "cell_type": "code",
   "execution_count": 6,
   "id": "dcd173c3-afc0-4959-bd2c-b8e9e19fc9d4",
   "metadata": {},
   "outputs": [
    {
     "data": {
      "text/plain": [
       "'Cricket'"
      ]
     },
     "execution_count": 6,
     "metadata": {},
     "output_type": "execute_result"
    }
   ],
   "source": [
    "dic['d'][1] # indexing"
   ]
  },
  {
   "cell_type": "code",
   "execution_count": 7,
   "id": "7b99623c-c312-4776-ad58-d08c6aa3ad98",
   "metadata": {},
   "outputs": [
    {
     "data": {
      "text/plain": [
       "['Reading', 'Cricket']"
      ]
     },
     "execution_count": 7,
     "metadata": {},
     "output_type": "execute_result"
    }
   ],
   "source": [
    "dic['d'][0:2] # slicing"
   ]
  },
  {
   "cell_type": "code",
   "execution_count": 2,
   "id": "be3a0611-2f7d-4289-98f4-be8bdbed7319",
   "metadata": {},
   "outputs": [
    {
     "data": {
      "text/plain": [
       "{'ram': 'hari', 'hello': 'world'}"
      ]
     },
     "execution_count": 2,
     "metadata": {},
     "output_type": "execute_result"
    }
   ],
   "source": [
    "# convert of list fo tuple into dictonary\n",
    "dic1 = dict([('ram', 'hari'),('hello','world')])\n",
    "dic1"
   ]
  },
  {
   "cell_type": "markdown",
   "id": "854c67b8-266d-4c6b-862a-b3ca675b1096",
   "metadata": {},
   "source": [
    "### Dictornary mehtod"
   ]
  },
  {
   "cell_type": "code",
   "execution_count": null,
   "id": "d6dfcdf7-0d40-4d60-a7c4-32108a40887a",
   "metadata": {},
   "outputs": [],
   "source": [
    "dic.get()# access item with key name "
   ]
  },
  {
   "cell_type": "code",
   "execution_count": null,
   "id": "1854048f-8948-4256-a37a-b235f1c2d313",
   "metadata": {},
   "outputs": [],
   "source": [
    "dic.items() # return items as list"
   ]
  },
  {
   "cell_type": "code",
   "execution_count": null,
   "id": "61c83bf4-4758-493c-ad60-0587055334cf",
   "metadata": {},
   "outputs": [],
   "source": [
    "dic.keys() # return key"
   ]
  },
  {
   "cell_type": "code",
   "execution_count": null,
   "id": "64fd1060-fdf6-41df-b952-5c8f2e9c780b",
   "metadata": {},
   "outputs": [],
   "source": [
    "dic.values() # return values"
   ]
  },
  {
   "cell_type": "code",
   "execution_count": 13,
   "id": "b818da15-637a-4f15-9528-5c40d2f15155",
   "metadata": {},
   "outputs": [],
   "source": [
    "dic.update({\"d\": 73}) # add one itemns in dictonary"
   ]
  },
  {
   "cell_type": "code",
   "execution_count": null,
   "id": "a525ac29-5c2b-42e6-9428-64569cfe9b13",
   "metadata": {},
   "outputs": [],
   "source": [
    "del.dict()"
   ]
  },
  {
   "cell_type": "code",
   "execution_count": null,
   "id": "cce05fec-7d2d-47cd-99eb-0ac07cb01f66",
   "metadata": {},
   "outputs": [],
   "source": [
    "dic.copy()"
   ]
  },
  {
   "cell_type": "markdown",
   "id": "51569637-2dba-44be-8625-4953c4e07c3e",
   "metadata": {},
   "source": [
    "## Operator"
   ]
  },
  {
   "cell_type": "code",
   "execution_count": null,
   "id": "d850ae50-bb7b-46eb-89ba-e4867d9bb838",
   "metadata": {},
   "outputs": [],
   "source": [
    "result = (5 + 3 * 2 ** 2 - 4 / 2) * (10 - 4 * 3 + 2 ** 3 / 2) % 7 == 0 and 4 != 2 or 5 \n",
    "result"
   ]
  },
  {
   "cell_type": "markdown",
   "id": "586a3bc8-8566-4f20-af34-401d9c2b88e4",
   "metadata": {},
   "source": [
    "### Assigment operator "
   ]
  },
  {
   "cell_type": "code",
   "execution_count": null,
   "id": "e8426e3f-c259-4563-b08d-36017bdcc629",
   "metadata": {},
   "outputs": [],
   "source": [
    "x = 3\n",
    "x **= 2 # it means x = x **2\n",
    "x"
   ]
  },
  {
   "cell_type": "markdown",
   "id": "2c611cdc-da70-4f5e-bddc-8b42f13fc936",
   "metadata": {},
   "source": [
    "##### expression / condition return shuld be true or False"
   ]
  },
  {
   "cell_type": "markdown",
   "id": "ba469942-0327-4cf9-9441-79c191112454",
   "metadata": {},
   "source": [
    "# if "
   ]
  },
  {
   "cell_type": "code",
   "execution_count": null,
   "id": "fdd68ab6-17ae-4664-9857-4f80ff70106d",
   "metadata": {},
   "outputs": [],
   "source": [
    "if 3>1:\n",
    "    a = 3+4\n",
    "    print(a)\n",
    "print(a)"
   ]
  },
  {
   "cell_type": "code",
   "execution_count": null,
   "id": "bb964989-cdbf-4874-bd52-c84e72eb1832",
   "metadata": {},
   "outputs": [],
   "source": [
    "if 3<1:\n",
    "    a = 3+4\n",
    "    print(a)\n",
    "print(a)"
   ]
  },
  {
   "cell_type": "markdown",
   "id": "7ab64fc1-e23f-4cc8-a27d-fcd18ec2c8dc",
   "metadata": {},
   "source": [
    "# if-else"
   ]
  },
  {
   "cell_type": "code",
   "execution_count": null,
   "id": "2d979923-42a5-4efb-b644-37564b4c5bf7",
   "metadata": {},
   "outputs": [],
   "source": [
    "waight = eval(input('enter your waight')) # eval use for convert str into int\n",
    "if waight<100:\n",
    "    name = input('enter your name')\n",
    "    print(\"hay\",name,\"your waitht is \",waight)\n",
    "else:\n",
    "    print('your waight is more then 100')"
   ]
  },
  {
   "cell_type": "code",
   "execution_count": null,
   "id": "021da756-62e2-4665-9a39-84f5253efad7",
   "metadata": {},
   "outputs": [],
   "source": [
    "a,b,c,d = 2,2,3,3\n",
    "if (a == b) and (c != d): \n",
    "    print(\"abc\")\n",
    "else:\n",
    "    print(\"not equal\")"
   ]
  },
  {
   "cell_type": "code",
   "execution_count": 39,
   "id": "caf7b6b3-7e78-4c89-9bc4-4c60ca0eda1c",
   "metadata": {},
   "outputs": [
    {
     "name": "stdout",
     "output_type": "stream",
     "text": [
      "7 is Odd\n"
     ]
    }
   ],
   "source": [
    "num = 7\n",
    "if num % 2 == 0: \n",
    "    print(num, \"is Even\")\n",
    "else:\n",
    "    print(num, \"is Odd\")"
   ]
  },
  {
   "cell_type": "code",
   "execution_count": null,
   "id": "8b2c1997-17b4-44ea-8d5b-b6a0522906e1",
   "metadata": {},
   "outputs": [],
   "source": [
    "username = \"nikhil\"\n",
    "password = \"1234\"\n",
    "\n",
    "if username == \"nikhil\" and password == \"1234\":\n",
    "    print(\"Login Successful!\")\n",
    "else:\n",
    "    print(\"Invalid Credentials\")"
   ]
  },
  {
   "cell_type": "markdown",
   "id": "6ac3f8c4-39cf-4d12-8feb-b4e827e0c111",
   "metadata": {},
   "source": [
    "# if_elif_else"
   ]
  },
  {
   "cell_type": "code",
   "execution_count": null,
   "id": "75047266-ff6e-41cb-8727-1f7ffb36c784",
   "metadata": {},
   "outputs": [],
   "source": [
    "day = input(\"enter  a day\").strip().capitalize()\n",
    "weakday =['Monday','Tuesday','Wednesday','Thusday','Friday']\n",
    "weakend = ['Saturday','Sunday']\n",
    "if day in weakday:\n",
    "    print('its a working day')\n",
    "elif day in weakday:\n",
    "    print('it is a weakend')\n",
    "else:\n",
    "    print('Enter a valid day')"
   ]
  },
  {
   "cell_type": "code",
   "execution_count": null,
   "id": "097654c2-8179-4417-a9f4-c00404781fa8",
   "metadata": {},
   "outputs": [],
   "source": [
    "marks = eval(input('enter your marks'))\n",
    "if marks >90 :\n",
    "    print('grade a ')\n",
    "elif marks >=70:\n",
    "    print(\"grade b\")\n",
    "else:\n",
    "    print(\"grade f\")\n",
    "    "
   ]
  },
  {
   "cell_type": "code",
   "execution_count": null,
   "id": "22b698a2-99bc-43cf-a259-0f5e7d8f3f3d",
   "metadata": {},
   "outputs": [],
   "source": [
    "num = eval(input('Enter a number'))\n",
    "if num >0:\n",
    "    print('it is possitive num')\n",
    "elif num < 0:\n",
    "    print('it is negative num')\n",
    "else:\n",
    "    print('it is zero')"
   ]
  },
  {
   "cell_type": "markdown",
   "id": "5643cbb5-18c9-49d4-8ef3-c3235b464b03",
   "metadata": {},
   "source": [
    "# nasted if "
   ]
  },
  {
   "cell_type": "code",
   "execution_count": null,
   "id": "08d638e4-b98f-4985-be68-aca93161393e",
   "metadata": {},
   "outputs": [],
   "source": [
    "pin = 2474\n",
    "balance = 50000\n",
    "lang = eval(input(\" please select your language: 1-eng, 2-hindi, 3-telgu\"))\n",
    "if lang == 1 or lang ==  2 or lang == 3 :\n",
    "    ui_pin =eval(input(\"enter your pin\"))\n",
    "    if pin == ui_pin:\n",
    "        withdraw = eval(input('enter money for widrawal'))\n",
    "        if balance >= withdraw:\n",
    "            print('successfull')\n",
    "        else:\n",
    "            print('insufficient balance')\n",
    "    else:\n",
    "        print('enter valid pin')\n",
    "else:\n",
    "    print('chose one of three language')"
   ]
  },
  {
   "cell_type": "code",
   "execution_count": 89,
   "id": "44f713be-20d0-4f78-b1aa-3c7630757f1d",
   "metadata": {},
   "outputs": [
    {
     "name": "stdin",
     "output_type": "stream",
     "text": [
      "Enter your phone number:  343434343434\n"
     ]
    },
    {
     "name": "stdout",
     "output_type": "stream",
     "text": [
      "Final sum: 6\n"
     ]
    }
   ],
   "source": [
    "p = input(\"Enter your phone number: \")  \n",
    "sum = 0\n",
    "\n",
    "for i in range(len(p)):\n",
    "    sum = sum + int(p[i])  \n",
    "\n",
    "    if sum >= 10:\n",
    "        s = str(sum)\n",
    "        sum = int(s[0]) + int(s[1]) \n",
    "\n",
    "        if sum >= 10:\n",
    "            s = str(sum)\n",
    "            sum = int(s[0]) + int(s[1])\n",
    "\n",
    "print('Final sum:', sum)\n"
   ]
  },
  {
   "cell_type": "code",
   "execution_count": 86,
   "id": "fa52de9e-a003-4404-9987-af91e13bb6ae",
   "metadata": {},
   "outputs": [
    {
     "name": "stdin",
     "output_type": "stream",
     "text": [
      "Enter your phone number 8787878\n"
     ]
    },
    {
     "name": "stdout",
     "output_type": "stream",
     "text": [
      "sum 8\n"
     ]
    }
   ],
   "source": [
    "p = input(\"Enter your phone number\")\n",
    "sum = 0\n",
    "for i in range(len(p)):\n",
    "    sum = sum + C\n",
    "    if sum >= 10:\n",
    "        s = str(sum)\n",
    "        t = int(s[0]) + int(s[1])\n",
    "        if t >= 10:\n",
    "            s = str(t)\n",
    "            t = int(s[0]) +  int(s[1])\n",
    "print('sum',t)"
   ]
  },
  {
   "cell_type": "markdown",
   "id": "c2bb89cd-1fee-4102-85cb-d3ef52be1497",
   "metadata": {},
   "source": [
    "# while loop"
   ]
  },
  {
   "cell_type": "code",
   "execution_count": 33,
   "id": "96566bd2-18cd-4c54-a199-5e1f22c4fac1",
   "metadata": {},
   "outputs": [
    {
     "name": "stdout",
     "output_type": "stream",
     "text": [
      "python\n",
      "python\n",
      "python\n"
     ]
    }
   ],
   "source": [
    "x = 1\n",
    "while x <= 3:\n",
    "    print(\"python\")\n",
    "    x = x +1"
   ]
  },
  {
   "cell_type": "code",
   "execution_count": 59,
   "id": "3fa39af9-ac18-4d99-b474-42d1c83ad014",
   "metadata": {},
   "outputs": [
    {
     "name": "stdout",
     "output_type": "stream",
     "text": [
      "1\n",
      "3\n",
      "6\n",
      "10\n",
      "15\n",
      "sum of the all values : 15\n"
     ]
    }
   ],
   "source": [
    "x = 1\n",
    "sum = 0\n",
    "while x <= 5:\n",
    "    sum = x + sum\n",
    "    print(sum)\n",
    "    x = x +1\n",
    "print(\"sum of the all values :\",sum)"
   ]
  },
  {
   "cell_type": "code",
   "execution_count": 44,
   "id": "4dd4f64f-5dee-423c-b08a-5c746009ebfd",
   "metadata": {},
   "outputs": [
    {
     "name": "stdin",
     "output_type": "stream",
     "text": [
      "enter values  23\n"
     ]
    },
    {
     "name": "stdout",
     "output_type": "stream",
     "text": [
      "0\n"
     ]
    },
    {
     "name": "stdin",
     "output_type": "stream",
     "text": [
      "enter values  3\n"
     ]
    },
    {
     "name": "stdout",
     "output_type": "stream",
     "text": [
      "23\n"
     ]
    },
    {
     "name": "stdin",
     "output_type": "stream",
     "text": [
      "enter values  3\n"
     ]
    },
    {
     "name": "stdout",
     "output_type": "stream",
     "text": [
      "26\n"
     ]
    },
    {
     "name": "stdin",
     "output_type": "stream",
     "text": [
      "enter values  #\n"
     ]
    },
    {
     "name": "stdout",
     "output_type": "stream",
     "text": [
      "29\n",
      "total pay of user : 29\n"
     ]
    }
   ],
   "source": [
    "sum = 0\n",
    "while True :\n",
    "    ui = input(\"enter values \")\n",
    "    print(sum)\n",
    "    if ui == \"#\":\n",
    "        break\n",
    "    sum = sum + int(ui)\n",
    "print(\"total pay of user :\",sum)"
   ]
  },
  {
   "cell_type": "code",
   "execution_count": 75,
   "id": "464f252b-03d8-4aa1-af4e-2037bff7c203",
   "metadata": {},
   "outputs": [
    {
     "name": "stdin",
     "output_type": "stream",
     "text": [
      "enter the value 2\n",
      "enter the value 2\n",
      "enter the value #\n"
     ]
    },
    {
     "name": "stdout",
     "output_type": "stream",
     "text": [
      "total of all values 4\n"
     ]
    }
   ],
   "source": [
    "sum = 0 \n",
    "while True:\n",
    "    ui = input('enter the value')\n",
    "    if ui == \"#\":\n",
    "        break\n",
    "    # print(\"values which is enter user\")\n",
    "    sum = sum+ int(ui)\n",
    "print(\"total of all values\",sum)"
   ]
  },
  {
   "cell_type": "code",
   "execution_count": 79,
   "id": "3ee43ab4-dbe9-4bbd-8819-a0f3a69418c0",
   "metadata": {},
   "outputs": [
    {
     "name": "stdout",
     "output_type": "stream",
     "text": [
      "1\n",
      "2\n",
      "3\n",
      "4\n",
      "latest values of x is  5\n"
     ]
    }
   ],
   "source": [
    "x = 1\n",
    "while x <= 10:\n",
    "    print(x)\n",
    "    x = x+1\n",
    "    if x == 5:\n",
    "        break\n",
    "print(\"latest values of x is \",x)"
   ]
  },
  {
   "cell_type": "code",
   "execution_count": 82,
   "id": "0efe6c20-c503-4f0a-b1a7-922aab797449",
   "metadata": {},
   "outputs": [
    {
     "name": "stdout",
     "output_type": "stream",
     "text": [
      "[100, 200, 300]\n"
     ]
    }
   ],
   "source": [
    "data = [100, None, 200, None, 300]\n",
    "cleaned_data = []\n",
    "i = 0\n",
    "while i < len(data):\n",
    "    if data[i] is not None:\n",
    "        cleaned_data.append(data[i])\n",
    "    i += 1\n",
    "print(cleaned_data)"
   ]
  },
  {
   "cell_type": "code",
   "execution_count": 87,
   "id": "8926f07f-b678-454a-94c9-20f3f8b15893",
   "metadata": {},
   "outputs": [
    {
     "name": "stdout",
     "output_type": "stream",
     "text": [
      "Hey\n",
      "Hey\n",
      "Hey\n",
      "latest value of x is: 3\n"
     ]
    }
   ],
   "source": [
    "x = 0\n",
    "while x < 5:\n",
    "    x = x +1\n",
    "    print(\"Hey\")\n",
    "    if x == 3:\n",
    "        break\n",
    "print(\"latest value of x is:\",x)"
   ]
  },
  {
   "cell_type": "code",
   "execution_count": 17,
   "id": "e2dc07f9-d259-4120-8a15-71ed528283af",
   "metadata": {},
   "outputs": [
    {
     "name": "stdout",
     "output_type": "stream",
     "text": [
      "1 is Odd\n",
      "2 is Even\n",
      "3 is Odd\n",
      "4 is Even\n",
      "5 is Odd\n",
      "6 is Even\n",
      "7 is Odd\n",
      "8 is Even\n",
      "9 is Odd\n",
      "10 is Even\n"
     ]
    }
   ],
   "source": [
    "i = 1\n",
    "while i <= 10: # also this program use for the for loop \n",
    "    if i % 2 == 0:\n",
    "        print(i, \"is Even\")\n",
    "    else:\n",
    "        print(i, \"is Odd\")\n",
    "    i = i +1"
   ]
  },
  {
   "cell_type": "code",
   "execution_count": 30,
   "id": "58f0a1a5-3f8e-4fce-95ba-f5876550c071",
   "metadata": {},
   "outputs": [
    {
     "name": "stdout",
     "output_type": "stream",
     "text": [
      "3\n",
      "3\n",
      "4\n",
      "5\n",
      "9\n",
      "5\n",
      "latest value of i is: 6\n"
     ]
    }
   ],
   "source": [
    "l = [3,3,4,5,9,5]\n",
    "i = 0\n",
    "while i < len(l):\n",
    "    print(l[i])\n",
    "    i = i+1\n",
    "print(\"latest value of i is:\",i)"
   ]
  },
  {
   "cell_type": "code",
   "execution_count": 11,
   "id": "f7274e78-9f31-424d-a02d-2190d0dc463e",
   "metadata": {},
   "outputs": [
    {
     "name": "stdout",
     "output_type": "stream",
     "text": [
      "[3, 4, 5, 6]\n"
     ]
    }
   ],
   "source": [
    "l = [3,4,5,6,8,9,3]\n",
    "l1 = []\n",
    "i = 0\n",
    "while i < 4:\n",
    "    l1.append(l[i])\n",
    "    i = i +1\n",
    "print(l1)"
   ]
  },
  {
   "cell_type": "markdown",
   "id": "f3810933-4b86-4bf5-affa-30b6ab36e71f",
   "metadata": {},
   "source": [
    "# for loop"
   ]
  },
  {
   "cell_type": "code",
   "execution_count": 35,
   "id": "42a40f63-10e6-4db8-a333-ded7eb191030",
   "metadata": {},
   "outputs": [
    {
     "name": "stdout",
     "output_type": "stream",
     "text": [
      "0\n",
      "1\n",
      "2\n"
     ]
    }
   ],
   "source": [
    "a = ['a','b','c']\n",
    "for i in range(len(a)):\n",
    "    print(i)"
   ]
  },
  {
   "cell_type": "code",
   "execution_count": 34,
   "id": "3c0ebc48-ca7f-4a04-9bdd-1744f61997c6",
   "metadata": {},
   "outputs": [
    {
     "name": "stdout",
     "output_type": "stream",
     "text": [
      "a\n",
      "b\n",
      "c\n"
     ]
    }
   ],
   "source": [
    "a = ['a','b','c']\n",
    "for i in a:\n",
    "    print(i)"
   ]
  },
  {
   "cell_type": "code",
   "execution_count": 42,
   "id": "1654065b-18d4-4d9f-b4b1-8009f2ee3fb3",
   "metadata": {},
   "outputs": [
    {
     "name": "stdout",
     "output_type": "stream",
     "text": [
      "[]\n"
     ]
    }
   ],
   "source": [
    "l = [3,4,5,6,7]\n",
    "l2 = []\n",
    "for i in l:\n",
    "    if i == 3 :\n",
    "        break\n",
    "    l2.append([i])\n",
    "print(l2)"
   ]
  },
  {
   "cell_type": "code",
   "execution_count": 1,
   "id": "54ac6bdc-6874-400e-8056-f87c819fb9f1",
   "metadata": {},
   "outputs": [
    {
     "name": "stdout",
     "output_type": "stream",
     "text": [
      "60\n"
     ]
    }
   ],
   "source": [
    "l = [10, 20, 30, 40, 50] \n",
    "sum = 0\n",
    "for i in range(3):\n",
    "    sum = sum + l[i] \n",
    "print(sum)"
   ]
  },
  {
   "cell_type": "code",
   "execution_count": 4,
   "id": "bf0fc2bc-dad7-4d91-b0b4-24a47eca0aa6",
   "metadata": {},
   "outputs": [
    {
     "name": "stdout",
     "output_type": "stream",
     "text": [
      "sum of list : 20\n"
     ]
    }
   ],
   "source": [
    "l = [2,3,4,5,6]\n",
    "sum = 0\n",
    "for  i in l:\n",
    "    sum = sum + i\n",
    "print(\"sum of list :\",sum)"
   ]
  },
  {
   "cell_type": "code",
   "execution_count": 7,
   "id": "52d75880-5de2-42c7-87e5-55bedd6e7633",
   "metadata": {},
   "outputs": [
    {
     "name": "stdout",
     "output_type": "stream",
     "text": [
      "New list : [34, 5, 6]\n"
     ]
    }
   ],
   "source": [
    "l =[34,5,6,76,7] # using for loop and its a backend code of the list\n",
    "l1 = []\n",
    "for i in range(3):\n",
    "    l1.append(l[i])\n",
    "print(\"New list :\",l1)  "
   ]
  },
  {
   "cell_type": "code",
   "execution_count": 9,
   "id": "07ce6d36-24d7-43c6-b200-f8b6e31558ee",
   "metadata": {},
   "outputs": [
    {
     "data": {
      "text/plain": [
       "[34, 5, 6]"
      ]
     },
     "execution_count": 9,
     "metadata": {},
     "output_type": "execute_result"
    }
   ],
   "source": [
    "l[0:3] # easy way to print "
   ]
  },
  {
   "cell_type": "code",
   "execution_count": 6,
   "id": "488f7de8-59d2-4c98-bdd4-a6fa66dada97",
   "metadata": {},
   "outputs": [
    {
     "name": "stdout",
     "output_type": "stream",
     "text": [
      "[6, 87, 6, 3]\n"
     ]
    }
   ],
   "source": [
    "l = [3,4,5,6,87,6]\n",
    "l1 = []\n",
    "for i in [3,4,-1,0]:\n",
    "    l1.append(l[i])\n",
    "print(l1)"
   ]
  },
  {
   "cell_type": "code",
   "execution_count": null,
   "id": "dfbbd5e6-0714-4f36-a21d-727e589af250",
   "metadata": {},
   "outputs": [],
   "source": [
    "# Q2 write a python code to generate a list of squre for the number between 1 to 10\n",
    "l = [1,2,3,4,5]\n",
    "squre = []\n",
    "for i in l:\n",
    "    x = i*i\n",
    "    squre.append(x)\n",
    "print(squre)\n",
    "    "
   ]
  },
  {
   "cell_type": "code",
   "execution_count": 36,
   "id": "5b7b588f-9e4a-4123-a4ab-500264db5c22",
   "metadata": {},
   "outputs": [
    {
     "name": "stdout",
     "output_type": "stream",
     "text": [
      "['a', 1, 'b', 2, 'c', 3]\n"
     ]
    }
   ],
   "source": [
    " \"\"\" Q1  Write a function that, take two list as input,marge two list into a single list,alternet element \n",
    "from each list and return the merge list \"\"\"\n",
    "\n",
    "a = ['a','b','c']\n",
    "b = [1, 2, 3]\n",
    "def alternate(list1,list2):\n",
    "    temp = []\n",
    "    for i in range(len(list1)):\n",
    "        temp.append(list1[i])\n",
    "        temp.append(list2[i])\n",
    "    return temp\n",
    "print(alternate(['a','b','c'],[1, 2, 3]))"
   ]
  },
  {
   "cell_type": "markdown",
   "id": "c2fc57a8-a5ab-4623-b974-ec5ff5e19fa8",
   "metadata": {},
   "source": [
    "# nasted for "
   ]
  },
  {
   "cell_type": "code",
   "execution_count": 92,
   "id": "9e1ae122-b77a-4134-8ecc-bf44442dec67",
   "metadata": {},
   "outputs": [
    {
     "name": "stdout",
     "output_type": "stream",
     "text": [
      "1 2 3 4 5 \n",
      "2 4 6 8 10 \n",
      "3 6 9 12 15 \n",
      "4 8 12 16 20 \n",
      "5 10 15 20 25 \n"
     ]
    }
   ],
   "source": [
    "for i in range(1, 6):\n",
    "    for j in range(1, 6):\n",
    "        print(i * j, end=\" \")\n",
    "    print()"
   ]
  },
  {
   "cell_type": "code",
   "execution_count": null,
   "id": "923ba407-4e28-4078-aeaf-b0c4cad64ec5",
   "metadata": {},
   "outputs": [],
   "source": [
    "for i in range(10):\n",
    "    if i == 5:\n",
    "        break\n",
    "    print(i)"
   ]
  },
  {
   "cell_type": "code",
   "execution_count": null,
   "id": "82229bf4-7b02-40d3-b2e1-a6b525f3c79f",
   "metadata": {},
   "outputs": [],
   "source": [
    "for i in range(5):\n",
    "    if i == 2:\n",
    "        continue\n",
    "    print(i)"
   ]
  },
  {
   "cell_type": "code",
   "execution_count": null,
   "id": "688f0cbc-ace1-4e25-9e80-cadd106a4b6e",
   "metadata": {},
   "outputs": [],
   "source": [
    "import warnings \n",
    "warnings.filterwarnings"
   ]
  },
  {
   "cell_type": "code",
   "execution_count": null,
   "id": "72051ea9-16f1-434e-8dd7-c5cb424c9e3a",
   "metadata": {},
   "outputs": [],
   "source": [
    "import pandas as pd \n",
    "import numpy as np\n",
    "\n",
    "data = {\"Name\": [\"Alice\", \"Bob\", np.nan, \"David\"], \"Salary\": [50000, 60000, 45000, np.nan]}\n",
    "df = pd.DataFrame(data)\n",
    "df\n",
    "# Filling missing values\n",
    "for col in df.columns:\n",
    "    df[col].fillna(\"Unknown\" if df[col].dtype == object else df[col].mean(), inplace=True)\n",
    "print(df)"
   ]
  },
  {
   "cell_type": "markdown",
   "id": "be587239-0120-4c8b-a7b4-3850f9599fec",
   "metadata": {},
   "source": [
    "# Function"
   ]
  },
  {
   "cell_type": "markdown",
   "id": "cfb335d5-c8c7-41dc-bc94-3c31516f5fed",
   "metadata": {},
   "source": [
    "### user define function"
   ]
  },
  {
   "cell_type": "code",
   "execution_count": 24,
   "id": "720dd171-4a32-4b46-80a5-75a8f482a812",
   "metadata": {},
   "outputs": [
    {
     "name": "stdout",
     "output_type": "stream",
     "text": [
      "Hello 3\n",
      "Hello 4\n",
      "Hello 54\n"
     ]
    }
   ],
   "source": [
    "# arbitry arguments \n",
    "def greet(*n):\n",
    "    for i in n :\n",
    "        print(\"Hello\",i)\n",
    "greet(3,4,54)"
   ]
  },
  {
   "cell_type": "code",
   "execution_count": 8,
   "id": "b63a4899-985c-4cfd-a128-0ce79669d031",
   "metadata": {},
   "outputs": [
    {
     "name": "stdout",
     "output_type": "stream",
     "text": [
      "Hello, Guest! You are 25 years old.\n"
     ]
    }
   ],
   "source": [
    "# default arguments\n",
    "def greet(name=\"Guest\", age=25):\n",
    "    print(f\"Hello, {name}! You are {age} years old.\")\n",
    "greet()\n",
    "\n"
   ]
  },
  {
   "cell_type": "code",
   "execution_count": null,
   "id": "8e20b391-01db-4cdc-ad70-3a824ee8ba81",
   "metadata": {},
   "outputs": [],
   "source": [
    "# positional arguments \n",
    "def add_numbers(a, b):\n",
    "    return a + b\n",
    "result = add_numbers(5, 3)\n",
    "print(result) \n"
   ]
  },
  {
   "cell_type": "code",
   "execution_count": null,
   "id": "ef9ed6de-3796-4ced-8152-d2de5d3590e1",
   "metadata": {},
   "outputs": [],
   "source": [
    "# keyword arguments with def function\n",
    "def display_info(name, age, city):\n",
    "    print(f\"Name: {name}\")\n",
    "    print(f\"Age: {age}\")\n",
    "    print(f\"City: {city}\")\n",
    "display_info(name=\"Alice\", age=30, city=\"New York\")\n",
    "display_info(city=\"Los Angeles\", age=25, name=\"Bob\")\n"
   ]
  },
  {
   "cell_type": "code",
   "execution_count": 22,
   "id": "5df7e1d5-2ccd-4064-a437-11dc1df94966",
   "metadata": {},
   "outputs": [
    {
     "name": "stdout",
     "output_type": "stream",
     "text": [
      "Hello, welcome to the Python world!\n"
     ]
    }
   ],
   "source": [
    "# define function with no arguments\n",
    "def greet():\n",
    "    print(\"Hello, welcome to the Python world!\")\n",
    "greet()\n"
   ]
  },
  {
   "cell_type": "code",
   "execution_count": 12,
   "id": "61a83287-a55f-41ed-b6fc-aaf46d0c2255",
   "metadata": {},
   "outputs": [],
   "source": [
    "def add(a,b):\n",
    "    return a*b"
   ]
  },
  {
   "cell_type": "code",
   "execution_count": 17,
   "id": "6707d5e5-fff1-4a9a-b906-6557b9a413eb",
   "metadata": {},
   "outputs": [
    {
     "data": {
      "text/plain": [
       "12"
      ]
     },
     "execution_count": 17,
     "metadata": {},
     "output_type": "execute_result"
    }
   ],
   "source": [
    "add(3,4)"
   ]
  },
  {
   "cell_type": "code",
   "execution_count": 57,
   "id": "e3d29af5-5d76-483c-9eba-ec1c9d104fa0",
   "metadata": {},
   "outputs": [],
   "source": [
    "def add_numbers(a, b):\n",
    "    return a + b\n",
    "\n",
    "result = add_numbers(5, 10)"
   ]
  },
  {
   "cell_type": "code",
   "execution_count": 58,
   "id": "867c4885-c897-49bb-8a80-cce78e3559d0",
   "metadata": {},
   "outputs": [
    {
     "name": "stdout",
     "output_type": "stream",
     "text": [
      "15\n"
     ]
    }
   ],
   "source": [
    "print(result)"
   ]
  },
  {
   "cell_type": "code",
   "execution_count": 59,
   "id": "62720705-15fa-48e0-ab9a-f0a48aea387e",
   "metadata": {},
   "outputs": [
    {
     "name": "stdout",
     "output_type": "stream",
     "text": [
      "Adult\n"
     ]
    }
   ],
   "source": [
    "def check_age(age):\n",
    "    if age >= 18:\n",
    "        return \"Adult\"\n",
    "    else:\n",
    "        return \"Not an adult\"\n",
    "\n",
    "print(check_age(20))  # Output: Adult\n"
   ]
  },
  {
   "cell_type": "markdown",
   "id": "47abd23d-464e-4dc2-880b-d1faa4f2df23",
   "metadata": {},
   "source": [
    "### module function "
   ]
  },
  {
   "cell_type": "code",
   "execution_count": 9,
   "id": "1f45f61d-cab1-4017-b459-205290a15e2a",
   "metadata": {},
   "outputs": [
    {
     "data": {
      "text/plain": [
       "'C:\\\\Users\\\\gagan soni'"
      ]
     },
     "execution_count": 9,
     "metadata": {},
     "output_type": "execute_result"
    }
   ],
   "source": [
    "pwd"
   ]
  },
  {
   "cell_type": "code",
   "execution_count": 12,
   "id": "0a2a54a9-74af-4927-9348-55e139f8f5e8",
   "metadata": {},
   "outputs": [],
   "source": [
    "import module as md"
   ]
  },
  {
   "cell_type": "code",
   "execution_count": 13,
   "id": "53844097-e070-41fb-96e1-23432865ece0",
   "metadata": {},
   "outputs": [
    {
     "data": {
      "text/plain": [
       "9"
      ]
     },
     "execution_count": 13,
     "metadata": {},
     "output_type": "execute_result"
    }
   ],
   "source": [
    "md.mul(3,3)"
   ]
  },
  {
   "cell_type": "code",
   "execution_count": 14,
   "id": "32f918cd-bdd4-4300-912e-f893f3c2a6d0",
   "metadata": {},
   "outputs": [],
   "source": [
    "from module import sum"
   ]
  },
  {
   "cell_type": "code",
   "execution_count": 15,
   "id": "4b794351-deb4-4f54-b5f2-3a8ccc4d0693",
   "metadata": {},
   "outputs": [
    {
     "data": {
      "text/plain": [
       "8"
      ]
     },
     "execution_count": 15,
     "metadata": {},
     "output_type": "execute_result"
    }
   ],
   "source": [
    "sum(3,5)"
   ]
  },
  {
   "cell_type": "code",
   "execution_count": 56,
   "id": "27bf4879-6a59-45e5-8a4e-0f7d6df591a1",
   "metadata": {},
   "outputs": [
    {
     "name": "stdout",
     "output_type": "stream",
     "text": [
      "[40, 65, 58, 15, 18]\n"
     ]
    }
   ],
   "source": [
    "import random\n",
    "l = []\n",
    "for i in range(5):\n",
    "    l.append(random.randint(i,100))\n",
    "print(l)"
   ]
  },
  {
   "cell_type": "code",
   "execution_count": 45,
   "id": "afd2c411-92dd-476e-baff-1eefdd052870",
   "metadata": {},
   "outputs": [
    {
     "name": "stdout",
     "output_type": "stream",
     "text": [
      "4.0\n"
     ]
    }
   ],
   "source": [
    "import math\n",
    "\n",
    "print(math.sqrt(16))  "
   ]
  },
  {
   "cell_type": "markdown",
   "id": "6978efb9-cc51-4079-a85b-88b574e5ee56",
   "metadata": {},
   "source": [
    "# Number_system---"
   ]
  },
  {
   "cell_type": "code",
   "execution_count": null,
   "id": "8a18879f-8b92-47b8-84ab-d7f58e841310",
   "metadata": {},
   "outputs": [],
   "source": [
    "num = 25 # number to other "
   ]
  },
  {
   "cell_type": "code",
   "execution_count": null,
   "id": "78b64de4-a1df-48a7-b3c5-d59b7e602c5e",
   "metadata": {},
   "outputs": [],
   "source": [
    "bin(num)"
   ]
  },
  {
   "cell_type": "code",
   "execution_count": null,
   "id": "2b85244f-79d1-4d8a-b07a-e4f22ee3e84f",
   "metadata": {},
   "outputs": [],
   "source": [
    "oct(num)"
   ]
  },
  {
   "cell_type": "code",
   "execution_count": null,
   "id": "2eea7f47-73c5-4861-85ac-ea6f98087e34",
   "metadata": {},
   "outputs": [],
   "source": [
    "hex(num)"
   ]
  },
  {
   "cell_type": "code",
   "execution_count": null,
   "id": "a949dc65-04c9-4d6d-8e58-9c07eb3d1c8f",
   "metadata": {},
   "outputs": [],
   "source": [
    "binary_num = 1010 # binary to another "
   ]
  },
  {
   "cell_type": "code",
   "execution_count": null,
   "id": "4a7c5bd3-75f4-4cac-828d-0be3c1269d99",
   "metadata": {},
   "outputs": [],
   "source": [
    "hex(binary_num)"
   ]
  },
  {
   "cell_type": "code",
   "execution_count": null,
   "id": "6b9a2054-98c3-4786-9407-9f24246acec9",
   "metadata": {},
   "outputs": [],
   "source": [
    "oct(binary_num)"
   ]
  },
  {
   "cell_type": "markdown",
   "id": "aa14fba8-a6d6-4071-bf02-900f167c82a3",
   "metadata": {},
   "source": [
    "# swaping "
   ]
  },
  {
   "cell_type": "code",
   "execution_count": null,
   "id": "7a4f4237-b025-46cd-a011-9e47a6799326",
   "metadata": {},
   "outputs": [],
   "source": [
    "#1. using temp variable"
   ]
  },
  {
   "cell_type": "code",
   "execution_count": null,
   "id": "d5523904-bd88-48ff-a8d1-f22784ac0455",
   "metadata": {},
   "outputs": [],
   "source": [
    "a = 3 \n",
    "b = 5 \n",
    "temp = a \n",
    "a = b \n",
    "b = temp"
   ]
  },
  {
   "cell_type": "code",
   "execution_count": null,
   "id": "3116e3a7-6c8f-46f5-b473-c7058bf00912",
   "metadata": {},
   "outputs": [],
   "source": [
    "a,b"
   ]
  },
  {
   "cell_type": "code",
   "execution_count": null,
   "id": "e8c0113f-5a5a-461f-b320-c46869b60aed",
   "metadata": {},
   "outputs": [],
   "source": [
    "#2. using tuple packaging "
   ]
  },
  {
   "cell_type": "code",
   "execution_count": null,
   "id": "7164a8d0-7a99-43b4-95a1-55d08100052f",
   "metadata": {},
   "outputs": [],
   "source": [
    "x = 8\n",
    "y = 9"
   ]
  },
  {
   "cell_type": "markdown",
   "id": "d311ff8d-e2a8-411c-a31a-b1f6ee58b326",
   "metadata": {},
   "source": [
    "x,y= y,x "
   ]
  },
  {
   "cell_type": "code",
   "execution_count": null,
   "id": "3a8d5dac-96bc-4a00-93cf-469f5ff6b4e5",
   "metadata": {},
   "outputs": [],
   "source": [
    "~12"
   ]
  },
  {
   "cell_type": "code",
   "execution_count": null,
   "id": "43b689d8-ea76-4b16-ae4a-084141be0049",
   "metadata": {},
   "outputs": [],
   "source": [
    "12&34"
   ]
  },
  {
   "cell_type": "code",
   "execution_count": null,
   "id": "3c4f1f0e-06f4-4488-b707-7b98254ac1f4",
   "metadata": {},
   "outputs": [],
   "source": [
    "### import math module"
   ]
  },
  {
   "cell_type": "code",
   "execution_count": null,
   "id": "7db11d15-665a-4b40-b66d-11ed9ae71faa",
   "metadata": {},
   "outputs": [],
   "source": [
    "import math as m  # there math is module "
   ]
  },
  {
   "cell_type": "code",
   "execution_count": null,
   "id": "e39fa457-2deb-4ce2-8948-7f0146043faa",
   "metadata": {},
   "outputs": [],
   "source": [
    "x = m.sqrt(25) # rood \n",
    "x"
   ]
  },
  {
   "cell_type": "code",
   "execution_count": null,
   "id": "6371f9e5-594d-405b-94dd-46ca7dd840fe",
   "metadata": {},
   "outputs": [],
   "source": [
    "print(m.floor(2.6))"
   ]
  },
  {
   "cell_type": "code",
   "execution_count": null,
   "id": "5ec8f01d-6b39-4ccb-9934-97f972e095c6",
   "metadata": {},
   "outputs": [],
   "source": [
    "print(math.sqrt(25))      # Square root → 5.0"
   ]
  },
  {
   "cell_type": "code",
   "execution_count": null,
   "id": "b23c119a-5601-4490-a2d7-adc0155b39f2",
   "metadata": {},
   "outputs": [],
   "source": [
    "print(math.pow(2, 3))     # Power (2^3) → 8.0"
   ]
  },
  {
   "cell_type": "code",
   "execution_count": null,
   "id": "5d863735-8fe5-4ac1-9900-b7a02a35c535",
   "metadata": {},
   "outputs": [],
   "source": [
    "print(math.factorial(5))  # Factorial (5!) → 120"
   ]
  },
  {
   "cell_type": "code",
   "execution_count": null,
   "id": "6eb18f93-a939-474c-99e6-fbb9cd784087",
   "metadata": {},
   "outputs": [],
   "source": [
    "print(math.fabs(-10))     # Absolute value → 10.0"
   ]
  }
 ],
 "metadata": {
  "kernelspec": {
   "display_name": "Python 3 (ipykernel)",
   "language": "python",
   "name": "python3"
  },
  "language_info": {
   "codemirror_mode": {
    "name": "ipython",
    "version": 3
   },
   "file_extension": ".py",
   "mimetype": "text/x-python",
   "name": "python",
   "nbconvert_exporter": "python",
   "pygments_lexer": "ipython3",
   "version": "3.12.7"
  }
 },
 "nbformat": 4,
 "nbformat_minor": 5
}
