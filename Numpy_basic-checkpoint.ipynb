{
 "cells": [
  {
   "cell_type": "markdown",
   "id": "8be72553-32b6-498d-b4ef-0eaae13c7be3",
   "metadata": {},
   "source": [
    "numpy first program"
   ]
  },
  {
   "cell_type": "code",
   "execution_count": 3,
   "id": "b6a1193d-4629-40a7-b6a1-163b0b3efeb5",
   "metadata": {},
   "outputs": [],
   "source": [
    "import numpy as np "
   ]
  },
  {
   "cell_type": "code",
   "execution_count": null,
   "id": "0709c3dc-75ff-4c45-8ad8-579f3c70c5a7",
   "metadata": {},
   "outputs": [],
   "source": [
    "# in range we can pass 1,2 or 3 value and if you want all val is print then we can use for loop "
   ]
  },
  {
   "cell_type": "code",
   "execution_count": 5,
   "id": "423b379d-7299-47ad-950f-4874bad0bdc7",
   "metadata": {},
   "outputs": [
    {
     "data": {
      "text/plain": [
       "range(0, 3)"
      ]
     },
     "execution_count": 5,
     "metadata": {},
     "output_type": "execute_result"
    }
   ],
   "source": [
    "range(3)\n"
   ]
  },
  {
   "cell_type": "code",
   "execution_count": 7,
   "id": "e49832b9-5aa1-4f66-af37-f53d12fd6f51",
   "metadata": {},
   "outputs": [
    {
     "data": {
      "text/plain": [
       "range(0, 5)"
      ]
     },
     "execution_count": 7,
     "metadata": {},
     "output_type": "execute_result"
    }
   ],
   "source": [
    "range (5)"
   ]
  },
  {
   "cell_type": "code",
   "execution_count": 9,
   "id": "1221e080-dc10-425b-a266-33fe3c65fe6c",
   "metadata": {},
   "outputs": [
    {
     "data": {
      "text/plain": [
       "[0, 1, 2, 3, 4]"
      ]
     },
     "execution_count": 9,
     "metadata": {},
     "output_type": "execute_result"
    }
   ],
   "source": [
    "list(range(5))"
   ]
  },
  {
   "cell_type": "code",
   "execution_count": 17,
   "id": "b0ee6b7b-eb35-4270-ab8c-697d0a985bdc",
   "metadata": {},
   "outputs": [
    {
     "data": {
      "text/plain": [
       "(0, 1, 2, 3, 4)"
      ]
     },
     "execution_count": 17,
     "metadata": {},
     "output_type": "execute_result"
    }
   ],
   "source": [
    "tuple(range(5))"
   ]
  },
  {
   "cell_type": "code",
   "execution_count": 103,
   "id": "e9fe4db7-5af8-49c8-a0a9-a3e9d01bcdfd",
   "metadata": {},
   "outputs": [
    {
     "data": {
      "text/plain": [
       "range(0, 10)"
      ]
     },
     "execution_count": 103,
     "metadata": {},
     "output_type": "execute_result"
    }
   ],
   "source": [
    "r1 = range(10)\n",
    "r1 "
   ]
  },
  {
   "cell_type": "code",
   "execution_count": 1,
   "id": "eab9648b-5b4f-4c7e-b735-4c1853a265a0",
   "metadata": {},
   "outputs": [
    {
     "data": {
      "text/plain": [
       "range(12, 25, 3)"
      ]
     },
     "execution_count": 1,
     "metadata": {},
     "output_type": "execute_result"
    }
   ],
   "source": [
    "r2 = range (12,25,3) # if we use of rage then i will use of for loop\n",
    "r2"
   ]
  },
  {
   "cell_type": "code",
   "execution_count": 159,
   "id": "efd1efb8-1494-4360-9f6b-0e608e78fc9f",
   "metadata": {},
   "outputs": [
    {
     "name": "stdout",
     "output_type": "stream",
     "text": [
      "12\n",
      "15\n",
      "18\n",
      "21\n",
      "24\n"
     ]
    }
   ],
   "source": [
    "for i in r2:\n",
    "    print(i)"
   ]
  },
  {
   "cell_type": "code",
   "execution_count": 105,
   "id": "736470d8-1d15-4c0e-b3ae-35c7cd9f570a",
   "metadata": {},
   "outputs": [
    {
     "name": "stdout",
     "output_type": "stream",
     "text": [
      "0\n",
      "1\n",
      "2\n",
      "3\n",
      "4\n",
      "5\n",
      "6\n",
      "7\n",
      "8\n",
      "9\n"
     ]
    }
   ],
   "source": [
    "for i in r1:\n",
    "    print(i)"
   ]
  },
  {
   "cell_type": "code",
   "execution_count": 31,
   "id": "e85be8da-412e-430c-a928-235f61b6916d",
   "metadata": {},
   "outputs": [],
   "source": [
    "import numpy as np"
   ]
  },
  {
   "cell_type": "code",
   "execution_count": 35,
   "id": "179993ff-b8b1-47f8-89c4-f194966908b6",
   "metadata": {},
   "outputs": [
    {
     "data": {
      "text/plain": [
       "list"
      ]
     },
     "execution_count": 35,
     "metadata": {},
     "output_type": "execute_result"
    }
   ],
   "source": [
    "my_list = [2,3,4,5,6]\n",
    "type(my_list)"
   ]
  },
  {
   "cell_type": "code",
   "execution_count": 119,
   "id": "d4052900-9977-4d0e-b2a2-d04962d84d08",
   "metadata": {},
   "outputs": [
    {
     "data": {
      "text/plain": [
       "type"
      ]
     },
     "execution_count": 119,
     "metadata": {},
     "output_type": "execute_result"
    }
   ],
   "source": [
    "type(my_list)"
   ]
  },
  {
   "cell_type": "code",
   "execution_count": 113,
   "id": "adee2f54-d58e-47e9-9422-5d68d2a26dc2",
   "metadata": {},
   "outputs": [
    {
     "name": "stdout",
     "output_type": "stream",
     "text": [
      "1.26.4\n"
     ]
    }
   ],
   "source": [
    "import numpy as np\n",
    "print(np.__version__)  # show numpy version\n"
   ]
  },
  {
   "cell_type": "code",
   "execution_count": 37,
   "id": "cfd0a5cd-7f43-41b0-9cb9-0a707fe9ac75",
   "metadata": {},
   "outputs": [
    {
     "data": {
      "text/plain": [
       "array([2, 3, 4, 5, 6])"
      ]
     },
     "execution_count": 37,
     "metadata": {},
     "output_type": "execute_result"
    }
   ],
   "source": [
    "arr1 = np.array(my_list) \n",
    "arr1"
   ]
  },
  {
   "cell_type": "code",
   "execution_count": 133,
   "id": "a234932a-da02-4b35-b34e-cc9b04dd68a8",
   "metadata": {},
   "outputs": [
    {
     "data": {
      "text/plain": [
       "array([ 0,  1,  2,  3,  4,  5,  6,  7,  8,  9, 10, 11, 12, 13, 14])"
      ]
     },
     "execution_count": 133,
     "metadata": {},
     "output_type": "execute_result"
    }
   ],
   "source": [
    "np.arange(15)"
   ]
  },
  {
   "cell_type": "code",
   "execution_count": 165,
   "id": "ded094e3-9326-443c-9410-def82e95ed79",
   "metadata": {},
   "outputs": [
    {
     "data": {
      "text/plain": [
       "array([0., 1., 2.])"
      ]
     },
     "execution_count": 165,
     "metadata": {},
     "output_type": "execute_result"
    }
   ],
   "source": [
    "np.arange(3.0)"
   ]
  },
  {
   "cell_type": "code",
   "execution_count": 167,
   "id": "4b15ebbd-d1ae-4611-9b0d-88e911d57d4c",
   "metadata": {},
   "outputs": [
    {
     "data": {
      "text/plain": [
       "array([-10,  -9,  -8,  -7,  -6,  -5,  -4,  -3,  -2,  -1,   0,   1,   2,\n",
       "         3,   4])"
      ]
     },
     "execution_count": 167,
     "metadata": {},
     "output_type": "execute_result"
    }
   ],
   "source": [
    "np.arange(-10,5)"
   ]
  },
  {
   "cell_type": "code",
   "execution_count": 169,
   "id": "15d22e8d-3565-4150-896c-ff552708fa5f",
   "metadata": {},
   "outputs": [
    {
     "data": {
      "text/plain": [
       "array([], dtype=int32)"
      ]
     },
     "execution_count": 169,
     "metadata": {},
     "output_type": "execute_result"
    }
   ],
   "source": [
    "np.arange(30,20) # always less then 2nd arg"
   ]
  },
  {
   "cell_type": "code",
   "execution_count": 171,
   "id": "e6f3b97b-9b98-475c-bd80-6c2551aa6342",
   "metadata": {},
   "outputs": [
    {
     "data": {
      "text/plain": [
       "array([], dtype=int32)"
      ]
     },
     "execution_count": 171,
     "metadata": {},
     "output_type": "execute_result"
    }
   ],
   "source": [
    "np.arange(1,1) # we can not call equal arg , distance is needed"
   ]
  },
  {
   "cell_type": "code",
   "execution_count": null,
   "id": "ff0215a7-1790-40b4-9499-c4d7ec611438",
   "metadata": {},
   "outputs": [],
   "source": [
    "# with the help of np.ones ,random.rand and np. zeros we can create multi D array \n",
    "# its generate by default float value and also we can convert into another dtype"
   ]
  },
  {
   "cell_type": "code",
   "execution_count": 173,
   "id": "fb25a573-597f-4267-b89e-9d33967a4160",
   "metadata": {},
   "outputs": [
    {
     "data": {
      "text/plain": [
       "array([0., 0., 0., 0.])"
      ]
     },
     "execution_count": 173,
     "metadata": {},
     "output_type": "execute_result"
    }
   ],
   "source": [
    "np.zeros(4)"
   ]
  },
  {
   "cell_type": "code",
   "execution_count": 181,
   "id": "f220ac86-0d4b-4b55-9370-109b3a629c84",
   "metadata": {},
   "outputs": [
    {
     "data": {
      "text/plain": [
       "array([0, 0, 0])"
      ]
     },
     "execution_count": 181,
     "metadata": {},
     "output_type": "execute_result"
    }
   ],
   "source": [
    "np.zeros(3,dtype = int)"
   ]
  },
  {
   "cell_type": "code",
   "execution_count": 185,
   "id": "ad9112c8-3708-436a-a6fc-234485b267d7",
   "metadata": {},
   "outputs": [
    {
     "data": {
      "text/plain": [
       "array(['', '', ''], dtype='<U1')"
      ]
     },
     "execution_count": 185,
     "metadata": {},
     "output_type": "execute_result"
    }
   ],
   "source": [
    "np.zeros(3, dtype= str)"
   ]
  },
  {
   "cell_type": "code",
   "execution_count": 231,
   "id": "082bdf70-fe67-4f6d-a89e-0183f6cb8ab9",
   "metadata": {},
   "outputs": [
    {
     "data": {
      "text/plain": [
       "array([[0, 0, 0, 0, 0, 0],\n",
       "       [0, 0, 0, 0, 0, 0],\n",
       "       [0, 0, 0, 0, 0, 0],\n",
       "       [0, 0, 0, 0, 0, 0]])"
      ]
     },
     "execution_count": 231,
     "metadata": {},
     "output_type": "execute_result"
    }
   ],
   "source": [
    "np.zeros((4,6),dtype = int)# we can create multi dimen array with help of np.zeros"
   ]
  },
  {
   "cell_type": "code",
   "execution_count": 187,
   "id": "fc803693-96b0-4f46-93ef-1edc80a8e33f",
   "metadata": {},
   "outputs": [
    {
     "data": {
      "text/plain": [
       "array(['1', '1', '1'], dtype='<U1')"
      ]
     },
     "execution_count": 187,
     "metadata": {},
     "output_type": "execute_result"
    }
   ],
   "source": [
    "np.ones(3,dtype = str)"
   ]
  },
  {
   "cell_type": "code",
   "execution_count": 207,
   "id": "e33eb3e2-0b69-489c-a982-de27372669cd",
   "metadata": {},
   "outputs": [
    {
     "data": {
      "text/plain": [
       "array([[1, 1, 1, 1],\n",
       "       [1, 1, 1, 1]])"
      ]
     },
     "execution_count": 207,
     "metadata": {},
     "output_type": "execute_result"
    }
   ],
   "source": [
    "np.ones((2,4) ,dtype= int )"
   ]
  },
  {
   "cell_type": "code",
   "execution_count": 217,
   "id": "4b11bc7a-b910-410c-a7c5-4e7c27d8c959",
   "metadata": {},
   "outputs": [
    {
     "data": {
      "text/plain": [
       "array([[1, 1, 1, 1, 1, 1, 1],\n",
       "       [1, 1, 1, 1, 1, 1, 1]])"
      ]
     },
     "execution_count": 217,
     "metadata": {},
     "output_type": "execute_result"
    }
   ],
   "source": [
    "np.ones((2,7), dtype = int ) # we can create multidimentional array with np.ones"
   ]
  },
  {
   "cell_type": "code",
   "execution_count": 233,
   "id": "50e34a31-8ff9-4b2a-b7da-e5b32b700493",
   "metadata": {},
   "outputs": [
    {
     "data": {
      "text/plain": [
       "array([0.12837473, 0.36340922, 0.22781021])"
      ]
     },
     "execution_count": 233,
     "metadata": {},
     "output_type": "execute_result"
    }
   ],
   "source": [
    "np.random.rand(3) # random.rand generate always random val by default float "
   ]
  },
  {
   "cell_type": "code",
   "execution_count": 239,
   "id": "622adb98-464e-43b9-85f6-144bd4e67f9f",
   "metadata": {},
   "outputs": [
    {
     "data": {
      "text/plain": [
       "array([[[0.96952359, 0.84734805, 0.88840304, 0.27315074],\n",
       "        [0.13222403, 0.60567702, 0.96853453, 0.002428  ],\n",
       "        [0.01781489, 0.67765694, 0.88085362, 0.06781437],\n",
       "        [0.01412444, 0.19578598, 0.37624859, 0.09309116]],\n",
       "\n",
       "       [[0.07724408, 0.82061212, 0.03696119, 0.01909353],\n",
       "        [0.80072954, 0.68212303, 0.83020103, 0.17748548],\n",
       "        [0.17785864, 0.38734796, 0.41704374, 0.6787951 ],\n",
       "        [0.61809557, 0.1728241 , 0.24230664, 0.11854544]],\n",
       "\n",
       "       [[0.28068168, 0.38629278, 0.67065647, 0.10191504],\n",
       "        [0.13679462, 0.86935281, 0.15922239, 0.64976036],\n",
       "        [0.1022091 , 0.30443151, 0.95793252, 0.85531104],\n",
       "        [0.32241405, 0.52407117, 0.80155335, 0.59818908]]])"
      ]
     },
     "execution_count": 239,
     "metadata": {},
     "output_type": "execute_result"
    }
   ],
   "source": [
    "np.random.rand(3,2)"
   ]
  },
  {
   "cell_type": "code",
   "execution_count": 310,
   "id": "ed39b9cd-8205-4d94-bf77-438ab2ff6a6d",
   "metadata": {},
   "outputs": [
    {
     "data": {
      "text/plain": [
       "1"
      ]
     },
     "execution_count": 310,
     "metadata": {},
     "output_type": "execute_result"
    }
   ],
   "source": [
    "np.random.randint(4) # return random integer"
   ]
  },
  {
   "cell_type": "code",
   "execution_count": 336,
   "id": "c332b5a8-d27f-410b-8bee-f4d778a04d0f",
   "metadata": {},
   "outputs": [
    {
     "data": {
      "text/plain": [
       "7"
      ]
     },
     "execution_count": 336,
     "metadata": {},
     "output_type": "execute_result"
    }
   ],
   "source": [
    "np.random.randint(3,10) # 2nd arg is excluseive "
   ]
  },
  {
   "cell_type": "code",
   "execution_count": 3,
   "id": "aa934968-2e58-409d-a49f-40f008445175",
   "metadata": {},
   "outputs": [
    {
     "data": {
      "text/plain": [
       "array([ 1,  2,  3,  4,  5,  6,  7,  8,  9, 10, 11, 12])"
      ]
     },
     "execution_count": 3,
     "metadata": {},
     "output_type": "execute_result"
    }
   ],
   "source": [
    "np.arange(1,13)   # 1D "
   ]
  },
  {
   "cell_type": "code",
   "execution_count": 13,
   "id": "ecee6f84-4b85-439f-8829-44cd78653e8e",
   "metadata": {},
   "outputs": [
    {
     "data": {
      "text/plain": [
       "array([[ 0,  1,  2,  3,  4],\n",
       "       [ 5,  6,  7,  8,  9],\n",
       "       [10, 11, 12, 13, 14],\n",
       "       [15, 16, 17, 18, 19],\n",
       "       [20, 21, 22, 23, 24]])"
      ]
     },
     "execution_count": 13,
     "metadata": {},
     "output_type": "execute_result"
    }
   ],
   "source": [
    "np.arange(0,25).reshape(5,5)"
   ]
  },
  {
   "cell_type": "code",
   "execution_count": 15,
   "id": "f2664fae-740a-499c-ab34-323e3f37af23",
   "metadata": {},
   "outputs": [
    {
     "data": {
      "text/plain": [
       "array([[[ 0,  1,  2],\n",
       "        [ 3,  4,  5],\n",
       "        [ 6,  7,  8]],\n",
       "\n",
       "       [[ 9, 10, 11],\n",
       "        [12, 13, 14],\n",
       "        [15, 16, 17]],\n",
       "\n",
       "       [[18, 19, 20],\n",
       "        [21, 22, 23],\n",
       "        [24, 25, 26]]])"
      ]
     },
     "execution_count": 15,
     "metadata": {},
     "output_type": "execute_result"
    }
   ],
   "source": [
    "arr_2 = np.arange(0,27).reshape(3,3,3 )  # 2D\n",
    "arr_2"
   ]
  },
  {
   "cell_type": "code",
   "execution_count": 19,
   "id": "c85fc231-02f7-4177-a45b-3911d24ad1f9",
   "metadata": {},
   "outputs": [
    {
     "data": {
      "text/plain": [
       "array([[[ 0,  3,  6],\n",
       "        [ 9, 12, 15],\n",
       "        [18, 21, 24]],\n",
       "\n",
       "       [[27, 30, 33],\n",
       "        [36, 39, 42],\n",
       "        [45, 48, 51]],\n",
       "\n",
       "       [[54, 57, 60],\n",
       "        [63, 66, 69],\n",
       "        [72, 75, 78]]])"
      ]
     },
     "execution_count": 19,
     "metadata": {},
     "output_type": "execute_result"
    }
   ],
   "source": [
    "np.arange(0,81,3).reshape(3,3,3) #3D"
   ]
  },
  {
   "cell_type": "code",
   "execution_count": 23,
   "id": "30052b9c-3bcf-45ab-a055-0d4a0f59c187",
   "metadata": {},
   "outputs": [
    {
     "data": {
      "text/plain": [
       "array([[31, 40,  9, 29, 34],\n",
       "       [57, 58, 28, 46, 17],\n",
       "       [32,  5, 60, 52, 13],\n",
       "       [49, 41, 53,  4, 48],\n",
       "       [22, 58, 13, 11, 43]])"
      ]
     },
     "execution_count": 23,
     "metadata": {},
     "output_type": "execute_result"
    }
   ],
   "source": [
    " np.random.randint(3,67,(5,5)) #its a 2d"
   ]
  },
  {
   "cell_type": "code",
   "execution_count": 25,
   "id": "9d1886e9-1818-459b-a2dd-6936f262db6a",
   "metadata": {},
   "outputs": [
    {
     "data": {
      "text/plain": [
       "array([42, 16, 21, 30,  8, 13, 27, 29, 34, 39])"
      ]
     },
     "execution_count": 25,
     "metadata": {},
     "output_type": "execute_result"
    }
   ],
   "source": [
    "np.random.randint(3,50,10) # third element refer to no of element"
   ]
  },
  {
   "cell_type": "markdown",
   "id": "6ff8d4dc-82b1-4a87-a6aa-bf758adb8327",
   "metadata": {},
   "source": [
    "###Indexing"
   ]
  },
  {
   "cell_type": "code",
   "execution_count": 77,
   "id": "c159fc48-13ba-449e-bedc-c2b2b3115f4f",
   "metadata": {},
   "outputs": [],
   "source": [
    "arr_3 = np.random.randint(2,50,(7,7))"
   ]
  },
  {
   "cell_type": "code",
   "execution_count": 79,
   "id": "9663f214-4fd3-4368-9f29-42a25ff6a247",
   "metadata": {},
   "outputs": [
    {
     "data": {
      "text/plain": [
       "array([[ 5, 28, 15, 39, 24, 15, 45],\n",
       "       [40, 23, 48,  4, 36, 23, 28],\n",
       "       [ 9, 30, 31,  8, 38, 10, 26],\n",
       "       [25, 26,  3, 37, 32, 20, 22],\n",
       "       [44, 32, 41, 46, 28,  5, 49],\n",
       "       [14, 10, 40,  3, 44, 25, 20],\n",
       "       [28, 33,  8, 34, 13, 42, 41]])"
      ]
     },
     "execution_count": 79,
     "metadata": {},
     "output_type": "execute_result"
    }
   ],
   "source": [
    "arr_3"
   ]
  },
  {
   "cell_type": "code",
   "execution_count": 62,
   "id": "81582231-6ae2-41a7-8aba-567d09f30160",
   "metadata": {},
   "outputs": [
    {
     "data": {
      "text/plain": [
       "array([32,  9, 36])"
      ]
     },
     "execution_count": 62,
     "metadata": {},
     "output_type": "execute_result"
    }
   ],
   "source": [
    "arr_3[[3,4,5],[5,2,1]]"
   ]
  },
  {
   "cell_type": "code",
   "execution_count": 46,
   "id": "19ff6b3c-85d8-48b1-a7ef-308c90b8e80a",
   "metadata": {},
   "outputs": [
    {
     "data": {
      "text/plain": [
       "17"
      ]
     },
     "execution_count": 46,
     "metadata": {},
     "output_type": "execute_result"
    }
   ],
   "source": [
    "arr_3[4,5]\n"
   ]
  },
  {
   "cell_type": "code",
   "execution_count": 48,
   "id": "3bd47700-3eeb-48bf-960a-2121230ffdf6",
   "metadata": {},
   "outputs": [
    {
     "data": {
      "text/plain": [
       "32"
      ]
     },
     "execution_count": 48,
     "metadata": {},
     "output_type": "execute_result"
    }
   ],
   "source": [
    "arr_3[-4,5]"
   ]
  },
  {
   "cell_type": "markdown",
   "id": "ff447395-ff78-4af5-8317-a76cc6a1056a",
   "metadata": {},
   "source": [
    "#slicing "
   ]
  },
  {
   "cell_type": "code",
   "execution_count": 52,
   "id": "ec730083-7c9a-42e9-83be-3cf65e4ca5b7",
   "metadata": {},
   "outputs": [
    {
     "data": {
      "text/plain": [
       "array([[10, 48],\n",
       "       [22, 42],\n",
       "       [ 5, 36],\n",
       "       [15, 32],\n",
       "       [ 9, 17],\n",
       "       [27, 13],\n",
       "       [24, 48]])"
      ]
     },
     "execution_count": 52,
     "metadata": {},
     "output_type": "execute_result"
    }
   ],
   "source": [
    "arr_3[:,[2,5]] # all rows and 2,5 columns"
   ]
  },
  {
   "cell_type": "code",
   "execution_count": 54,
   "id": "c4e21764-aaa4-4d12-9ecd-4a590938ae0b",
   "metadata": {},
   "outputs": [
    {
     "data": {
      "text/plain": [
       "array([[16, 31, 29],\n",
       "       [26, 36,  3],\n",
       "       [42, 20, 33],\n",
       "       [14, 22, 37],\n",
       "       [19, 39, 34],\n",
       "       [32, 38, 36],\n",
       "       [16, 23,  3]])"
      ]
     },
     "execution_count": 54,
     "metadata": {},
     "output_type": "execute_result"
    }
   ],
   "source": [
    "arr_3[:,::3] # all rows and  every third column"
   ]
  },
  {
   "cell_type": "code",
   "execution_count": 56,
   "id": "01e08b28-c266-49b6-970e-dda46bd23d27",
   "metadata": {},
   "outputs": [
    {
     "data": {
      "text/plain": [
       "array([[42, 47,  5, 20,  2, 36, 33],\n",
       "       [19, 44,  9, 39, 13, 17, 34]])"
      ]
     },
     "execution_count": 56,
     "metadata": {},
     "output_type": "execute_result"
    }
   ],
   "source": [
    "arr_3[2:6:2,:] #with index slice,all column"
   ]
  },
  {
   "cell_type": "markdown",
   "id": "f7fe84e4-2ee1-41ad-981f-d16e4262ae66",
   "metadata": {},
   "source": [
    "arr_3[:,3:5]"
   ]
  },
  {
   "cell_type": "code",
   "execution_count": 60,
   "id": "7d01f8ee-6b6f-4029-88af-3a39b63265db",
   "metadata": {},
   "outputs": [
    {
     "data": {
      "text/plain": [
       "array([[38, 32, 37],\n",
       "       [13, 17, 34]])"
      ]
     },
     "execution_count": 60,
     "metadata": {},
     "output_type": "execute_result"
    }
   ],
   "source": [
    "arr_3[3:5,4:7]"
   ]
  },
  {
   "cell_type": "markdown",
   "id": "6ae8d31f-45f9-45f8-bb5e-4116e7eef323",
   "metadata": {},
   "source": [
    "masking "
   ]
  },
  {
   "cell_type": "code",
   "execution_count": 69,
   "id": "e552ba51-0f43-4235-8292-903301af7357",
   "metadata": {},
   "outputs": [
    {
     "data": {
      "text/plain": [
       "array([[25, 38, 29],\n",
       "       [49, 20, 47],\n",
       "       [12, 32, 19]])"
      ]
     },
     "execution_count": 69,
     "metadata": {},
     "output_type": "execute_result"
    }
   ],
   "source": [
    "mask_1 = np.random.randint(3,56,(3,3))\n",
    "mask_1"
   ]
  },
  {
   "cell_type": "code",
   "execution_count": 71,
   "id": "5267318a-f2af-4d5e-9bbc-85835fbd8a3d",
   "metadata": {},
   "outputs": [
    {
     "data": {
      "text/plain": [
       "array([[ True,  True,  True],\n",
       "       [ True,  True,  True],\n",
       "       [False,  True,  True]])"
      ]
     },
     "execution_count": 71,
     "metadata": {},
     "output_type": "execute_result"
    }
   ],
   "source": [
    "mask_1>12"
   ]
  },
  {
   "cell_type": "code",
   "execution_count": 73,
   "id": "577c9d3b-6e7e-45bb-8aa4-17f8b48ca5af",
   "metadata": {},
   "outputs": [
    {
     "data": {
      "text/plain": [
       "array([[ True,  True,  True],\n",
       "       [ True,  True,  True],\n",
       "       [ True,  True,  True]])"
      ]
     },
     "execution_count": 73,
     "metadata": {},
     "output_type": "execute_result"
    }
   ],
   "source": [
    "mask_1<54"
   ]
  },
  {
   "cell_type": "markdown",
   "id": "03ca9c1e-8373-4de2-8269-78adc700c2e0",
   "metadata": {},
   "source": [
    "mean,median and mode"
   ]
  },
  {
   "cell_type": "code",
   "execution_count": 78,
   "id": "49825bdb-ee08-4892-ab75-c109171092be",
   "metadata": {},
   "outputs": [
    {
     "data": {
      "text/plain": [
       "array([[22, 44, 37, 59],\n",
       "       [ 3, 33, 48, 13],\n",
       "       [53, 63, 40,  8],\n",
       "       [43, 58, 36,  6]])"
      ]
     },
     "execution_count": 78,
     "metadata": {},
     "output_type": "execute_result"
    }
   ],
   "source": [
    "m = np.random.randint(3,64,(4,4))\n",
    "m"
   ]
  },
  {
   "cell_type": "code",
   "execution_count": 80,
   "id": "07b7cc44-eb5a-4341-b8a4-aefa388ed5bf",
   "metadata": {},
   "outputs": [
    {
     "data": {
      "text/plain": [
       "35.375"
      ]
     },
     "execution_count": 80,
     "metadata": {},
     "output_type": "execute_result"
    }
   ],
   "source": [
    "np.mean(m)"
   ]
  },
  {
   "cell_type": "code",
   "execution_count": 82,
   "id": "6d896054-cf4a-4337-8407-fffc587d199a",
   "metadata": {},
   "outputs": [
    {
     "data": {
      "text/plain": [
       "38.5"
      ]
     },
     "execution_count": 82,
     "metadata": {},
     "output_type": "execute_result"
    }
   ],
   "source": [
    "np.median(m)"
   ]
  },
  {
   "cell_type": "code",
   "execution_count": 84,
   "id": "3f6de524-47af-4956-ab07-1da0e7c4a2ab",
   "metadata": {},
   "outputs": [
    {
     "data": {
      "text/plain": [
       "3"
      ]
     },
     "execution_count": 84,
     "metadata": {},
     "output_type": "execute_result"
    }
   ],
   "source": [
    "np.min(m)"
   ]
  },
  {
   "cell_type": "code",
   "execution_count": 86,
   "id": "994aab6c-a511-4c8a-81bb-583d8fc51733",
   "metadata": {},
   "outputs": [
    {
     "data": {
      "text/plain": [
       "63"
      ]
     },
     "execution_count": 86,
     "metadata": {},
     "output_type": "execute_result"
    }
   ],
   "source": [
    "np.max(m)"
   ]
  },
  {
   "cell_type": "markdown",
   "id": "5107064b-c3de-46d4-bb90-bfd0b81c19c5",
   "metadata": {},
   "source": [
    "Linspace  function"
   ]
  },
  {
   "cell_type": "code",
   "execution_count": 7,
   "id": "81ec99be-cc43-442a-b5a1-d2c98dd16a16",
   "metadata": {},
   "outputs": [
    {
     "data": {
      "text/plain": [
       "array([ 2,  5,  9, 12, 16, 19, 23, 26, 30, 34])"
      ]
     },
     "execution_count": 7,
     "metadata": {},
     "output_type": "execute_result"
    }
   ],
   "source": [
    "np.linspace(2,34,10,dtype = int) # print 10 val between 2,34"
   ]
  },
  {
   "cell_type": "code",
   "execution_count": 140,
   "id": "26a5fb6f-8135-455f-99ea-be8c0c06ad61",
   "metadata": {},
   "outputs": [
    {
     "data": {
      "text/plain": [
       "array([[ 1,  9,  4,  8],\n",
       "       [ 0,  8,  2,  1],\n",
       "       [ 3,  3, 11,  8]])"
      ]
     },
     "execution_count": 140,
     "metadata": {},
     "output_type": "execute_result"
    }
   ],
   "source": [
    "arr_4 = np.random.randint(0,12,(3,4))\n",
    "arr_4 \n"
   ]
  },
  {
   "cell_type": "code",
   "execution_count": 144,
   "id": "8d9ad240-1948-462b-9a7c-dfec6a039c40",
   "metadata": {},
   "outputs": [
    {
     "data": {
      "text/plain": [
       "array([[ 5,  9, 18,  8],\n",
       "       [14, 19,  5, 11],\n",
       "       [14, 12,  7,  3]])"
      ]
     },
     "execution_count": 144,
     "metadata": {},
     "output_type": "execute_result"
    }
   ],
   "source": [
    "arr_5 = np.random.randint(2,20,(3,4))\n",
    "arr_5"
   ]
  },
  {
   "cell_type": "code",
   "execution_count": 35,
   "id": "6578a6bb-4e57-44c4-ad16-c6b2627ffd3c",
   "metadata": {},
   "outputs": [
    {
     "data": {
      "text/plain": [
       "array([11,  9, 11])"
      ]
     },
     "execution_count": 35,
     "metadata": {},
     "output_type": "execute_result"
    }
   ],
   "source": [
    "np.max(arr_4,axis = 1) #row ke sabhi max element"
   ]
  },
  {
   "cell_type": "code",
   "execution_count": 37,
   "id": "a0259549-a929-4d44-b52b-cf51b49f688c",
   "metadata": {},
   "outputs": [
    {
     "data": {
      "text/plain": [
       "array([11, 11,  7, 10])"
      ]
     },
     "execution_count": 37,
     "metadata": {},
     "output_type": "execute_result"
    }
   ],
   "source": [
    "np.max(arr_4,axis = 0) # column ke sabhi max element"
   ]
  },
  {
   "cell_type": "code",
   "execution_count": 43,
   "id": "daa85a9a-8438-4284-afe0-b805b6d54b34",
   "metadata": {},
   "outputs": [
    {
     "data": {
      "text/plain": [
       "array([10, 19, 21, 21, 30])"
      ]
     },
     "execution_count": 43,
     "metadata": {},
     "output_type": "execute_result"
    }
   ],
   "source": [
    "ar1d = np.random.randint(1,35,5)\n",
    "ar1d"
   ]
  },
  {
   "cell_type": "code",
   "execution_count": 45,
   "id": "046bbe1d-1999-45d6-b218-a3320308c8fd",
   "metadata": {},
   "outputs": [
    {
     "data": {
      "text/plain": [
       "array([32, 12, 43, 22, 21])"
      ]
     },
     "execution_count": 45,
     "metadata": {},
     "output_type": "execute_result"
    }
   ],
   "source": [
    "arr1d = np.random.randint(2,45,5)\n",
    "arr1d "
   ]
  },
  {
   "cell_type": "code",
   "execution_count": 47,
   "id": "398eb2b3-d270-49ba-b4a9-0508870efbe8",
   "metadata": {},
   "outputs": [
    {
     "data": {
      "text/plain": [
       "2543"
      ]
     },
     "execution_count": 47,
     "metadata": {},
     "output_type": "execute_result"
    }
   ],
   "source": [
    "np.dot(ar1d,arr1d)"
   ]
  },
  {
   "cell_type": "code",
   "execution_count": 61,
   "id": "a3d0a215-a947-49bc-b911-9fb05f0c1732",
   "metadata": {},
   "outputs": [
    {
     "data": {
      "text/plain": [
       "4.0"
      ]
     },
     "execution_count": 61,
     "metadata": {},
     "output_type": "execute_result"
    }
   ],
   "source": [
    "np.ceil(3.5)"
   ]
  },
  {
   "cell_type": "code",
   "execution_count": 65,
   "id": "c28f2b99-1dae-4078-82f0-1331842a1901",
   "metadata": {},
   "outputs": [
    {
     "data": {
      "text/plain": [
       "4.0"
      ]
     },
     "execution_count": 65,
     "metadata": {},
     "output_type": "execute_result"
    }
   ],
   "source": [
    "np.floor(4.1)"
   ]
  },
  {
   "cell_type": "code",
   "execution_count": 71,
   "id": "cb8ba743-8350-4e08-86b7-df52e73c7e99",
   "metadata": {},
   "outputs": [
    {
     "data": {
      "text/plain": [
       "5.7"
      ]
     },
     "execution_count": 71,
     "metadata": {},
     "output_type": "execute_result"
    }
   ],
   "source": [
    "np.round(5.66677,1) # 1 mens decimal num "
   ]
  },
  {
   "cell_type": "code",
   "execution_count": 197,
   "id": "5b2da90a-45ab-4534-a7b8-d77f3e6fbcba",
   "metadata": {},
   "outputs": [
    {
     "data": {
      "text/plain": [
       "array([[ 5, 28, 15, 39, 24, 15, 45],\n",
       "       [40, 23, 48,  4, 36, 23, 28],\n",
       "       [ 9, 30, 31,  8, 38, 10, 26],\n",
       "       [25, 26,  3, 37, 32, 20, 22],\n",
       "       [44, 32, 41, 46, 28,  5, 49],\n",
       "       [14, 10, 40,  3, 44, 25, 20],\n",
       "       [28, 33,  8, 34, 13, 42, 41]])"
      ]
     },
     "execution_count": 197,
     "metadata": {},
     "output_type": "execute_result"
    }
   ],
   "source": [
    "arr_3"
   ]
  },
  {
   "cell_type": "markdown",
   "id": "f84d250b-b93c-4bfa-b0b7-0e3abecc456c",
   "metadata": {},
   "source": [
    "### indexing "
   ]
  },
  {
   "cell_type": "code",
   "execution_count": 83,
   "id": "694b9cc0-5b1f-479f-b6c1-d40baf615995",
   "metadata": {},
   "outputs": [
    {
     "data": {
      "text/plain": [
       "32"
      ]
     },
     "execution_count": 83,
     "metadata": {},
     "output_type": "execute_result"
    }
   ],
   "source": [
    "arr_3[3,4] "
   ]
  },
  {
   "cell_type": "code",
   "execution_count": 195,
   "id": "c0fc50e9-79d4-4da5-b3dd-7bcbe5ce4ce7",
   "metadata": {},
   "outputs": [],
   "source": [
    "#### fancy indexing "
   ]
  },
  {
   "cell_type": "code",
   "execution_count": 209,
   "id": "14e9654f-e718-4999-aa4d-f5d1cbf94a3b",
   "metadata": {},
   "outputs": [
    {
     "data": {
      "text/plain": [
       "array([39, 38,  3])"
      ]
     },
     "execution_count": 209,
     "metadata": {},
     "output_type": "execute_result"
    }
   ],
   "source": [
    "arr_3[[0,2,3],[3,4,2]] # first is row and second is column"
   ]
  },
  {
   "cell_type": "markdown",
   "id": "98e37fb5-a4eb-4db8-b438-7278e9e8f67f",
   "metadata": {},
   "source": [
    "### slicing "
   ]
  },
  {
   "cell_type": "code",
   "execution_count": 99,
   "id": "98eeb3c6-1439-4d24-a19e-913bf4ecb886",
   "metadata": {},
   "outputs": [
    {
     "data": {
      "text/plain": [
       "array([[39, 24],\n",
       "       [ 4, 36],\n",
       "       [ 8, 38],\n",
       "       [37, 32],\n",
       "       [46, 28],\n",
       "       [ 3, 44],\n",
       "       [34, 13]])"
      ]
     },
     "execution_count": 99,
     "metadata": {},
     "output_type": "execute_result"
    }
   ],
   "source": [
    "arr_3[::,3:5] # slicing "
   ]
  },
  {
   "cell_type": "code",
   "execution_count": 110,
   "id": "90e2f646-e226-4fcf-a29e-191ef02e2252",
   "metadata": {},
   "outputs": [
    {
     "data": {
      "text/plain": [
       "array([[ 5, 40,  9, 25, 44, 14, 28],\n",
       "       [28, 23, 30, 26, 32, 10, 33],\n",
       "       [15, 48, 31,  3, 41, 40,  8],\n",
       "       [39,  4,  8, 37, 46,  3, 34],\n",
       "       [24, 36, 38, 32, 28, 44, 13],\n",
       "       [15, 23, 10, 20,  5, 25, 42],\n",
       "       [45, 28, 26, 22, 49, 20, 41]])"
      ]
     },
     "execution_count": 110,
     "metadata": {},
     "output_type": "execute_result"
    }
   ],
   "source": [
    "np.transpose(arr_3)"
   ]
  },
  {
   "cell_type": "markdown",
   "id": "350a2247-faaf-4ee8-94cc-1b8c42ee1ba9",
   "metadata": {},
   "source": [
    "### revel and flaten"
   ]
  },
  {
   "cell_type": "code",
   "execution_count": 123,
   "id": "d04d298b-2b8f-448b-97a7-abc9097c818b",
   "metadata": {},
   "outputs": [
    {
     "data": {
      "text/plain": [
       "array([ 5, 28, 15, 39, 24, 15, 45, 40, 23, 48,  4, 36, 23, 28,  9, 30, 31,\n",
       "        8, 38, 10, 26, 25, 26,  3, 37, 32, 20, 22, 44, 32, 41, 46, 28,  5,\n",
       "       49, 14, 10, 40,  3, 44, 25, 20, 28, 33,  8, 34, 13, 42, 41])"
      ]
     },
     "execution_count": 123,
     "metadata": {},
     "output_type": "execute_result"
    }
   ],
   "source": [
    "np.ravel(arr_3) # cnage nd arrary into 1d array "
   ]
  },
  {
   "cell_type": "code",
   "execution_count": 135,
   "id": "a1dead3c-fde0-4599-b480-14b17e004728",
   "metadata": {},
   "outputs": [
    {
     "data": {
      "text/plain": [
       "array([ 5, 40,  9, 25, 44, 14, 28, 28, 23, 30, 26, 32, 10, 33, 15, 48, 31,\n",
       "        3, 41, 40,  8, 39,  4,  8, 37, 46,  3, 34, 24, 36, 38, 32, 28, 44,\n",
       "       13, 15, 23, 10, 20,  5, 25, 42, 45, 28, 26, 22, 49, 20, 41])"
      ]
     },
     "execution_count": 135,
     "metadata": {},
     "output_type": "execute_result"
    }
   ],
   "source": [
    "np.ravel(arr_3, order = \"F\") "
   ]
  },
  {
   "cell_type": "code",
   "execution_count": 159,
   "id": "89e92136-8927-4c34-81ef-8ee906e4b98a",
   "metadata": {},
   "outputs": [
    {
     "data": {
      "text/plain": [
       "array([ 5, 40,  9, 25, 44, 14, 28, 28, 23, 30, 26, 32, 10, 33, 15, 48, 31,\n",
       "        3, 41, 40,  8, 39,  4,  8, 37, 46,  3, 34, 24, 36, 38, 32, 28, 44,\n",
       "       13, 15, 23, 10, 20,  5, 25, 42, 45, 28, 26, 22, 49, 20, 41])"
      ]
     },
     "execution_count": 159,
     "metadata": {},
     "output_type": "execute_result"
    }
   ],
   "source": [
    "mask = np.ravel(arr_3, order='F')\n",
    "mask\n"
   ]
  },
  {
   "cell_type": "markdown",
   "id": "a7073e33-febb-4755-9862-47479d855ecc",
   "metadata": {},
   "source": [
    "### Stacking---"
   ]
  },
  {
   "cell_type": "code",
   "execution_count": 156,
   "id": "6c8fe7e8-a960-4000-a799-b16dbc961728",
   "metadata": {},
   "outputs": [
    {
     "data": {
      "text/plain": [
       "array([[ 1,  9,  4,  8,  5,  9, 18,  8],\n",
       "       [ 0,  8,  2,  1, 14, 19,  5, 11],\n",
       "       [ 3,  3, 11,  8, 14, 12,  7,  3]])"
      ]
     },
     "execution_count": 156,
     "metadata": {},
     "output_type": "execute_result"
    }
   ],
   "source": [
    "np.hstack((arr_4,arr_5))  # joine two array with columns axixs "
   ]
  },
  {
   "cell_type": "code",
   "execution_count": 267,
   "id": "5f77ffca-ba21-40bb-a3eb-b8495e25d318",
   "metadata": {},
   "outputs": [
    {
     "data": {
      "text/plain": [
       "array([[ 1,  9,  4,  8],\n",
       "       [ 0,  8,  2,  1],\n",
       "       [ 3,  3, 11,  8],\n",
       "       [ 5,  9, 18,  8],\n",
       "       [14, 19,  5, 11],\n",
       "       [14, 12,  7,  3]])"
      ]
     },
     "execution_count": 267,
     "metadata": {},
     "output_type": "execute_result"
    }
   ],
   "source": [
    "np.concatenate ((arr_4,arr_5)) # joine two array with row axis"
   ]
  },
  {
   "cell_type": "markdown",
   "id": "77f41082-7dc5-4045-9e8b-6ad418b74472",
   "metadata": {},
   "source": [
    "#### masking "
   ]
  },
  {
   "cell_type": "code",
   "execution_count": 173,
   "id": "da2db5cf-31f6-4868-b14c-d4818b2544a6",
   "metadata": {},
   "outputs": [
    {
     "data": {
      "text/plain": [
       "array([ True, False,  True, False, False, False, False, False, False,\n",
       "       False, False, False,  True, False, False, False, False,  True,\n",
       "       False, False,  True, False,  True,  True, False, False,  True,\n",
       "       False, False, False, False, False, False, False,  True, False,\n",
       "       False,  True, False,  True, False, False, False, False, False,\n",
       "       False, False, False, False])"
      ]
     },
     "execution_count": 173,
     "metadata": {},
     "output_type": "execute_result"
    }
   ],
   "source": [
    "mask <14"
   ]
  },
  {
   "cell_type": "markdown",
   "id": "eee659fe-d0cf-4ab4-a8a6-836a4e265881",
   "metadata": {},
   "source": [
    "(mask < 39) & (mask > 14) # masking with & operator "
   ]
  },
  {
   "cell_type": "markdown",
   "id": "b775ec27-28e7-478d-bbe1-368735dd20af",
   "metadata": {},
   "source": [
    "## brodcasting "
   ]
  },
  {
   "cell_type": "code",
   "execution_count": null,
   "id": "d06da9d5-2980-4e4a-b74f-3ee149d0c869",
   "metadata": {},
   "outputs": [],
   "source": [
    "# it gice a feature which give permition to operation with arry"
   ]
  },
  {
   "cell_type": "code",
   "execution_count": 228,
   "id": "918802ce-1660-43db-85d4-4a498804dad1",
   "metadata": {},
   "outputs": [],
   "source": [
    "a = np.array([[1, 2, 3], \n",
    "              [4, 5, 6]])"
   ]
  },
  {
   "cell_type": "code",
   "execution_count": 230,
   "id": "410ca530-6a29-44f2-8e2b-28bb7296f118",
   "metadata": {},
   "outputs": [],
   "source": [
    "b = np.array([10, 20, 30]) "
   ]
  },
  {
   "cell_type": "code",
   "execution_count": 232,
   "id": "d2798ef0-99d8-4f4b-841d-073e49ba92ef",
   "metadata": {},
   "outputs": [
    {
     "data": {
      "text/plain": [
       "array([[11, 22, 33],\n",
       "       [14, 25, 36]])"
      ]
     },
     "execution_count": 232,
     "metadata": {},
     "output_type": "execute_result"
    }
   ],
   "source": [
    "a + b"
   ]
  },
  {
   "cell_type": "markdown",
   "id": "146cfaee-648c-4120-97b0-997ef27629a9",
   "metadata": {},
   "source": [
    "#### working with non value "
   ]
  },
  {
   "cell_type": "code",
   "execution_count": 249,
   "id": "48599cca-3ec5-4d3b-9d14-7cbca69dfb9e",
   "metadata": {},
   "outputs": [
    {
     "data": {
      "text/plain": [
       "array([ 3.,  3.,  4., nan, 45.])"
      ]
     },
     "execution_count": 249,
     "metadata": {},
     "output_type": "execute_result"
    }
   ],
   "source": [
    "S = np.array([3,3,4,np.nan,45])\n",
    "S"
   ]
  },
  {
   "cell_type": "code",
   "execution_count": 253,
   "id": "02279a24-74b5-4cc9-b7c2-56bb4dc915fb",
   "metadata": {},
   "outputs": [
    {
     "data": {
      "text/plain": [
       "array([False, False, False,  True, False])"
      ]
     },
     "execution_count": 253,
     "metadata": {},
     "output_type": "execute_result"
    }
   ],
   "source": [
    "np.isnan(S)"
   ]
  },
  {
   "cell_type": "markdown",
   "id": "483cd25e-c6d4-46ae-9d0e-21c81456f642",
   "metadata": {},
   "source": [
    "##### unique value"
   ]
  },
  {
   "cell_type": "code",
   "execution_count": 274,
   "id": "d4a1816b-4d38-4c5b-8e0b-3cf7f2d7609a",
   "metadata": {},
   "outputs": [
    {
     "data": {
      "text/plain": [
       "array([ 3.,  4., 45., nan])"
      ]
     },
     "execution_count": 274,
     "metadata": {},
     "output_type": "execute_result"
    }
   ],
   "source": [
    "np.unique(S) # it not repeat value on the data set \n"
   ]
  },
  {
   "cell_type": "code",
   "execution_count": null,
   "id": "5a7ac566-11cb-46ef-a61f-403ac0ced146",
   "metadata": {},
   "outputs": [],
   "source": []
  },
  {
   "cell_type": "code",
   "execution_count": null,
   "id": "34b6a3a8-c0a7-446d-9b1a-3baea42b7bbe",
   "metadata": {},
   "outputs": [],
   "source": []
  },
  {
   "cell_type": "code",
   "execution_count": null,
   "id": "c2441293-f501-4124-83e1-2a994bfea0b7",
   "metadata": {},
   "outputs": [],
   "source": []
  }
 ],
 "metadata": {
  "kernelspec": {
   "display_name": "Python [conda env:base] *",
   "language": "python",
   "name": "conda-base-py"
  },
  "language_info": {
   "codemirror_mode": {
    "name": "ipython",
    "version": 3
   },
   "file_extension": ".py",
   "mimetype": "text/x-python",
   "name": "python",
   "nbconvert_exporter": "python",
   "pygments_lexer": "ipython3",
   "version": "3.12.7"
  }
 },
 "nbformat": 4,
 "nbformat_minor": 5
}
